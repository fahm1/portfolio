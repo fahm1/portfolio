{
 "cells": [
  {
   "cell_type": "markdown",
   "metadata": {},
   "source": [
    "### title"
   ]
  },
  {
   "cell_type": "code",
   "execution_count": 1,
   "metadata": {},
   "outputs": [],
   "source": [
    "import numpy as np\n",
    "import pandas as pd\n",
    "import matplotlib.pyplot as plt\n",
    "import seaborn as sns\n",
    "import os"
   ]
  },
  {
   "cell_type": "code",
   "execution_count": 9,
   "metadata": {},
   "outputs": [
    {
     "data": {
      "text/plain": [
       "['dailyActivity_merged.csv',\n",
       " 'dailyCalories_merged.csv',\n",
       " 'dailyIntensities_merged.csv',\n",
       " 'dailySteps_merged.csv',\n",
       " 'heartrate_seconds_merged.csv',\n",
       " 'hourlyCalories_merged.csv',\n",
       " 'hourlyIntensities_merged.csv',\n",
       " 'hourlySteps_merged.csv',\n",
       " 'minuteCaloriesNarrow_merged.csv',\n",
       " 'minuteCaloriesWide_merged.csv',\n",
       " 'minuteIntensitiesNarrow_merged.csv',\n",
       " 'minuteIntensitiesWide_merged.csv',\n",
       " 'minuteMETsNarrow_merged.csv',\n",
       " 'minuteSleep_merged.csv',\n",
       " 'minuteStepsNarrow_merged.csv',\n",
       " 'minuteStepsWide_merged.csv',\n",
       " 'sleepDay_merged.csv',\n",
       " 'weightLogInfo_merged.csv']"
      ]
     },
     "execution_count": 9,
     "metadata": {},
     "output_type": "execute_result"
    }
   ],
   "source": [
    "os.listdir(r'C:\\Users\\fahmi\\Documents\\Portfolio\\Large Files\\Data_Fitbase')"
   ]
  },
  {
   "cell_type": "code",
   "execution_count": 10,
   "metadata": {},
   "outputs": [],
   "source": [
    "original = pd.read_csv(r'C:\\Users\\fahmi\\Documents\\Portfolio\\Large Files\\Data_Fitbase/minuteSleep_merged.csv', \n",
    "                       parse_dates=['date'], infer_datetime_format=False)"
   ]
  },
  {
   "cell_type": "code",
   "execution_count": 82,
   "metadata": {},
   "outputs": [],
   "source": [
    "df_sleep = original.copy().drop(columns='logId').rename(columns={'Id': 'id', 'date': 'date_time'})"
   ]
  },
  {
   "cell_type": "code",
   "execution_count": 83,
   "metadata": {},
   "outputs": [],
   "source": [
    "def df_info(df: pd.DataFrame, name: str):\n",
    "    '''Prints columns and shape of a dataframe'''\n",
    "    print(f'{name}:\\n\\tColumns: {list(df.columns)}\\n\\tShape: {df.shape}')"
   ]
  },
  {
   "cell_type": "code",
   "execution_count": 84,
   "metadata": {},
   "outputs": [
    {
     "name": "stdout",
     "output_type": "stream",
     "text": [
      "df_sleep:\n",
      "\tColumns: ['id', 'date_time', 'value']\n",
      "\tShape: (188521, 3)\n"
     ]
    }
   ],
   "source": [
    "df_info(df_sleep, 'df_sleep')"
   ]
  },
  {
   "cell_type": "code",
   "execution_count": 85,
   "metadata": {},
   "outputs": [
    {
     "data": {
      "text/html": [
       "<div>\n",
       "<style scoped>\n",
       "    .dataframe tbody tr th:only-of-type {\n",
       "        vertical-align: middle;\n",
       "    }\n",
       "\n",
       "    .dataframe tbody tr th {\n",
       "        vertical-align: top;\n",
       "    }\n",
       "\n",
       "    .dataframe thead th {\n",
       "        text-align: right;\n",
       "    }\n",
       "</style>\n",
       "<table border=\"1\" class=\"dataframe\">\n",
       "  <thead>\n",
       "    <tr style=\"text-align: right;\">\n",
       "      <th></th>\n",
       "      <th>id</th>\n",
       "      <th>date_time</th>\n",
       "      <th>value</th>\n",
       "    </tr>\n",
       "  </thead>\n",
       "  <tbody>\n",
       "    <tr>\n",
       "      <th>0</th>\n",
       "      <td>1503960366</td>\n",
       "      <td>2016-04-12 02:47:30</td>\n",
       "      <td>3</td>\n",
       "    </tr>\n",
       "    <tr>\n",
       "      <th>1</th>\n",
       "      <td>1503960366</td>\n",
       "      <td>2016-04-12 02:48:30</td>\n",
       "      <td>2</td>\n",
       "    </tr>\n",
       "    <tr>\n",
       "      <th>2</th>\n",
       "      <td>1503960366</td>\n",
       "      <td>2016-04-12 02:49:30</td>\n",
       "      <td>1</td>\n",
       "    </tr>\n",
       "  </tbody>\n",
       "</table>\n",
       "</div>"
      ],
      "text/plain": [
       "           id           date_time  value\n",
       "0  1503960366 2016-04-12 02:47:30      3\n",
       "1  1503960366 2016-04-12 02:48:30      2\n",
       "2  1503960366 2016-04-12 02:49:30      1"
      ]
     },
     "execution_count": 85,
     "metadata": {},
     "output_type": "execute_result"
    }
   ],
   "source": [
    "df_sleep.head(3)"
   ]
  },
  {
   "cell_type": "markdown",
   "metadata": {},
   "source": [
    "### Sleep Analysis"
   ]
  },
  {
   "cell_type": "code",
   "execution_count": 86,
   "metadata": {},
   "outputs": [],
   "source": [
    "df_sleep['day_of_week'] = df_sleep['date_time'].dt.day_name()\n",
    "df_sleep['date'] = df_sleep['date_time'].dt.date"
   ]
  },
  {
   "cell_type": "code",
   "execution_count": 87,
   "metadata": {},
   "outputs": [
    {
     "data": {
      "text/html": [
       "<div>\n",
       "<style scoped>\n",
       "    .dataframe tbody tr th:only-of-type {\n",
       "        vertical-align: middle;\n",
       "    }\n",
       "\n",
       "    .dataframe tbody tr th {\n",
       "        vertical-align: top;\n",
       "    }\n",
       "\n",
       "    .dataframe thead th {\n",
       "        text-align: right;\n",
       "    }\n",
       "</style>\n",
       "<table border=\"1\" class=\"dataframe\">\n",
       "  <thead>\n",
       "    <tr style=\"text-align: right;\">\n",
       "      <th></th>\n",
       "      <th>id</th>\n",
       "      <th>date_time</th>\n",
       "      <th>value</th>\n",
       "      <th>day_of_week</th>\n",
       "      <th>date</th>\n",
       "    </tr>\n",
       "  </thead>\n",
       "  <tbody>\n",
       "    <tr>\n",
       "      <th>0</th>\n",
       "      <td>1503960366</td>\n",
       "      <td>2016-04-12 02:47:30</td>\n",
       "      <td>3</td>\n",
       "      <td>Tuesday</td>\n",
       "      <td>2016-04-12</td>\n",
       "    </tr>\n",
       "    <tr>\n",
       "      <th>1</th>\n",
       "      <td>1503960366</td>\n",
       "      <td>2016-04-12 02:48:30</td>\n",
       "      <td>2</td>\n",
       "      <td>Tuesday</td>\n",
       "      <td>2016-04-12</td>\n",
       "    </tr>\n",
       "    <tr>\n",
       "      <th>2</th>\n",
       "      <td>1503960366</td>\n",
       "      <td>2016-04-12 02:49:30</td>\n",
       "      <td>1</td>\n",
       "      <td>Tuesday</td>\n",
       "      <td>2016-04-12</td>\n",
       "    </tr>\n",
       "  </tbody>\n",
       "</table>\n",
       "</div>"
      ],
      "text/plain": [
       "           id           date_time  value day_of_week        date\n",
       "0  1503960366 2016-04-12 02:47:30      3     Tuesday  2016-04-12\n",
       "1  1503960366 2016-04-12 02:48:30      2     Tuesday  2016-04-12\n",
       "2  1503960366 2016-04-12 02:49:30      1     Tuesday  2016-04-12"
      ]
     },
     "execution_count": 87,
     "metadata": {},
     "output_type": "execute_result"
    }
   ],
   "source": [
    "df_sleep.head(3)"
   ]
  },
  {
   "cell_type": "code",
   "execution_count": 88,
   "metadata": {},
   "outputs": [],
   "source": [
    "df_sleep['time_diff'] = df_sleep.groupby('id')['date_time'].diff()"
   ]
  },
  {
   "cell_type": "code",
   "execution_count": 89,
   "metadata": {},
   "outputs": [
    {
     "data": {
      "text/html": [
       "<div>\n",
       "<style scoped>\n",
       "    .dataframe tbody tr th:only-of-type {\n",
       "        vertical-align: middle;\n",
       "    }\n",
       "\n",
       "    .dataframe tbody tr th {\n",
       "        vertical-align: top;\n",
       "    }\n",
       "\n",
       "    .dataframe thead th {\n",
       "        text-align: right;\n",
       "    }\n",
       "</style>\n",
       "<table border=\"1\" class=\"dataframe\">\n",
       "  <thead>\n",
       "    <tr style=\"text-align: right;\">\n",
       "      <th></th>\n",
       "      <th>id</th>\n",
       "      <th>date_time</th>\n",
       "      <th>value</th>\n",
       "      <th>day_of_week</th>\n",
       "      <th>date</th>\n",
       "      <th>time_diff</th>\n",
       "    </tr>\n",
       "  </thead>\n",
       "  <tbody>\n",
       "    <tr>\n",
       "      <th>0</th>\n",
       "      <td>1503960366</td>\n",
       "      <td>2016-04-12 02:47:30</td>\n",
       "      <td>3</td>\n",
       "      <td>Tuesday</td>\n",
       "      <td>2016-04-12</td>\n",
       "      <td>NaT</td>\n",
       "    </tr>\n",
       "    <tr>\n",
       "      <th>1</th>\n",
       "      <td>1503960366</td>\n",
       "      <td>2016-04-12 02:48:30</td>\n",
       "      <td>2</td>\n",
       "      <td>Tuesday</td>\n",
       "      <td>2016-04-12</td>\n",
       "      <td>0 days 00:01:00</td>\n",
       "    </tr>\n",
       "    <tr>\n",
       "      <th>2</th>\n",
       "      <td>1503960366</td>\n",
       "      <td>2016-04-12 02:49:30</td>\n",
       "      <td>1</td>\n",
       "      <td>Tuesday</td>\n",
       "      <td>2016-04-12</td>\n",
       "      <td>0 days 00:01:00</td>\n",
       "    </tr>\n",
       "    <tr>\n",
       "      <th>3</th>\n",
       "      <td>1503960366</td>\n",
       "      <td>2016-04-12 02:50:30</td>\n",
       "      <td>1</td>\n",
       "      <td>Tuesday</td>\n",
       "      <td>2016-04-12</td>\n",
       "      <td>0 days 00:01:00</td>\n",
       "    </tr>\n",
       "    <tr>\n",
       "      <th>4</th>\n",
       "      <td>1503960366</td>\n",
       "      <td>2016-04-12 02:51:30</td>\n",
       "      <td>1</td>\n",
       "      <td>Tuesday</td>\n",
       "      <td>2016-04-12</td>\n",
       "      <td>0 days 00:01:00</td>\n",
       "    </tr>\n",
       "  </tbody>\n",
       "</table>\n",
       "</div>"
      ],
      "text/plain": [
       "           id           date_time  value day_of_week        date  \\\n",
       "0  1503960366 2016-04-12 02:47:30      3     Tuesday  2016-04-12   \n",
       "1  1503960366 2016-04-12 02:48:30      2     Tuesday  2016-04-12   \n",
       "2  1503960366 2016-04-12 02:49:30      1     Tuesday  2016-04-12   \n",
       "3  1503960366 2016-04-12 02:50:30      1     Tuesday  2016-04-12   \n",
       "4  1503960366 2016-04-12 02:51:30      1     Tuesday  2016-04-12   \n",
       "\n",
       "        time_diff  \n",
       "0             NaT  \n",
       "1 0 days 00:01:00  \n",
       "2 0 days 00:01:00  \n",
       "3 0 days 00:01:00  \n",
       "4 0 days 00:01:00  "
      ]
     },
     "execution_count": 89,
     "metadata": {},
     "output_type": "execute_result"
    }
   ],
   "source": [
    "df_sleep.head(5)"
   ]
  },
  {
   "cell_type": "code",
   "execution_count": 90,
   "metadata": {},
   "outputs": [
    {
     "data": {
      "text/plain": [
       "0 days 00:01:00    188061\n",
       "0 days 18:36:00         3\n",
       "0 days 14:37:00         3\n",
       "0 days 16:24:00         3\n",
       "0 days 16:01:00         3\n",
       "                    ...  \n",
       "0 days 00:32:30         1\n",
       "1 days 05:20:00         1\n",
       "0 days 07:04:00         1\n",
       "0 days 05:21:30         1\n",
       "0 days 15:16:30         1\n",
       "Name: time_diff, Length: 376, dtype: int64"
      ]
     },
     "execution_count": 90,
     "metadata": {},
     "output_type": "execute_result"
    }
   ],
   "source": [
    "df_sleep.time_diff.value_counts()"
   ]
  },
  {
   "cell_type": "code",
   "execution_count": 91,
   "metadata": {},
   "outputs": [],
   "source": [
    "df_sleep = df_sleep[df_sleep.time_diff == np.timedelta64(1, 'm')]"
   ]
  },
  {
   "cell_type": "code",
   "execution_count": 92,
   "metadata": {},
   "outputs": [
    {
     "name": "stdout",
     "output_type": "stream",
     "text": [
      "df_sleep:\n",
      "\tColumns: ['id', 'date_time', 'value', 'day_of_week', 'date', 'time_diff']\n",
      "\tShape: (188061, 6)\n"
     ]
    }
   ],
   "source": [
    "df_info(df_sleep, 'df_sleep')"
   ]
  },
  {
   "cell_type": "code",
   "execution_count": 93,
   "metadata": {},
   "outputs": [
    {
     "name": "stdout",
     "output_type": "stream",
     "text": [
      "IDs:\n",
      "[1503960366 1644430081 1844505072 1927972279 2026352035 2320127002\n",
      " 2347167796 3977333714 4020332650 4319703577 4388161847 4445114986\n",
      " 4558609924 4702921684 5553957443 5577150313 6117666160 6775888955\n",
      " 6962181067 7007744171 7086361926 8053475328 8378563200 8792009665]\n",
      "Length:24\n"
     ]
    }
   ],
   "source": [
    "print(f'IDs:\\n{df_sleep.id.unique()}\\nLength:{len(df_sleep.id.unique())}')"
   ]
  },
  {
   "cell_type": "code",
   "execution_count": 94,
   "metadata": {},
   "outputs": [],
   "source": [
    "def plot_sleep(df_sleep: pd.DataFrame, id: int):\n",
    "    '''\n",
    "    Plots sleep data for a given id by sleep_value\n",
    "    \n",
    "        Parameters:\n",
    "            df_sleep (pd.DataFrame): Dataframe with sleep data to plot\n",
    "            id (int):                ID of the user to be analyzed\n",
    "    '''\n",
    "\n",
    "    WEEK_ORDER= ['Monday', 'Tuesday', 'Wednesday',\n",
    "                 'Thursday', 'Friday', 'Saturday', 'Sunday']\n",
    "    SLEEP_TYPE = ['Asleep', 'Restless', 'Awake in Bed']\n",
    "\n",
    "    fig, axes = plt.subplots(nrows=1, ncols=3, figsize=(22, 8))\n",
    "    df_id = df_sleep.loc[df_sleep.id == id]\n",
    "    \n",
    "    for idx, ax in enumerate(axes):\n",
    "\n",
    "        minutes = df_id.loc[df_id.value == idx + 1].groupby('day_of_week')['value'].sum()\n",
    "        days = df_id.groupby('date').day_of_week.value_counts()\n",
    "\n",
    "        days_count = {}\n",
    "        for i in range(len(days)):\n",
    "            days_count[days.index[i][1]] = days_count.get(days.index[i][1], 0) + 1\n",
    "\n",
    "        for i in minutes.index:\n",
    "            minutes[i] /= days_count[i]\n",
    "\n",
    "        sns.barplot(\n",
    "            orient='h', x=minutes.values, y=minutes.index, \n",
    "            palette='icefire', order=WEEK_ORDER, alpha=0.8, ax=ax\n",
    "        )\n",
    "\n",
    "        # if idx > 0:\n",
    "        #     ax.set_yticks([])\n",
    "        ax.yaxis.set_tick_params(length=0)\n",
    "        ax.set_ylabel('')\n",
    "        ax.tick_params(axis='both', labelsize=14)\n",
    "        ax.set_xlabel(xlabel=f'Minutes {SLEEP_TYPE[idx]}', fontsize=14, labelpad=10)\n",
    "\n",
    "        ax.set_title(f'Minutes {SLEEP_TYPE[idx]} by Day of Week',\n",
    "                    fontsize=16, loc='left', pad=20)\n",
    "\n",
    "        ax.grid(axis='x', linestyle='--', alpha=0.8)\n",
    "        sns.despine()\n",
    "    \n",
    "    fig.suptitle('Minutes Spent in Each Sleep State by Day of the Week', \n",
    "                 fontsize=22, x=0.123, y=1.05, ha='left')"
   ]
  },
  {
   "cell_type": "code",
   "execution_count": 97,
   "metadata": {},
   "outputs": [],
   "source": [
    "ids = df_sleep.id.unique()"
   ]
  },
  {
   "cell_type": "code",
   "execution_count": 102,
   "metadata": {},
   "outputs": [
    {
     "data": {
      "image/png": "[encoded data removed]",
      "text/plain": [
       "<Figure size 1584x576 with 3 Axes>"
      ]
     },
     "metadata": {
      "needs_background": "light"
     },
     "output_type": "display_data"
    }
   ],
   "source": [
    "plot_sleep(df_sleep, id=ids[0])"
   ]
  }
 ],
 "metadata": {
  "interpreter": {
   "hash": "7bda54b875d3f25ca78a01575a5b2eb5a7be9fc3ff897d4e779930b97ce22030"
  },
  "kernelspec": {
   "display_name": "Python 3.9.6 64-bit",
   "language": "python",
   "name": "python3"
  },
  "language_info": {
   "codemirror_mode": {
    "name": "ipython",
    "version": 3
   },
   "file_extension": ".py",
   "mimetype": "text/x-python",
   "name": "python",
   "nbconvert_exporter": "python",
   "pygments_lexer": "ipython3",
   "version": "3.9.6"
  },
  "orig_nbformat": 4
 },
 "nbformat": 4,
 "nbformat_minor": 2
}
