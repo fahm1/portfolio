{
 "cells": [
  {
   "cell_type": "markdown",
   "metadata": {},
   "source": [
    "```{image} bellabeat_banner.png\n",
    ":align: left\n",
    ":width: 100%\n",
    "```"
   ]
  },
  {
   "cell_type": "markdown",
   "metadata": {},
   "source": [
    "# Bellabeat Case Study"
   ]
  },
  {
   "cell_type": "markdown",
   "metadata": {},
   "source": [
    "**Name:** Fahmi I.  \n",
    "**Date:** June 8th, 2022\n",
    "\n",
    "This analysis will be broken down into 6 distinct phases:\n",
    "1. __Introduction__ - Introduce the company and their products. \n",
    "1. __Ask__ - Identify the business problem at hand and how insights from the data can drive business decisions. \n",
    "2. __Prepare__ - Identify and gather relevant data and organize all files.\n",
    "3. __Process__ - Use tools to glean basic information from the data while cleaning up and validating the data. \n",
    "4. __Analyze and Share__ - Perform calculations identify trends and relationships, and create visualizations to tackle the business question. \n",
    "5. __Act__ - Provide final recommendations for the business and how to move forward by making data-driven decisions. \n",
    "\n",
    "```{tip}\n",
    "A table of contents for this notebook can be found on the top-right corner of this page. \n",
    "```\n",
    "\n",
    "---"
   ]
  },
  {
   "cell_type": "markdown",
   "metadata": {},
   "source": [
    "<!-- ## <span style=\"color:#FA8072\">Table of Contents</span>\n",
    "\n",
    "* [1. Introduction](#Introduction)\n",
    "* [2. Ask Phase](#Ask-Phase)\n",
    "* [3. Prepare Phase](#Prepare-Phase)\n",
    "    * [3.1 Business Task](#Business-Task)\n",
    "* [4. Process Phase](#Process-Phase)\n",
    "* [5. Analyze and Share Phase](#Analyze-and-Share-Phase)\n",
    "* [6. Act Phase](#Act-Phase)\n",
    "\n",
    "--- -->"
   ]
  },
  {
   "cell_type": "markdown",
   "metadata": {},
   "source": [
    "## 1. Introduction"
   ]
  },
  {
   "cell_type": "markdown",
   "metadata": {},
   "source": [
    "Bellabeat is a small high-tech manufacturer of health-focused products with dreams to become a larger player in the global [smart device](https://en.wikipedia.org/wiki/Smart_device) industry. \n",
    "The main focus of this case study is to analyze the health data collected from smart devices to determine new growth opportunities for the company. \n",
    "\n",
    "Here is a brief overview the company's products:\n",
    "````{margin}\n",
    "```{note}\n",
    "The Bellabeat Leaf, Time, and Spring all communicate through the app to provide users with personalized recommendations and detailed statistics. \n",
    "```\n",
    "````\n",
    "* __Bellabeat App:__ An mobile app that tracks users' health data and provides personalized recommendations based on the data. \n",
    "* __Bellabeat Membership:__ A subscription service that gives members 24/7 access to personalized recommendations on nutrition, activity, sleep, health, and beauty based on their lifestyle and goals. \n",
    "* __Leaf__: A wellness tracker that can be worn as a bracelet, necklace, or clip to record user activity, sleep, and stress. \n",
    "* __Time__: A wellness watch that looks like a classic watch while also tracking user activity, sleep, and stress.  \n",
    "* __Spring__: A smart water bottle that can be used to track user hydration and water intake."
   ]
  },
  {
   "cell_type": "markdown",
   "metadata": {},
   "source": [
    "---"
   ]
  },
  {
   "cell_type": "markdown",
   "metadata": {},
   "source": [
    "## 2. Ask"
   ]
  },
  {
   "cell_type": "markdown",
   "metadata": {},
   "source": [
    "### 2.1 Business Task\n",
    "Analyze __non-Bellabeat__ smart device usage to gain insight on how consumers use their smart devices and discover trends that could be used to improve Bellabeat's marketing strategy. \n",
    "\n",
    "Guiding Questions:\n",
    "1. What are some trends in smart device usage? \n",
    "1. How could these trends apply to Bellabeat customers?\n",
    "1. How could these trends help influence Bellabeat's marketing strategy?\n",
    "\n",
    "### 2.2 Stakeholders\n",
    "As insights from this case study will influence Bellabeat's marketing strategy, the following stakeholders will be involved:\n",
    "\n",
    "* __Urška Sršen:__ Cofounder and Chief Creative Officer of Bellabeat\n",
    "* __Sando Mur:__ Mathematician and Bellabeat’s cofounder; key member of the Bellabeat executive team\n",
    "* __Bellabeat marketing analytics team:__ A team of data analysts responsible for collecting, analyzing, and reporting data that helps guide Bellabeat’s marketing strategy"
   ]
  },
  {
   "cell_type": "markdown",
   "metadata": {},
   "source": [
    "---"
   ]
  },
  {
   "cell_type": "markdown",
   "metadata": {},
   "source": [
    "## 3. Prepare "
   ]
  },
  {
   "cell_type": "markdown",
   "metadata": {},
   "source": [
    "### 3.1 Dataset Information\n",
    "````{margin}\n",
    "```{note}\n",
    "The dataset is a public dataset with a CC0: Public Domain license. \n",
    "```\n",
    "````\n",
    "The dataset used for this case study is the [FitBit Fitness Tracker Data](https://www.kaggle.com/datasets/arashnic/fitbit/metadata) shared by [Mobius](https://www.kaggle.com/arashnic) on [Kaggle](https://www.kaggle.com).\n",
    "\n",
    "This Kaggle dataset contains personal fitness tracker from thirty fitbit users. Thirty eligible Fitbit users consented to the submission of personal tracker data, including minute-level output for physical activity, heart rate, and sleep monitoring. It includes information about daily activity, steps, and heart rate that can be used to explore users’ habits. \n",
    "\n",
    "The data was generated by respondents to a distributed survey via Amazon Mechanical Turk from March 3rd, 2016 to May 12th, 2016. Thirty eligible Fitbit users consented to the submission of personal tracker data, including minute-level output for physical activity, heart rate, and sleep monitoring.\n",
    "\n",
    "### 3.2 Data Description\n",
    "\n",
    "There are 18 CSV files in the dataset containing the various data tracked by Fitbit. The data includes quantitative measures of activity, calories burned, intensity, steps, sleep, and weight.  \n",
    "Detailed descriptions of each file and column can be found [here](https://www.fitabase.com/media/1930/fitabasedatadictionary102320.pdf).\n",
    "\n",
    "```{dropdown} Click here for a table with a description of each CSV file.\n",
    "| Table Name | Type | Description |\n",
    "| --- | --- | --- |\n",
    "| hourlyCalories_merged | CSV | Hourly calories burned over 31 days for 33 users |\n",
    "| dailyCalories_merged | CSV | Daily calories over 31  days for 33 users |\n",
    "| minuteCaloriesNarrow_merged | CSV | Calories burned every minute over 31 days for 33 users (every minute in single row)|\n",
    "| minuteCaloriesWide_merged | CSV | Calories burned every minute over 31 days for 33 users (every minute in single column)|\n",
    "| dailyIntensities_merged | CSV | Daily intensity over 31 days for 33 users. Measured in minutes and distance with 4 distinct categories: Sedentary, Lightly Active, Fairly Active,Very Active |\n",
    "| hourlyIntensities_merged | CSV | Hourly total and average intensity over 31 days for 33 users |\n",
    "| minuteIntensitiesNarrow_merged | CSV | Intensity recorded by minute over 31 days for 33 users (every minute in single row) |\n",
    "| minuteIntensitiesWide_merged | CSV | Intensity recorded by minute over 31 days for 33 users (every minute in single column)|\n",
    "| dailySteps_merged | CSV | Daily steps over 31 days for 33 users | \n",
    "| hourlySteps_merged | CSV | Hourly steps over 31 days for 33 users |\n",
    "| minuteStepsNarrow_merged | CSV | Steps recorded by minute over 31 days for 33 users (every minute in single row)|\n",
    "| minuteStepsWide_merged | CSV | Steps recorded by minute over 31 days for 33 users (every minute in single column) |\n",
    "| dailyActivity_merged | CSV | Daily activity over 31 days for 33 users. Includes daily steps, distance, intensities, and calories burned |\n",
    "| sleepDay_merged | CSV| Sleep recorded by day, including count for number of sleeping periods per day, total minutes, and total time in bed |\n",
    "| minuteSleep_merged | CSV | Sleep recorded by minute for 24 users over 31 days. Values: 1 = asleep, 2 = restless, 3 = awake in bed |\n",
    "| heartrate_seconds_merged | CSV | Exact day and time heartrate logs for 7 users |\n",
    "| minuteMETsNarrow_merged | CSV | MET or metabolic equivalent of task value recorded in minutes |\n",
    "| weightLogInfo_merged | CSV | Weight and BMI recorded by day in Kg and Pounds over 30 days for 8 users |\n",
    "```\n",
    "\n",
    "### 3.3 Data Integrity\n",
    "\n",
    "There are certainly some limitations to the dataset:\n",
    "\n",
    "* __Sample Size:__ The dataset contains only 33 users for many of the files, while other files contain recordings from even fewer users. \n",
    "* __Study Duration:__ Much of the data was collected for a period of just one month, therefore lacking seasonal and other temporal trends. \n",
    "* __Completion Date:__ The data was collected in mid-2016, which is about 6 years ago now. \n",
    "\n",
    "Noting these limitations, the recommendations and conclusions reached in this study will have to keep in mind that the data is not completely ideal. \n",
    "However, identifying these limitations could lead to some generalized conclusions and may encourage seeking out other third-party data sources. \n",
    "\n",
    "`````{admonition} Key Takeaways:\n",
    ":class: tip\n",
    "The data is a public FitBit dataset that tracked various users' health data including calories burned and sleep. The data is limited in that it had a small sample size, short duration, and was completed years ago. \n",
    "`````"
   ]
  },
  {
   "cell_type": "markdown",
   "metadata": {},
   "source": [
    "---"
   ]
  },
  {
   "cell_type": "markdown",
   "metadata": {},
   "source": [
    "## 4. Process "
   ]
  },
  {
   "cell_type": "markdown",
   "metadata": {},
   "source": [
    "Due to the number of data files and their size, I will be using Python to process the data. "
   ]
  },
  {
   "cell_type": "markdown",
   "metadata": {},
   "source": [
    "### 4.1 Import Libraries and Read in Data"
   ]
  },
  {
   "cell_type": "markdown",
   "metadata": {},
   "source": [
    "Goals:\n",
    "* see the distribution of users in the 4 intensity categories\n",
    "* see average steps and calorie burn per category\n",
    "* see what time of day the users are most active\n",
    "* see average sleep and sleep per category\n",
    "use these conclusions to advertise how bellabeat membership and usage can lead to improvements in all of these "
   ]
  },
  {
   "cell_type": "markdown",
   "metadata": {},
   "source": [
    "Starting off by importing the libraries we will need, all of which are standard for data analysis. "
   ]
  },
  {
   "cell_type": "code",
   "execution_count": 1,
   "metadata": {
    "notebookRunGroups": {
     "groupValue": ""
    }
   },
   "outputs": [],
   "source": [
    "import numpy as np\n",
    "import pandas as pd\n",
    "import matplotlib as mpl\n",
    "import matplotlib.pyplot as plt\n",
    "import seaborn as sns\n",
    "import os"
   ]
  },
  {
   "cell_type": "markdown",
   "metadata": {},
   "source": [
    "We can then take a look at which data files we have available."
   ]
  },
  {
   "cell_type": "code",
   "execution_count": 2,
   "metadata": {},
   "outputs": [
    {
     "data": {
      "text/plain": [
       "['dailyActivity_merged.csv',\n",
       " 'dailyCalories_merged.csv',\n",
       " 'dailyIntensities_merged.csv',\n",
       " 'dailySteps_merged.csv',\n",
       " 'heartrate_seconds_merged.csv',\n",
       " 'hourlyCalories_merged.csv',\n",
       " 'hourlyIntensities_merged.csv',\n",
       " 'hourlySteps_merged.csv',\n",
       " 'minuteCaloriesNarrow_merged.csv',\n",
       " 'minuteCaloriesWide_merged.csv',\n",
       " 'minuteIntensitiesNarrow_merged.csv',\n",
       " 'minuteIntensitiesWide_merged.csv',\n",
       " 'minuteMETsNarrow_merged.csv',\n",
       " 'minuteSleep_merged.csv',\n",
       " 'minuteStepsNarrow_merged.csv',\n",
       " 'minuteStepsWide_merged.csv',\n",
       " 'sleepDay_merged.csv',\n",
       " 'weightLogInfo_merged.csv']"
      ]
     },
     "execution_count": 2,
     "metadata": {},
     "output_type": "execute_result"
    }
   ],
   "source": [
    "os.listdir(r'Data_Fitbase')"
   ]
  },
  {
   "cell_type": "markdown",
   "metadata": {},
   "source": [
    "We can now start reading in the files that we will be using in our analysis.  \n",
    "But first, we can create a simple function that will return important information about each created dataframe, such as the column names, shape, duplicate row count, and missing value count. "
   ]
  },
  {
   "cell_type": "code",
   "execution_count": 3,
   "metadata": {},
   "outputs": [],
   "source": [
    "def df_info(df: pd.DataFrame, name: str='df', dup_rows: bool=True, missing_values: bool=True):\n",
    "    '''Prints columns, shape, duplicate count, and null value count of a dataframe'''\n",
    "    print(\n",
    "    f'{name}:\\n',\n",
    "    f'\\tColumns: {list(df.columns)}\\n',\n",
    "    f'\\tShape: {df.shape}\\n',\n",
    "    f'\\tDuplicate rows: {df.duplicated().sum()}\\n' if dup_rows else '',\n",
    "    f'\\tMissing values: {df.isna().sum().sum()}' if missing_values else ''\n",
    "    )"
   ]
  },
  {
   "cell_type": "markdown",
   "metadata": {},
   "source": [
    "Starting with the daily activity data, we will also create a copy of the dataframe in order to easily revert to the original data if needed:\n",
    "\n",
    "```{note}\n",
    "The names of the 'date' columns in each of the .csv files have already been identified using the [Fitabase description of the dataset](https://www.fitabase.com/media/1930/fitabasedatadictionary102320.pdf) in order to save time when changing the datatype of the 'date' columns from 'object' to 'datetime64[ns]'. \n",
    "```"
   ]
  },
  {
   "cell_type": "code",
   "execution_count": 4,
   "metadata": {},
   "outputs": [
    {
     "name": "stdout",
     "output_type": "stream",
     "text": [
      "df_day_activity:\n",
      " \tColumns: ['Id', 'ActivityDate', 'TotalSteps', 'TotalDistance', 'TrackerDistance', 'LoggedActivitiesDistance', 'VeryActiveDistance', 'ModeratelyActiveDistance', 'LightActiveDistance', 'SedentaryActiveDistance', 'VeryActiveMinutes', 'FairlyActiveMinutes', 'LightlyActiveMinutes', 'SedentaryMinutes', 'Calories']\n",
      " \tShape: (940, 15)\n",
      " \tDuplicate rows: 0\n",
      " \tMissing values: 0\n"
     ]
    }
   ],
   "source": [
    "original_day_activity = pd.read_csv(\n",
    "    r'C:\\Users\\fahmi\\Documents\\Portfolio\\Large Files\\Data_Fitbase/dailyActivity_merged.csv', \n",
    "    parse_dates=['ActivityDate'], infer_datetime_format=True\n",
    ")\n",
    "df_day_activity = original_day_activity.copy()\n",
    "df_info(df=df_day_activity, name='df_day_activity')"
   ]
  },
  {
   "cell_type": "code",
   "execution_count": 5,
   "metadata": {
    "tags": [
     "output_scroll"
    ]
   },
   "outputs": [
    {
     "data": {
      "text/html": [
       "<div>\n",
       "<style scoped>\n",
       "    .dataframe tbody tr th:only-of-type {\n",
       "        vertical-align: middle;\n",
       "    }\n",
       "\n",
       "    .dataframe tbody tr th {\n",
       "        vertical-align: top;\n",
       "    }\n",
       "\n",
       "    .dataframe thead th {\n",
       "        text-align: right;\n",
       "    }\n",
       "</style>\n",
       "<table border=\"1\" class=\"dataframe\">\n",
       "  <thead>\n",
       "    <tr style=\"text-align: right;\">\n",
       "      <th></th>\n",
       "      <th>Id</th>\n",
       "      <th>ActivityDate</th>\n",
       "      <th>TotalSteps</th>\n",
       "      <th>TotalDistance</th>\n",
       "      <th>TrackerDistance</th>\n",
       "      <th>LoggedActivitiesDistance</th>\n",
       "      <th>VeryActiveDistance</th>\n",
       "      <th>ModeratelyActiveDistance</th>\n",
       "      <th>LightActiveDistance</th>\n",
       "      <th>SedentaryActiveDistance</th>\n",
       "      <th>VeryActiveMinutes</th>\n",
       "      <th>FairlyActiveMinutes</th>\n",
       "      <th>LightlyActiveMinutes</th>\n",
       "      <th>SedentaryMinutes</th>\n",
       "      <th>Calories</th>\n",
       "    </tr>\n",
       "  </thead>\n",
       "  <tbody>\n",
       "    <tr>\n",
       "      <th>0</th>\n",
       "      <td>1503960366</td>\n",
       "      <td>2016-04-12</td>\n",
       "      <td>13162</td>\n",
       "      <td>8.50</td>\n",
       "      <td>8.50</td>\n",
       "      <td>0.0</td>\n",
       "      <td>1.88</td>\n",
       "      <td>0.55</td>\n",
       "      <td>6.06</td>\n",
       "      <td>0.0</td>\n",
       "      <td>25</td>\n",
       "      <td>13</td>\n",
       "      <td>328</td>\n",
       "      <td>728</td>\n",
       "      <td>1985</td>\n",
       "    </tr>\n",
       "    <tr>\n",
       "      <th>1</th>\n",
       "      <td>1503960366</td>\n",
       "      <td>2016-04-13</td>\n",
       "      <td>10735</td>\n",
       "      <td>6.97</td>\n",
       "      <td>6.97</td>\n",
       "      <td>0.0</td>\n",
       "      <td>1.57</td>\n",
       "      <td>0.69</td>\n",
       "      <td>4.71</td>\n",
       "      <td>0.0</td>\n",
       "      <td>21</td>\n",
       "      <td>19</td>\n",
       "      <td>217</td>\n",
       "      <td>776</td>\n",
       "      <td>1797</td>\n",
       "    </tr>\n",
       "    <tr>\n",
       "      <th>2</th>\n",
       "      <td>1503960366</td>\n",
       "      <td>2016-04-14</td>\n",
       "      <td>10460</td>\n",
       "      <td>6.74</td>\n",
       "      <td>6.74</td>\n",
       "      <td>0.0</td>\n",
       "      <td>2.44</td>\n",
       "      <td>0.40</td>\n",
       "      <td>3.91</td>\n",
       "      <td>0.0</td>\n",
       "      <td>30</td>\n",
       "      <td>11</td>\n",
       "      <td>181</td>\n",
       "      <td>1218</td>\n",
       "      <td>1776</td>\n",
       "    </tr>\n",
       "  </tbody>\n",
       "</table>\n",
       "</div>"
      ],
      "text/plain": [
       "           Id ActivityDate  TotalSteps  TotalDistance  TrackerDistance  \\\n",
       "0  1503960366   2016-04-12       13162           8.50             8.50   \n",
       "1  1503960366   2016-04-13       10735           6.97             6.97   \n",
       "2  1503960366   2016-04-14       10460           6.74             6.74   \n",
       "\n",
       "   LoggedActivitiesDistance  VeryActiveDistance  ModeratelyActiveDistance  \\\n",
       "0                       0.0                1.88                      0.55   \n",
       "1                       0.0                1.57                      0.69   \n",
       "2                       0.0                2.44                      0.40   \n",
       "\n",
       "   LightActiveDistance  SedentaryActiveDistance  VeryActiveMinutes  \\\n",
       "0                 6.06                      0.0                 25   \n",
       "1                 4.71                      0.0                 21   \n",
       "2                 3.91                      0.0                 30   \n",
       "\n",
       "   FairlyActiveMinutes  LightlyActiveMinutes  SedentaryMinutes  Calories  \n",
       "0                   13                   328               728      1985  \n",
       "1                   19                   217               776      1797  \n",
       "2                   11                   181              1218      1776  "
      ]
     },
     "execution_count": 5,
     "metadata": {},
     "output_type": "execute_result"
    }
   ],
   "source": [
    "df_day_activity.head(3)"
   ]
  },
  {
   "cell_type": "markdown",
   "metadata": {},
   "source": [
    "We can then do the same with the hourly steps data:"
   ]
  },
  {
   "cell_type": "code",
   "execution_count": 6,
   "metadata": {},
   "outputs": [
    {
     "name": "stdout",
     "output_type": "stream",
     "text": [
      "df_hour_steps:\n",
      " \tColumns: ['Id', 'ActivityHour', 'StepTotal']\n",
      " \tShape: (22099, 3)\n",
      " \tDuplicate rows: 0\n",
      " \tMissing values: 0\n"
     ]
    }
   ],
   "source": [
    "original_hour_steps = pd.read_csv(\n",
    "    r'C:\\Users\\fahmi\\Documents\\Portfolio\\Large Files\\Data_Fitbase/hourlySteps_merged.csv',\n",
    "    parse_dates=['ActivityHour'], infer_datetime_format=True\n",
    ")\n",
    "df_hour_steps = original_hour_steps.copy()\n",
    "df_info(df=df_hour_steps, name='df_hour_steps')"
   ]
  },
  {
   "cell_type": "code",
   "execution_count": 7,
   "metadata": {},
   "outputs": [
    {
     "data": {
      "text/html": [
       "<div>\n",
       "<style scoped>\n",
       "    .dataframe tbody tr th:only-of-type {\n",
       "        vertical-align: middle;\n",
       "    }\n",
       "\n",
       "    .dataframe tbody tr th {\n",
       "        vertical-align: top;\n",
       "    }\n",
       "\n",
       "    .dataframe thead th {\n",
       "        text-align: right;\n",
       "    }\n",
       "</style>\n",
       "<table border=\"1\" class=\"dataframe\">\n",
       "  <thead>\n",
       "    <tr style=\"text-align: right;\">\n",
       "      <th></th>\n",
       "      <th>Id</th>\n",
       "      <th>ActivityHour</th>\n",
       "      <th>StepTotal</th>\n",
       "    </tr>\n",
       "  </thead>\n",
       "  <tbody>\n",
       "    <tr>\n",
       "      <th>0</th>\n",
       "      <td>1503960366</td>\n",
       "      <td>2016-04-12 00:00:00</td>\n",
       "      <td>373</td>\n",
       "    </tr>\n",
       "    <tr>\n",
       "      <th>1</th>\n",
       "      <td>1503960366</td>\n",
       "      <td>2016-04-12 01:00:00</td>\n",
       "      <td>160</td>\n",
       "    </tr>\n",
       "    <tr>\n",
       "      <th>2</th>\n",
       "      <td>1503960366</td>\n",
       "      <td>2016-04-12 02:00:00</td>\n",
       "      <td>151</td>\n",
       "    </tr>\n",
       "  </tbody>\n",
       "</table>\n",
       "</div>"
      ],
      "text/plain": [
       "           Id        ActivityHour  StepTotal\n",
       "0  1503960366 2016-04-12 00:00:00        373\n",
       "1  1503960366 2016-04-12 01:00:00        160\n",
       "2  1503960366 2016-04-12 02:00:00        151"
      ]
     },
     "execution_count": 7,
     "metadata": {},
     "output_type": "execute_result"
    }
   ],
   "source": [
    "df_hour_steps.head(3)"
   ]
  },
  {
   "cell_type": "markdown",
   "metadata": {},
   "source": [
    "And the hourly calories burned data:"
   ]
  },
  {
   "cell_type": "code",
   "execution_count": 8,
   "metadata": {},
   "outputs": [
    {
     "name": "stdout",
     "output_type": "stream",
     "text": [
      "df_hour_calories:\n",
      " \tColumns: ['Id', 'ActivityHour', 'Calories']\n",
      " \tShape: (22099, 3)\n",
      " \tDuplicate rows: 0\n",
      " \tMissing values: 0\n"
     ]
    }
   ],
   "source": [
    "original_hour_calories = pd.read_csv(\n",
    "    r'C:\\Users\\fahmi\\Documents\\Portfolio\\Large Files\\Data_Fitbase/hourlyCalories_merged.csv',\n",
    "    parse_dates=['ActivityHour'], infer_datetime_format=True\n",
    ")\n",
    "df_hour_calories = original_hour_calories.copy()\n",
    "df_info(df=df_hour_calories, name='df_hour_calories')"
   ]
  },
  {
   "cell_type": "code",
   "execution_count": 9,
   "metadata": {},
   "outputs": [
    {
     "data": {
      "text/html": [
       "<div>\n",
       "<style scoped>\n",
       "    .dataframe tbody tr th:only-of-type {\n",
       "        vertical-align: middle;\n",
       "    }\n",
       "\n",
       "    .dataframe tbody tr th {\n",
       "        vertical-align: top;\n",
       "    }\n",
       "\n",
       "    .dataframe thead th {\n",
       "        text-align: right;\n",
       "    }\n",
       "</style>\n",
       "<table border=\"1\" class=\"dataframe\">\n",
       "  <thead>\n",
       "    <tr style=\"text-align: right;\">\n",
       "      <th></th>\n",
       "      <th>Id</th>\n",
       "      <th>ActivityHour</th>\n",
       "      <th>Calories</th>\n",
       "    </tr>\n",
       "  </thead>\n",
       "  <tbody>\n",
       "    <tr>\n",
       "      <th>0</th>\n",
       "      <td>1503960366</td>\n",
       "      <td>2016-04-12 00:00:00</td>\n",
       "      <td>81</td>\n",
       "    </tr>\n",
       "    <tr>\n",
       "      <th>1</th>\n",
       "      <td>1503960366</td>\n",
       "      <td>2016-04-12 01:00:00</td>\n",
       "      <td>61</td>\n",
       "    </tr>\n",
       "    <tr>\n",
       "      <th>2</th>\n",
       "      <td>1503960366</td>\n",
       "      <td>2016-04-12 02:00:00</td>\n",
       "      <td>59</td>\n",
       "    </tr>\n",
       "  </tbody>\n",
       "</table>\n",
       "</div>"
      ],
      "text/plain": [
       "           Id        ActivityHour  Calories\n",
       "0  1503960366 2016-04-12 00:00:00        81\n",
       "1  1503960366 2016-04-12 01:00:00        61\n",
       "2  1503960366 2016-04-12 02:00:00        59"
      ]
     },
     "execution_count": 9,
     "metadata": {},
     "output_type": "execute_result"
    }
   ],
   "source": [
    "df_hour_calories.head(3)"
   ]
  },
  {
   "cell_type": "markdown",
   "metadata": {},
   "source": [
    "Then the daily sleep data:"
   ]
  },
  {
   "cell_type": "code",
   "execution_count": 10,
   "metadata": {},
   "outputs": [
    {
     "name": "stdout",
     "output_type": "stream",
     "text": [
      "df_day_sleep:\n",
      " \tColumns: ['Id', 'SleepDay', 'TotalSleepRecords', 'TotalMinutesAsleep', 'TotalTimeInBed']\n",
      " \tShape: (413, 5)\n",
      " \tDuplicate rows: 3\n",
      " \tMissing values: 0\n"
     ]
    }
   ],
   "source": [
    "original_day_sleep = pd.read_csv(\n",
    "    r'C:\\Users\\fahmi\\Documents\\Portfolio\\Large Files\\Data_Fitbase/sleepDay_merged.csv',\n",
    "    parse_dates=['SleepDay'], infer_datetime_format=True\n",
    ")\n",
    "df_day_sleep = original_day_sleep.copy()\n",
    "df_info(df=df_day_sleep, name='df_day_sleep')"
   ]
  },
  {
   "cell_type": "markdown",
   "metadata": {},
   "source": [
    "```{admonition} Duplicate Data Warning:\n",
    ":class: warning\n",
    "Unlike with the other datafrarmes, we can see that there's actually 3 duplicate rows in the daily sleep data that we will take care of later. \n",
    "```"
   ]
  },
  {
   "cell_type": "code",
   "execution_count": 11,
   "metadata": {},
   "outputs": [
    {
     "data": {
      "text/html": [
       "<div>\n",
       "<style scoped>\n",
       "    .dataframe tbody tr th:only-of-type {\n",
       "        vertical-align: middle;\n",
       "    }\n",
       "\n",
       "    .dataframe tbody tr th {\n",
       "        vertical-align: top;\n",
       "    }\n",
       "\n",
       "    .dataframe thead th {\n",
       "        text-align: right;\n",
       "    }\n",
       "</style>\n",
       "<table border=\"1\" class=\"dataframe\">\n",
       "  <thead>\n",
       "    <tr style=\"text-align: right;\">\n",
       "      <th></th>\n",
       "      <th>Id</th>\n",
       "      <th>SleepDay</th>\n",
       "      <th>TotalSleepRecords</th>\n",
       "      <th>TotalMinutesAsleep</th>\n",
       "      <th>TotalTimeInBed</th>\n",
       "    </tr>\n",
       "  </thead>\n",
       "  <tbody>\n",
       "    <tr>\n",
       "      <th>0</th>\n",
       "      <td>1503960366</td>\n",
       "      <td>2016-04-12</td>\n",
       "      <td>1</td>\n",
       "      <td>327</td>\n",
       "      <td>346</td>\n",
       "    </tr>\n",
       "    <tr>\n",
       "      <th>1</th>\n",
       "      <td>1503960366</td>\n",
       "      <td>2016-04-13</td>\n",
       "      <td>2</td>\n",
       "      <td>384</td>\n",
       "      <td>407</td>\n",
       "    </tr>\n",
       "    <tr>\n",
       "      <th>2</th>\n",
       "      <td>1503960366</td>\n",
       "      <td>2016-04-15</td>\n",
       "      <td>1</td>\n",
       "      <td>412</td>\n",
       "      <td>442</td>\n",
       "    </tr>\n",
       "  </tbody>\n",
       "</table>\n",
       "</div>"
      ],
      "text/plain": [
       "           Id   SleepDay  TotalSleepRecords  TotalMinutesAsleep  \\\n",
       "0  1503960366 2016-04-12                  1                 327   \n",
       "1  1503960366 2016-04-13                  2                 384   \n",
       "2  1503960366 2016-04-15                  1                 412   \n",
       "\n",
       "   TotalTimeInBed  \n",
       "0             346  \n",
       "1             407  \n",
       "2             442  "
      ]
     },
     "execution_count": 11,
     "metadata": {},
     "output_type": "execute_result"
    }
   ],
   "source": [
    "df_day_sleep.head(3)"
   ]
  },
  {
   "cell_type": "markdown",
   "metadata": {},
   "source": [
    "And finally, the minute sleep data:"
   ]
  },
  {
   "cell_type": "code",
   "execution_count": 12,
   "metadata": {},
   "outputs": [
    {
     "name": "stdout",
     "output_type": "stream",
     "text": [
      "df_min_sleep:\n",
      " \tColumns: ['Id', 'date', 'value', 'logId']\n",
      " \tShape: (188521, 4)\n",
      " \tDuplicate rows: 543\n",
      " \tMissing values: 0\n"
     ]
    }
   ],
   "source": [
    "original_min_sleep = pd.read_csv(\n",
    "    r'C:\\Users\\fahmi\\Documents\\Portfolio\\Large Files\\Data_Fitbase/minuteSleep_merged.csv', \n",
    "    parse_dates=['date'], infer_datetime_format=False\n",
    ")\n",
    "df_min_sleep = original_min_sleep.copy()\n",
    "df_info(df=df_min_sleep, name='df_min_sleep')"
   ]
  },
  {
   "cell_type": "markdown",
   "metadata": {},
   "source": [
    "```{admonition} Duplicate Data Warning:\n",
    ":class: warning\n",
    "In the minute sleep data, we can see that there's 543 duplicate rows that we need to take care of as part of data cleaning. \n",
    "```"
   ]
  },
  {
   "cell_type": "code",
   "execution_count": 13,
   "metadata": {},
   "outputs": [
    {
     "data": {
      "text/html": [
       "<div>\n",
       "<style scoped>\n",
       "    .dataframe tbody tr th:only-of-type {\n",
       "        vertical-align: middle;\n",
       "    }\n",
       "\n",
       "    .dataframe tbody tr th {\n",
       "        vertical-align: top;\n",
       "    }\n",
       "\n",
       "    .dataframe thead th {\n",
       "        text-align: right;\n",
       "    }\n",
       "</style>\n",
       "<table border=\"1\" class=\"dataframe\">\n",
       "  <thead>\n",
       "    <tr style=\"text-align: right;\">\n",
       "      <th></th>\n",
       "      <th>Id</th>\n",
       "      <th>date</th>\n",
       "      <th>value</th>\n",
       "      <th>logId</th>\n",
       "    </tr>\n",
       "  </thead>\n",
       "  <tbody>\n",
       "    <tr>\n",
       "      <th>0</th>\n",
       "      <td>1503960366</td>\n",
       "      <td>2016-04-12 02:47:30</td>\n",
       "      <td>3</td>\n",
       "      <td>11380564589</td>\n",
       "    </tr>\n",
       "    <tr>\n",
       "      <th>1</th>\n",
       "      <td>1503960366</td>\n",
       "      <td>2016-04-12 02:48:30</td>\n",
       "      <td>2</td>\n",
       "      <td>11380564589</td>\n",
       "    </tr>\n",
       "    <tr>\n",
       "      <th>2</th>\n",
       "      <td>1503960366</td>\n",
       "      <td>2016-04-12 02:49:30</td>\n",
       "      <td>1</td>\n",
       "      <td>11380564589</td>\n",
       "    </tr>\n",
       "  </tbody>\n",
       "</table>\n",
       "</div>"
      ],
      "text/plain": [
       "           Id                date  value        logId\n",
       "0  1503960366 2016-04-12 02:47:30      3  11380564589\n",
       "1  1503960366 2016-04-12 02:48:30      2  11380564589\n",
       "2  1503960366 2016-04-12 02:49:30      1  11380564589"
      ]
     },
     "execution_count": 13,
     "metadata": {},
     "output_type": "execute_result"
    }
   ],
   "source": [
    "df_min_sleep.head(3)"
   ]
  },
  {
   "cell_type": "markdown",
   "metadata": {},
   "source": [
    "### 4.2 Data Cleaning\n",
    "\n",
    "The first thing we should do as part of the data cleaning process is take care of the duplicate rows that we identified earlier in the ```df_day_sleep``` and ```df_min_sleep``` dataframes. "
   ]
  },
  {
   "cell_type": "code",
   "execution_count": 14,
   "metadata": {},
   "outputs": [
    {
     "name": "stdout",
     "output_type": "stream",
     "text": [
      "df_day_sleep:\n",
      " \tColumns: ['Id', 'SleepDay', 'TotalSleepRecords', 'TotalMinutesAsleep', 'TotalTimeInBed']\n",
      " \tShape: (413, 5)\n",
      " \tDuplicate rows: 3\n",
      " \tMissing values: 0\n",
      "df_min_sleep:\n",
      " \tColumns: ['Id', 'date', 'value', 'logId']\n",
      " \tShape: (188521, 4)\n",
      " \tDuplicate rows: 543\n",
      " \tMissing values: 0\n"
     ]
    }
   ],
   "source": [
    "df_info(df=df_day_sleep, name='df_day_sleep')\n",
    "df_info(df=df_min_sleep, name='df_min_sleep')"
   ]
  },
  {
   "cell_type": "code",
   "execution_count": 15,
   "metadata": {},
   "outputs": [
    {
     "name": "stdout",
     "output_type": "stream",
     "text": [
      "df_day_sleep:\n",
      " \tColumns: ['Id', 'SleepDay', 'TotalSleepRecords', 'TotalMinutesAsleep', 'TotalTimeInBed']\n",
      " \tShape: (410, 5)\n",
      " \tDuplicate rows: 0\n",
      " \tMissing values: 0\n"
     ]
    }
   ],
   "source": [
    "df_day_sleep.drop_duplicates(keep='first', inplace=True)\n",
    "df_info(df=df_day_sleep, name='df_day_sleep')"
   ]
  },
  {
   "cell_type": "code",
   "execution_count": 16,
   "metadata": {},
   "outputs": [
    {
     "name": "stdout",
     "output_type": "stream",
     "text": [
      "df_min_sleep:\n",
      " \tColumns: ['Id', 'date', 'value', 'logId']\n",
      " \tShape: (187978, 4)\n",
      " \tDuplicate rows: 0\n",
      " \tMissing values: 0\n"
     ]
    }
   ],
   "source": [
    "df_min_sleep.drop_duplicates(keep='first', inplace=True)\n",
    "df_info(df=df_min_sleep, name='df_min_sleep')"
   ]
  },
  {
   "cell_type": "markdown",
   "metadata": {},
   "source": [
    "And with that, we have made sure that there are no duplicate rows or null values in any of the dataframes.  \n",
    "Furthermore, we know that the data types of the columns are correct, as we have alerady parsed the 'date' columns in each of the dataframes, and pandas handles the rest of the columns automatically.  \n",
    "```{tip}\n",
    "We are working with 5 dataframes in this analysis:\n",
    "* df_day_activity\n",
    "* df_hour_steps\n",
    "* df_hour_calories\n",
    "* df_day_sleep \n",
    "* df_min_sleep\n",
    "```\n",
    "\n",
    "Now we can go on to eliminate columns that are unnecessary for our analysis, and rename columns as needed. "
   ]
  },
  {
   "cell_type": "code",
   "execution_count": 17,
   "metadata": {},
   "outputs": [
    {
     "name": "stdout",
     "output_type": "stream",
     "text": [
      "df_day_activity:\n",
      " \tColumns: ['Id', 'ActivityDate', 'TotalSteps', 'TotalDistance', 'TrackerDistance', 'LoggedActivitiesDistance', 'VeryActiveDistance', 'ModeratelyActiveDistance', 'LightActiveDistance', 'SedentaryActiveDistance', 'VeryActiveMinutes', 'FairlyActiveMinutes', 'LightlyActiveMinutes', 'SedentaryMinutes', 'Calories']\n",
      " \tShape: (940, 15)\n",
      "  \n"
     ]
    }
   ],
   "source": [
    "df_info(df=df_day_activity, name='df_day_activity', dup_rows=False, missing_values=False)"
   ]
  },
  {
   "cell_type": "code",
   "execution_count": 18,
   "metadata": {},
   "outputs": [],
   "source": [
    "columns_df_da = list(df_day_activity.columns.values)[4:-5]"
   ]
  },
  {
   "cell_type": "code",
   "execution_count": 19,
   "metadata": {},
   "outputs": [
    {
     "name": "stdout",
     "output_type": "stream",
     "text": [
      "df_day_activity:\n",
      " \tColumns: ['id', 'date', 'TotalSteps', 'TotalDistance', 'VeryActiveMinutes', 'FairlyActiveMinutes', 'LightlyActiveMinutes', 'SedentaryMinutes', 'Calories']\n",
      " \tShape: (940, 9)\n",
      "  \n"
     ]
    }
   ],
   "source": [
    "df_day_activity = df_day_activity.rename(columns={'ActivityDate': 'date', 'Id': 'id'})\\\n",
    "                                 .drop(columns=columns_df_da)\n",
    "df_info(df=df_day_activity, name='df_day_activity', dup_rows=False, missing_values=False)"
   ]
  },
  {
   "cell_type": "markdown",
   "metadata": {},
   "source": [
    "<br>\n",
    "<br>"
   ]
  },
  {
   "cell_type": "code",
   "execution_count": 20,
   "metadata": {},
   "outputs": [
    {
     "name": "stdout",
     "output_type": "stream",
     "text": [
      "df_hour_steps:\n",
      " \tColumns: ['Id', 'ActivityHour', 'StepTotal']\n",
      " \tShape: (22099, 3)\n",
      "  \n"
     ]
    }
   ],
   "source": [
    "df_info(df_hour_steps, name='df_hour_steps', dup_rows=False, missing_values=False)"
   ]
  },
  {
   "cell_type": "code",
   "execution_count": 21,
   "metadata": {},
   "outputs": [
    {
     "name": "stdout",
     "output_type": "stream",
     "text": [
      "df_hour_steps:\n",
      " \tColumns: ['id', 'date_time', 'StepTotal']\n",
      " \tShape: (22099, 3)\n",
      "  \n"
     ]
    }
   ],
   "source": [
    "df_hour_steps = df_hour_steps.rename(columns={'Id': 'id', 'ActivityHour': 'date_time'})\n",
    "df_info(df_hour_steps, name='df_hour_steps', dup_rows=False, missing_values=False)"
   ]
  },
  {
   "cell_type": "markdown",
   "metadata": {},
   "source": [
    "<br>\n",
    "<br>"
   ]
  },
  {
   "cell_type": "code",
   "execution_count": 22,
   "metadata": {},
   "outputs": [
    {
     "name": "stdout",
     "output_type": "stream",
     "text": [
      "df_hour_calories:\n",
      " \tColumns: ['Id', 'ActivityHour', 'Calories']\n",
      " \tShape: (22099, 3)\n",
      "  \n"
     ]
    }
   ],
   "source": [
    "df_info(df_hour_calories, name='df_hour_calories', dup_rows=False, missing_values=False)"
   ]
  },
  {
   "cell_type": "code",
   "execution_count": 23,
   "metadata": {},
   "outputs": [
    {
     "name": "stdout",
     "output_type": "stream",
     "text": [
      "df_hour_calories:\n",
      " \tColumns: ['id', 'date_time', 'Calories']\n",
      " \tShape: (22099, 3)\n",
      "  \n"
     ]
    }
   ],
   "source": [
    "df_hour_calories = df_hour_calories.rename(columns={'Id': 'id', 'ActivityHour': 'date_time'})\n",
    "df_info(df_hour_calories, name='df_hour_calories', dup_rows=False, missing_values=False)"
   ]
  },
  {
   "cell_type": "markdown",
   "metadata": {},
   "source": [
    "<br>\n",
    "<br>"
   ]
  },
  {
   "cell_type": "code",
   "execution_count": 24,
   "metadata": {},
   "outputs": [
    {
     "name": "stdout",
     "output_type": "stream",
     "text": [
      "df_day_sleep:\n",
      " \tColumns: ['Id', 'SleepDay', 'TotalSleepRecords', 'TotalMinutesAsleep', 'TotalTimeInBed']\n",
      " \tShape: (410, 5)\n",
      "  \n"
     ]
    }
   ],
   "source": [
    "df_info(df_day_sleep, name='df_day_sleep', dup_rows=False, missing_values=False)"
   ]
  },
  {
   "cell_type": "code",
   "execution_count": 25,
   "metadata": {},
   "outputs": [
    {
     "name": "stdout",
     "output_type": "stream",
     "text": [
      "df_day_sleep:\n",
      " \tColumns: ['id', 'date', 'TotalSleepRecords', 'TotalMinutesAsleep', 'TotalTimeInBed']\n",
      " \tShape: (410, 5)\n",
      "  \n"
     ]
    }
   ],
   "source": [
    "df_day_sleep = df_day_sleep.rename(columns={'Id': 'id', 'SleepDay': 'date'})\n",
    "df_info(df_day_sleep, name='df_day_sleep', dup_rows=False, missing_values=False)"
   ]
  },
  {
   "cell_type": "markdown",
   "metadata": {},
   "source": [
    "<br>\n",
    "<br>"
   ]
  },
  {
   "cell_type": "code",
   "execution_count": 26,
   "metadata": {
    "notebookRunGroups": {
     "groupValue": ""
    }
   },
   "outputs": [
    {
     "name": "stdout",
     "output_type": "stream",
     "text": [
      "df_min_sleep:\n",
      " \tColumns: ['Id', 'date', 'value', 'logId']\n",
      " \tShape: (187978, 4)\n",
      "  \n"
     ]
    }
   ],
   "source": [
    "df_info(df_min_sleep, name='df_min_sleep', dup_rows=False, missing_values=False)"
   ]
  },
  {
   "cell_type": "code",
   "execution_count": 27,
   "metadata": {},
   "outputs": [
    {
     "name": "stdout",
     "output_type": "stream",
     "text": [
      "df_min_sleep:\n",
      " \tColumns: ['id', 'date_time', 'value']\n",
      " \tShape: (187978, 3)\n",
      "  \n"
     ]
    }
   ],
   "source": [
    "df_min_sleep = df_min_sleep.rename(columns={'Id': 'id', 'date': 'date_time'})\\\n",
    "                           .drop(columns='logId')\n",
    "df_info(df_min_sleep, name='df_min_sleep', dup_rows=False, missing_values=False)"
   ]
  },
  {
   "cell_type": "markdown",
   "metadata": {},
   "source": [
    "### 4.3 Merging Data\n",
    "\n",
    "Now that the data is clean, we can merge some of the dataframes together.  \n",
    "````{margin}\n",
    "```{tip}\n",
    "An inner join is used in this case because we only want to keep the rows that are common between the merged dataframes. Using 'id' and a 'date' column as the primary key can ensure that corresponding rows get matched correctly. \n",
    "```\n",
    "````\n",
    "We can merge the ```df_day_activity``` and ```df_day_sleep``` dataframes together to create a new dataframe called ```df_day_activity_sleep``` since their date columns are both 'date' instead of including a time element as well.  \n",
    "\n",
    "Similarly, we can combine the ```df_hour_steps``` and ```df_hour_calories``` dataframes to create a new dataframe called ```df_hour_steps_calories``` since their date columns include a time element.  \n",
    "\n",
    "Since no dataframe outside of ```df_min_sleep``` is on a minute-by-minute basis, we cannot combine the dataframe with the other dataframes.  \n",
    "\n",
    "Doing inner joins with the ```id``` and either ```date``` or ```date_time``` columns as the primary key will allow us to join the dataframes together without losing any of the data and without creating extraneous columns or rows.  \n",
    "\n",
    "Starting off with the  ```df_day_activity``` and ```df_day_sleep``` dataframes to make ```df_day_activity_sleep```:"
   ]
  },
  {
   "cell_type": "code",
   "execution_count": 28,
   "metadata": {},
   "outputs": [
    {
     "name": "stdout",
     "output_type": "stream",
     "text": [
      "df_day_activity_sleep:\n",
      " \tColumns: ['id', 'date', 'TotalSleepRecords', 'TotalMinutesAsleep', 'TotalTimeInBed', 'TotalSteps', 'TotalDistance', 'VeryActiveMinutes', 'FairlyActiveMinutes', 'LightlyActiveMinutes', 'SedentaryMinutes', 'Calories']\n",
      " \tShape: (410, 12)\n",
      " \tDuplicate rows: 0\n",
      " \tMissing values: 0\n"
     ]
    }
   ],
   "source": [
    "df_day_activity_sleep = df_day_sleep.merge(right=df_day_activity, on=['id', 'date'], \n",
    "                                           how='inner', validate='1:1')\n",
    "df_info(df_day_activity_sleep, name='df_day_activity_sleep')"
   ]
  },
  {
   "cell_type": "code",
   "execution_count": 29,
   "metadata": {
    "tags": [
     "output_scroll"
    ]
   },
   "outputs": [
    {
     "data": {
      "text/html": [
       "<div>\n",
       "<style scoped>\n",
       "    .dataframe tbody tr th:only-of-type {\n",
       "        vertical-align: middle;\n",
       "    }\n",
       "\n",
       "    .dataframe tbody tr th {\n",
       "        vertical-align: top;\n",
       "    }\n",
       "\n",
       "    .dataframe thead th {\n",
       "        text-align: right;\n",
       "    }\n",
       "</style>\n",
       "<table border=\"1\" class=\"dataframe\">\n",
       "  <thead>\n",
       "    <tr style=\"text-align: right;\">\n",
       "      <th></th>\n",
       "      <th>id</th>\n",
       "      <th>date</th>\n",
       "      <th>TotalSleepRecords</th>\n",
       "      <th>TotalMinutesAsleep</th>\n",
       "      <th>TotalTimeInBed</th>\n",
       "      <th>TotalSteps</th>\n",
       "      <th>TotalDistance</th>\n",
       "      <th>VeryActiveMinutes</th>\n",
       "      <th>FairlyActiveMinutes</th>\n",
       "      <th>LightlyActiveMinutes</th>\n",
       "      <th>SedentaryMinutes</th>\n",
       "      <th>Calories</th>\n",
       "    </tr>\n",
       "  </thead>\n",
       "  <tbody>\n",
       "    <tr>\n",
       "      <th>0</th>\n",
       "      <td>1503960366</td>\n",
       "      <td>2016-04-12</td>\n",
       "      <td>1</td>\n",
       "      <td>327</td>\n",
       "      <td>346</td>\n",
       "      <td>13162</td>\n",
       "      <td>8.50</td>\n",
       "      <td>25</td>\n",
       "      <td>13</td>\n",
       "      <td>328</td>\n",
       "      <td>728</td>\n",
       "      <td>1985</td>\n",
       "    </tr>\n",
       "    <tr>\n",
       "      <th>1</th>\n",
       "      <td>1503960366</td>\n",
       "      <td>2016-04-13</td>\n",
       "      <td>2</td>\n",
       "      <td>384</td>\n",
       "      <td>407</td>\n",
       "      <td>10735</td>\n",
       "      <td>6.97</td>\n",
       "      <td>21</td>\n",
       "      <td>19</td>\n",
       "      <td>217</td>\n",
       "      <td>776</td>\n",
       "      <td>1797</td>\n",
       "    </tr>\n",
       "    <tr>\n",
       "      <th>2</th>\n",
       "      <td>1503960366</td>\n",
       "      <td>2016-04-15</td>\n",
       "      <td>1</td>\n",
       "      <td>412</td>\n",
       "      <td>442</td>\n",
       "      <td>9762</td>\n",
       "      <td>6.28</td>\n",
       "      <td>29</td>\n",
       "      <td>34</td>\n",
       "      <td>209</td>\n",
       "      <td>726</td>\n",
       "      <td>1745</td>\n",
       "    </tr>\n",
       "  </tbody>\n",
       "</table>\n",
       "</div>"
      ],
      "text/plain": [
       "           id       date  TotalSleepRecords  TotalMinutesAsleep  \\\n",
       "0  1503960366 2016-04-12                  1                 327   \n",
       "1  1503960366 2016-04-13                  2                 384   \n",
       "2  1503960366 2016-04-15                  1                 412   \n",
       "\n",
       "   TotalTimeInBed  TotalSteps  TotalDistance  VeryActiveMinutes  \\\n",
       "0             346       13162           8.50                 25   \n",
       "1             407       10735           6.97                 21   \n",
       "2             442        9762           6.28                 29   \n",
       "\n",
       "   FairlyActiveMinutes  LightlyActiveMinutes  SedentaryMinutes  Calories  \n",
       "0                   13                   328               728      1985  \n",
       "1                   19                   217               776      1797  \n",
       "2                   34                   209               726      1745  "
      ]
     },
     "execution_count": 29,
     "metadata": {},
     "output_type": "execute_result"
    }
   ],
   "source": [
    "df_day_activity_sleep.head(3)"
   ]
  },
  {
   "cell_type": "markdown",
   "metadata": {},
   "source": [
    "And then combining the ```df_hour_steps``` and ```df_hour_calories``` dataframes to make ```df_hour_steps_calories```:"
   ]
  },
  {
   "cell_type": "code",
   "execution_count": 30,
   "metadata": {},
   "outputs": [
    {
     "name": "stdout",
     "output_type": "stream",
     "text": [
      "df_hour_steps_calories:\n",
      " \tColumns: ['id', 'date_time', 'StepTotal', 'Calories']\n",
      " \tShape: (22099, 4)\n",
      " \tDuplicate rows: 0\n",
      " \tMissing values: 0\n"
     ]
    }
   ],
   "source": [
    "df_hour_steps_calories = df_hour_steps.merge(right=df_hour_calories, on=['id', 'date_time'],\n",
    "                                             how='inner', validate='1:1')\n",
    "df_info(df_hour_steps_calories, name='df_hour_steps_calories')"
   ]
  },
  {
   "cell_type": "code",
   "execution_count": 31,
   "metadata": {},
   "outputs": [
    {
     "data": {
      "text/html": [
       "<div>\n",
       "<style scoped>\n",
       "    .dataframe tbody tr th:only-of-type {\n",
       "        vertical-align: middle;\n",
       "    }\n",
       "\n",
       "    .dataframe tbody tr th {\n",
       "        vertical-align: top;\n",
       "    }\n",
       "\n",
       "    .dataframe thead th {\n",
       "        text-align: right;\n",
       "    }\n",
       "</style>\n",
       "<table border=\"1\" class=\"dataframe\">\n",
       "  <thead>\n",
       "    <tr style=\"text-align: right;\">\n",
       "      <th></th>\n",
       "      <th>id</th>\n",
       "      <th>date_time</th>\n",
       "      <th>StepTotal</th>\n",
       "      <th>Calories</th>\n",
       "    </tr>\n",
       "  </thead>\n",
       "  <tbody>\n",
       "    <tr>\n",
       "      <th>0</th>\n",
       "      <td>1503960366</td>\n",
       "      <td>2016-04-12 00:00:00</td>\n",
       "      <td>373</td>\n",
       "      <td>81</td>\n",
       "    </tr>\n",
       "    <tr>\n",
       "      <th>1</th>\n",
       "      <td>1503960366</td>\n",
       "      <td>2016-04-12 01:00:00</td>\n",
       "      <td>160</td>\n",
       "      <td>61</td>\n",
       "    </tr>\n",
       "    <tr>\n",
       "      <th>2</th>\n",
       "      <td>1503960366</td>\n",
       "      <td>2016-04-12 02:00:00</td>\n",
       "      <td>151</td>\n",
       "      <td>59</td>\n",
       "    </tr>\n",
       "  </tbody>\n",
       "</table>\n",
       "</div>"
      ],
      "text/plain": [
       "           id           date_time  StepTotal  Calories\n",
       "0  1503960366 2016-04-12 00:00:00        373        81\n",
       "1  1503960366 2016-04-12 01:00:00        160        61\n",
       "2  1503960366 2016-04-12 02:00:00        151        59"
      ]
     },
     "execution_count": 31,
     "metadata": {},
     "output_type": "execute_result"
    }
   ],
   "source": [
    "df_hour_steps_calories.head(3)"
   ]
  },
  {
   "cell_type": "markdown",
   "metadata": {},
   "source": [
    "And our final dataframe, ```df_min_sleep```:"
   ]
  },
  {
   "cell_type": "code",
   "execution_count": 32,
   "metadata": {},
   "outputs": [
    {
     "data": {
      "text/html": [
       "<div>\n",
       "<style scoped>\n",
       "    .dataframe tbody tr th:only-of-type {\n",
       "        vertical-align: middle;\n",
       "    }\n",
       "\n",
       "    .dataframe tbody tr th {\n",
       "        vertical-align: top;\n",
       "    }\n",
       "\n",
       "    .dataframe thead th {\n",
       "        text-align: right;\n",
       "    }\n",
       "</style>\n",
       "<table border=\"1\" class=\"dataframe\">\n",
       "  <thead>\n",
       "    <tr style=\"text-align: right;\">\n",
       "      <th></th>\n",
       "      <th>id</th>\n",
       "      <th>date_time</th>\n",
       "      <th>value</th>\n",
       "    </tr>\n",
       "  </thead>\n",
       "  <tbody>\n",
       "    <tr>\n",
       "      <th>0</th>\n",
       "      <td>1503960366</td>\n",
       "      <td>2016-04-12 02:47:30</td>\n",
       "      <td>3</td>\n",
       "    </tr>\n",
       "    <tr>\n",
       "      <th>1</th>\n",
       "      <td>1503960366</td>\n",
       "      <td>2016-04-12 02:48:30</td>\n",
       "      <td>2</td>\n",
       "    </tr>\n",
       "    <tr>\n",
       "      <th>2</th>\n",
       "      <td>1503960366</td>\n",
       "      <td>2016-04-12 02:49:30</td>\n",
       "      <td>1</td>\n",
       "    </tr>\n",
       "  </tbody>\n",
       "</table>\n",
       "</div>"
      ],
      "text/plain": [
       "           id           date_time  value\n",
       "0  1503960366 2016-04-12 02:47:30      3\n",
       "1  1503960366 2016-04-12 02:48:30      2\n",
       "2  1503960366 2016-04-12 02:49:30      1"
      ]
     },
     "execution_count": 32,
     "metadata": {},
     "output_type": "execute_result"
    }
   ],
   "source": [
    "df_min_sleep.head(3)"
   ]
  },
  {
   "cell_type": "markdown",
   "metadata": {},
   "source": [
    "### 4.4 Adding Relevant Columns\n",
    "\n",
    "For our now 3 dataframes, we can add a `day_of_week` column that will be used to identify the day of the week for each date. This may make it easier to visualize the data later on. "
   ]
  },
  {
   "cell_type": "code",
   "execution_count": 33,
   "metadata": {},
   "outputs": [],
   "source": [
    "df_day_activity_sleep['day_of_week'] = df_day_activity_sleep['date'].dt.day_name()\n",
    "df_hour_steps_calories['day_of_week'] = df_hour_steps_calories['date_time'].dt.day_name()\n",
    "df_min_sleep['day_of_week'] = df_min_sleep['date_time'].dt.day_name()"
   ]
  },
  {
   "cell_type": "markdown",
   "metadata": {},
   "source": [
    "Then we can move the ```day_of_week``` column toward the front of the dataframe:"
   ]
  },
  {
   "cell_type": "code",
   "execution_count": 34,
   "metadata": {},
   "outputs": [],
   "source": [
    "day_of_week = df_day_activity_sleep['day_of_week']\n",
    "df_day_activity_sleep.drop(columns='day_of_week', inplace=True)\n",
    "df_day_activity_sleep.insert(loc=2, column='day_of_week', value=day_of_week)\n",
    "\n",
    "day_of_week = df_hour_steps_calories['day_of_week']\n",
    "df_hour_steps_calories.drop(columns='day_of_week', inplace=True)\n",
    "df_hour_steps_calories.insert(loc=2, column='day_of_week', value=day_of_week)\n",
    "\n",
    "day_of_week = df_hour_steps_calories['day_of_week']\n",
    "df_min_sleep.drop(columns='day_of_week', inplace=True)\n",
    "df_min_sleep.insert(loc=2, column='day_of_week', value=day_of_week)"
   ]
  },
  {
   "cell_type": "markdown",
   "metadata": {},
   "source": [
    "And taking a final quick look at the dataframes before analysis:"
   ]
  },
  {
   "cell_type": "code",
   "execution_count": 35,
   "metadata": {
    "tags": [
     "output_scroll"
    ]
   },
   "outputs": [
    {
     "data": {
      "text/html": [
       "<div>\n",
       "<style scoped>\n",
       "    .dataframe tbody tr th:only-of-type {\n",
       "        vertical-align: middle;\n",
       "    }\n",
       "\n",
       "    .dataframe tbody tr th {\n",
       "        vertical-align: top;\n",
       "    }\n",
       "\n",
       "    .dataframe thead th {\n",
       "        text-align: right;\n",
       "    }\n",
       "</style>\n",
       "<table border=\"1\" class=\"dataframe\">\n",
       "  <thead>\n",
       "    <tr style=\"text-align: right;\">\n",
       "      <th></th>\n",
       "      <th>id</th>\n",
       "      <th>date</th>\n",
       "      <th>day_of_week</th>\n",
       "      <th>TotalSleepRecords</th>\n",
       "      <th>TotalMinutesAsleep</th>\n",
       "      <th>TotalTimeInBed</th>\n",
       "      <th>TotalSteps</th>\n",
       "      <th>TotalDistance</th>\n",
       "      <th>VeryActiveMinutes</th>\n",
       "      <th>FairlyActiveMinutes</th>\n",
       "      <th>LightlyActiveMinutes</th>\n",
       "      <th>SedentaryMinutes</th>\n",
       "      <th>Calories</th>\n",
       "    </tr>\n",
       "  </thead>\n",
       "  <tbody>\n",
       "    <tr>\n",
       "      <th>0</th>\n",
       "      <td>1503960366</td>\n",
       "      <td>2016-04-12</td>\n",
       "      <td>Tuesday</td>\n",
       "      <td>1</td>\n",
       "      <td>327</td>\n",
       "      <td>346</td>\n",
       "      <td>13162</td>\n",
       "      <td>8.50</td>\n",
       "      <td>25</td>\n",
       "      <td>13</td>\n",
       "      <td>328</td>\n",
       "      <td>728</td>\n",
       "      <td>1985</td>\n",
       "    </tr>\n",
       "    <tr>\n",
       "      <th>1</th>\n",
       "      <td>1503960366</td>\n",
       "      <td>2016-04-13</td>\n",
       "      <td>Wednesday</td>\n",
       "      <td>2</td>\n",
       "      <td>384</td>\n",
       "      <td>407</td>\n",
       "      <td>10735</td>\n",
       "      <td>6.97</td>\n",
       "      <td>21</td>\n",
       "      <td>19</td>\n",
       "      <td>217</td>\n",
       "      <td>776</td>\n",
       "      <td>1797</td>\n",
       "    </tr>\n",
       "    <tr>\n",
       "      <th>2</th>\n",
       "      <td>1503960366</td>\n",
       "      <td>2016-04-15</td>\n",
       "      <td>Friday</td>\n",
       "      <td>1</td>\n",
       "      <td>412</td>\n",
       "      <td>442</td>\n",
       "      <td>9762</td>\n",
       "      <td>6.28</td>\n",
       "      <td>29</td>\n",
       "      <td>34</td>\n",
       "      <td>209</td>\n",
       "      <td>726</td>\n",
       "      <td>1745</td>\n",
       "    </tr>\n",
       "  </tbody>\n",
       "</table>\n",
       "</div>"
      ],
      "text/plain": [
       "           id       date day_of_week  TotalSleepRecords  TotalMinutesAsleep  \\\n",
       "0  1503960366 2016-04-12     Tuesday                  1                 327   \n",
       "1  1503960366 2016-04-13   Wednesday                  2                 384   \n",
       "2  1503960366 2016-04-15      Friday                  1                 412   \n",
       "\n",
       "   TotalTimeInBed  TotalSteps  TotalDistance  VeryActiveMinutes  \\\n",
       "0             346       13162           8.50                 25   \n",
       "1             407       10735           6.97                 21   \n",
       "2             442        9762           6.28                 29   \n",
       "\n",
       "   FairlyActiveMinutes  LightlyActiveMinutes  SedentaryMinutes  Calories  \n",
       "0                   13                   328               728      1985  \n",
       "1                   19                   217               776      1797  \n",
       "2                   34                   209               726      1745  "
      ]
     },
     "execution_count": 35,
     "metadata": {},
     "output_type": "execute_result"
    }
   ],
   "source": [
    "df_day_activity_sleep.head(3)"
   ]
  },
  {
   "cell_type": "code",
   "execution_count": 36,
   "metadata": {},
   "outputs": [
    {
     "data": {
      "text/html": [
       "<div>\n",
       "<style scoped>\n",
       "    .dataframe tbody tr th:only-of-type {\n",
       "        vertical-align: middle;\n",
       "    }\n",
       "\n",
       "    .dataframe tbody tr th {\n",
       "        vertical-align: top;\n",
       "    }\n",
       "\n",
       "    .dataframe thead th {\n",
       "        text-align: right;\n",
       "    }\n",
       "</style>\n",
       "<table border=\"1\" class=\"dataframe\">\n",
       "  <thead>\n",
       "    <tr style=\"text-align: right;\">\n",
       "      <th></th>\n",
       "      <th>id</th>\n",
       "      <th>date_time</th>\n",
       "      <th>day_of_week</th>\n",
       "      <th>StepTotal</th>\n",
       "      <th>Calories</th>\n",
       "    </tr>\n",
       "  </thead>\n",
       "  <tbody>\n",
       "    <tr>\n",
       "      <th>0</th>\n",
       "      <td>1503960366</td>\n",
       "      <td>2016-04-12 00:00:00</td>\n",
       "      <td>Tuesday</td>\n",
       "      <td>373</td>\n",
       "      <td>81</td>\n",
       "    </tr>\n",
       "    <tr>\n",
       "      <th>1</th>\n",
       "      <td>1503960366</td>\n",
       "      <td>2016-04-12 01:00:00</td>\n",
       "      <td>Tuesday</td>\n",
       "      <td>160</td>\n",
       "      <td>61</td>\n",
       "    </tr>\n",
       "    <tr>\n",
       "      <th>2</th>\n",
       "      <td>1503960366</td>\n",
       "      <td>2016-04-12 02:00:00</td>\n",
       "      <td>Tuesday</td>\n",
       "      <td>151</td>\n",
       "      <td>59</td>\n",
       "    </tr>\n",
       "  </tbody>\n",
       "</table>\n",
       "</div>"
      ],
      "text/plain": [
       "           id           date_time day_of_week  StepTotal  Calories\n",
       "0  1503960366 2016-04-12 00:00:00     Tuesday        373        81\n",
       "1  1503960366 2016-04-12 01:00:00     Tuesday        160        61\n",
       "2  1503960366 2016-04-12 02:00:00     Tuesday        151        59"
      ]
     },
     "execution_count": 36,
     "metadata": {},
     "output_type": "execute_result"
    }
   ],
   "source": [
    "df_hour_steps_calories.head(3)"
   ]
  },
  {
   "cell_type": "code",
   "execution_count": 37,
   "metadata": {},
   "outputs": [
    {
     "data": {
      "text/html": [
       "<div>\n",
       "<style scoped>\n",
       "    .dataframe tbody tr th:only-of-type {\n",
       "        vertical-align: middle;\n",
       "    }\n",
       "\n",
       "    .dataframe tbody tr th {\n",
       "        vertical-align: top;\n",
       "    }\n",
       "\n",
       "    .dataframe thead th {\n",
       "        text-align: right;\n",
       "    }\n",
       "</style>\n",
       "<table border=\"1\" class=\"dataframe\">\n",
       "  <thead>\n",
       "    <tr style=\"text-align: right;\">\n",
       "      <th></th>\n",
       "      <th>id</th>\n",
       "      <th>date_time</th>\n",
       "      <th>day_of_week</th>\n",
       "      <th>value</th>\n",
       "    </tr>\n",
       "  </thead>\n",
       "  <tbody>\n",
       "    <tr>\n",
       "      <th>0</th>\n",
       "      <td>1503960366</td>\n",
       "      <td>2016-04-12 02:47:30</td>\n",
       "      <td>Tuesday</td>\n",
       "      <td>3</td>\n",
       "    </tr>\n",
       "    <tr>\n",
       "      <th>1</th>\n",
       "      <td>1503960366</td>\n",
       "      <td>2016-04-12 02:48:30</td>\n",
       "      <td>Tuesday</td>\n",
       "      <td>2</td>\n",
       "    </tr>\n",
       "    <tr>\n",
       "      <th>2</th>\n",
       "      <td>1503960366</td>\n",
       "      <td>2016-04-12 02:49:30</td>\n",
       "      <td>Tuesday</td>\n",
       "      <td>1</td>\n",
       "    </tr>\n",
       "  </tbody>\n",
       "</table>\n",
       "</div>"
      ],
      "text/plain": [
       "           id           date_time day_of_week  value\n",
       "0  1503960366 2016-04-12 02:47:30     Tuesday      3\n",
       "1  1503960366 2016-04-12 02:48:30     Tuesday      2\n",
       "2  1503960366 2016-04-12 02:49:30     Tuesday      1"
      ]
     },
     "execution_count": 37,
     "metadata": {},
     "output_type": "execute_result"
    }
   ],
   "source": [
    "df_min_sleep.head(3)"
   ]
  },
  {
   "cell_type": "markdown",
   "metadata": {},
   "source": [
    "---"
   ]
  },
  {
   "cell_type": "markdown",
   "metadata": {},
   "source": [
    "## 5. Analyze and Share \n",
    "<!-- <a name='Analyze-and-Share-Phase'></a><h3 style=\"color:#FA8072\">5. Analyze and Share Phase:</h3> -->"
   ]
  },
  {
   "cell_type": "markdown",
   "metadata": {},
   "source": [
    "With our data clean and processed, we can now begin to analyze the data to see how we can influence and improve Bellabeat's marketing decisions. \n",
    "\n",
    "### 5.1 Activity Level Distribution"
   ]
  },
  {
   "cell_type": "markdown",
   "metadata": {},
   "source": [
    "First off, we can classify the individuals in the ```df_day_activity_sleep``` dataframe into 4 activity levels as adjusted from [10000steps.org.au](https://www.10000steps.org.au/articles/counting-steps/):\n",
    "\n",
    "With this information, Bellabeat will be able to get an understanding of the demographics of users who use smart fitness devices like the FitBit, and an idea of what types of individuals they should focus their marketing efforts towards. \n",
    "\n",
    "* Sedentary: < 5,000 steps per day\n",
    "* Lightly Active: 5,000 - 7,499 steps per day\n",
    "* Fairly Active: 7,500 - 9,999 steps per day\n",
    "* Very Active: more than 10,000 steps per day\n",
    "\n",
    "```{note}\n",
    "[10000steps.org.au](https://www.10000steps.org.au/articles/counting-steps/) recommends that most adults take 10,000 steps daily as studies have shown that this level of activity leads to weight loss, better glucose tolerance, and reduced blood pressure. \n",
    "```\n",
    "\n",
    "To do this, we can first find the average steps taken per day for each of the individuals in the ```df_day_activity_sleep``` dataframe.  \n",
    "In order to still be able to refer to ```df_day_activity_sleep``` afterwards, we can create a new dataframe called ```df_avg_actslp``` that will be grouped by ```id``` and then the columns will be averaged. "
   ]
  },
  {
   "cell_type": "code",
   "execution_count": 38,
   "metadata": {
    "tags": [
     "output_scroll"
    ]
   },
   "outputs": [],
   "source": [
    "df_avg_actslp = df_day_activity_sleep.copy().groupby(by='id').mean().reset_index()"
   ]
  },
  {
   "cell_type": "code",
   "execution_count": 39,
   "metadata": {
    "tags": [
     "output_scroll"
    ]
   },
   "outputs": [
    {
     "data": {
      "text/html": [
       "<div>\n",
       "<style scoped>\n",
       "    .dataframe tbody tr th:only-of-type {\n",
       "        vertical-align: middle;\n",
       "    }\n",
       "\n",
       "    .dataframe tbody tr th {\n",
       "        vertical-align: top;\n",
       "    }\n",
       "\n",
       "    .dataframe thead th {\n",
       "        text-align: right;\n",
       "    }\n",
       "</style>\n",
       "<table border=\"1\" class=\"dataframe\">\n",
       "  <thead>\n",
       "    <tr style=\"text-align: right;\">\n",
       "      <th></th>\n",
       "      <th>id</th>\n",
       "      <th>TotalSleepRecords</th>\n",
       "      <th>TotalMinutesAsleep</th>\n",
       "      <th>TotalTimeInBed</th>\n",
       "      <th>TotalSteps</th>\n",
       "      <th>TotalDistance</th>\n",
       "      <th>VeryActiveMinutes</th>\n",
       "      <th>FairlyActiveMinutes</th>\n",
       "      <th>LightlyActiveMinutes</th>\n",
       "      <th>SedentaryMinutes</th>\n",
       "      <th>Calories</th>\n",
       "    </tr>\n",
       "  </thead>\n",
       "  <tbody>\n",
       "    <tr>\n",
       "      <th>0</th>\n",
       "      <td>1503960366</td>\n",
       "      <td>1.08</td>\n",
       "      <td>360.28</td>\n",
       "      <td>383.2</td>\n",
       "      <td>12405.68</td>\n",
       "      <td>7.971200</td>\n",
       "      <td>37.92</td>\n",
       "      <td>20.280000</td>\n",
       "      <td>233.12</td>\n",
       "      <td>759.280000</td>\n",
       "      <td>1872.280000</td>\n",
       "    </tr>\n",
       "    <tr>\n",
       "      <th>1</th>\n",
       "      <td>1644430081</td>\n",
       "      <td>1.00</td>\n",
       "      <td>294.00</td>\n",
       "      <td>346.0</td>\n",
       "      <td>7967.75</td>\n",
       "      <td>5.792500</td>\n",
       "      <td>2.50</td>\n",
       "      <td>19.500000</td>\n",
       "      <td>241.25</td>\n",
       "      <td>920.500000</td>\n",
       "      <td>2977.750000</td>\n",
       "    </tr>\n",
       "    <tr>\n",
       "      <th>2</th>\n",
       "      <td>1844505072</td>\n",
       "      <td>1.00</td>\n",
       "      <td>652.00</td>\n",
       "      <td>961.0</td>\n",
       "      <td>3477.00</td>\n",
       "      <td>2.303333</td>\n",
       "      <td>0.00</td>\n",
       "      <td>2.333333</td>\n",
       "      <td>145.00</td>\n",
       "      <td>443.333333</td>\n",
       "      <td>1676.333333</td>\n",
       "    </tr>\n",
       "  </tbody>\n",
       "</table>\n",
       "</div>"
      ],
      "text/plain": [
       "           id  TotalSleepRecords  TotalMinutesAsleep  TotalTimeInBed  \\\n",
       "0  1503960366               1.08              360.28           383.2   \n",
       "1  1644430081               1.00              294.00           346.0   \n",
       "2  1844505072               1.00              652.00           961.0   \n",
       "\n",
       "   TotalSteps  TotalDistance  VeryActiveMinutes  FairlyActiveMinutes  \\\n",
       "0    12405.68       7.971200              37.92            20.280000   \n",
       "1     7967.75       5.792500               2.50            19.500000   \n",
       "2     3477.00       2.303333               0.00             2.333333   \n",
       "\n",
       "   LightlyActiveMinutes  SedentaryMinutes     Calories  \n",
       "0                233.12        759.280000  1872.280000  \n",
       "1                241.25        920.500000  2977.750000  \n",
       "2                145.00        443.333333  1676.333333  "
      ]
     },
     "execution_count": 39,
     "metadata": {},
     "output_type": "execute_result"
    }
   ],
   "source": [
    "df_avg_actslp.head(3)"
   ]
  },
  {
   "cell_type": "markdown",
   "metadata": {},
   "source": [
    "Now that we have the average steps taken per day for each individual, we can classify each of them into the 4 activity levels. "
   ]
  },
  {
   "cell_type": "code",
   "execution_count": 40,
   "metadata": {},
   "outputs": [],
   "source": [
    "condlist = [\n",
    "              df_avg_actslp.TotalSteps < 5000, \n",
    "              (df_avg_actslp.TotalSteps >= 5000) & (df_avg_actslp.TotalSteps < 7499),\n",
    "              (df_avg_actslp.TotalSteps >= 7500) & (df_avg_actslp.TotalSteps < 9999),\n",
    "              (df_avg_actslp.TotalSteps >= 10_000)\n",
    "             ]\n",
    "choicelist = ['sedentary', 'lightly active', 'moderately active', 'very active']\n",
    "\n",
    "df_avg_actslp['activity_level'] = np.select(condlist, choicelist, default=np.nan)"
   ]
  },
  {
   "cell_type": "code",
   "execution_count": 41,
   "metadata": {
    "tags": [
     "output_scroll"
    ]
   },
   "outputs": [
    {
     "data": {
      "text/html": [
       "<div>\n",
       "<style scoped>\n",
       "    .dataframe tbody tr th:only-of-type {\n",
       "        vertical-align: middle;\n",
       "    }\n",
       "\n",
       "    .dataframe tbody tr th {\n",
       "        vertical-align: top;\n",
       "    }\n",
       "\n",
       "    .dataframe thead th {\n",
       "        text-align: right;\n",
       "    }\n",
       "</style>\n",
       "<table border=\"1\" class=\"dataframe\">\n",
       "  <thead>\n",
       "    <tr style=\"text-align: right;\">\n",
       "      <th></th>\n",
       "      <th>id</th>\n",
       "      <th>TotalSleepRecords</th>\n",
       "      <th>TotalMinutesAsleep</th>\n",
       "      <th>TotalTimeInBed</th>\n",
       "      <th>TotalSteps</th>\n",
       "      <th>TotalDistance</th>\n",
       "      <th>VeryActiveMinutes</th>\n",
       "      <th>FairlyActiveMinutes</th>\n",
       "      <th>LightlyActiveMinutes</th>\n",
       "      <th>SedentaryMinutes</th>\n",
       "      <th>Calories</th>\n",
       "      <th>activity_level</th>\n",
       "    </tr>\n",
       "  </thead>\n",
       "  <tbody>\n",
       "    <tr>\n",
       "      <th>0</th>\n",
       "      <td>1503960366</td>\n",
       "      <td>1.08</td>\n",
       "      <td>360.28</td>\n",
       "      <td>383.2</td>\n",
       "      <td>12405.68</td>\n",
       "      <td>7.971200</td>\n",
       "      <td>37.92</td>\n",
       "      <td>20.280000</td>\n",
       "      <td>233.12</td>\n",
       "      <td>759.280000</td>\n",
       "      <td>1872.280000</td>\n",
       "      <td>very active</td>\n",
       "    </tr>\n",
       "    <tr>\n",
       "      <th>1</th>\n",
       "      <td>1644430081</td>\n",
       "      <td>1.00</td>\n",
       "      <td>294.00</td>\n",
       "      <td>346.0</td>\n",
       "      <td>7967.75</td>\n",
       "      <td>5.792500</td>\n",
       "      <td>2.50</td>\n",
       "      <td>19.500000</td>\n",
       "      <td>241.25</td>\n",
       "      <td>920.500000</td>\n",
       "      <td>2977.750000</td>\n",
       "      <td>moderately active</td>\n",
       "    </tr>\n",
       "    <tr>\n",
       "      <th>2</th>\n",
       "      <td>1844505072</td>\n",
       "      <td>1.00</td>\n",
       "      <td>652.00</td>\n",
       "      <td>961.0</td>\n",
       "      <td>3477.00</td>\n",
       "      <td>2.303333</td>\n",
       "      <td>0.00</td>\n",
       "      <td>2.333333</td>\n",
       "      <td>145.00</td>\n",
       "      <td>443.333333</td>\n",
       "      <td>1676.333333</td>\n",
       "      <td>sedentary</td>\n",
       "    </tr>\n",
       "  </tbody>\n",
       "</table>\n",
       "</div>"
      ],
      "text/plain": [
       "           id  TotalSleepRecords  TotalMinutesAsleep  TotalTimeInBed  \\\n",
       "0  1503960366               1.08              360.28           383.2   \n",
       "1  1644430081               1.00              294.00           346.0   \n",
       "2  1844505072               1.00              652.00           961.0   \n",
       "\n",
       "   TotalSteps  TotalDistance  VeryActiveMinutes  FairlyActiveMinutes  \\\n",
       "0    12405.68       7.971200              37.92            20.280000   \n",
       "1     7967.75       5.792500               2.50            19.500000   \n",
       "2     3477.00       2.303333               0.00             2.333333   \n",
       "\n",
       "   LightlyActiveMinutes  SedentaryMinutes     Calories     activity_level  \n",
       "0                233.12        759.280000  1872.280000        very active  \n",
       "1                241.25        920.500000  2977.750000  moderately active  \n",
       "2                145.00        443.333333  1676.333333          sedentary  "
      ]
     },
     "execution_count": 41,
     "metadata": {},
     "output_type": "execute_result"
    }
   ],
   "source": [
    "df_avg_actslp.head(3)"
   ]
  },
  {
   "cell_type": "markdown",
   "metadata": {},
   "source": [
    "We should also make sure that this worked for all of the rows, and there weren't any null values added to the dataframe. "
   ]
  },
  {
   "cell_type": "code",
   "execution_count": 42,
   "metadata": {},
   "outputs": [
    {
     "name": "stdout",
     "output_type": "stream",
     "text": [
      "df_avg_actslp:\n",
      " \tColumns: ['id', 'TotalSleepRecords', 'TotalMinutesAsleep', 'TotalTimeInBed', 'TotalSteps', 'TotalDistance', 'VeryActiveMinutes', 'FairlyActiveMinutes', 'LightlyActiveMinutes', 'SedentaryMinutes', 'Calories', 'activity_level']\n",
      " \tShape: (24, 12)\n",
      " \tDuplicate rows: 0\n",
      " \tMissing values: 0\n"
     ]
    }
   ],
   "source": [
    "df_info(df_avg_actslp, name='df_avg_actslp')"
   ]
  },
  {
   "cell_type": "markdown",
   "metadata": {},
   "source": [
    "Now we can create a new dataframe called ```df_pct_actlvl``` for 'df_percent_activity_level' that will be grouped by ```activity_level``` with the percent of individuals in each activity level."
   ]
  },
  {
   "cell_type": "code",
   "execution_count": 43,
   "metadata": {},
   "outputs": [],
   "source": [
    "df_pct_actlvl = df_avg_actslp.activity_level.value_counts(normalize=True).reset_index()"
   ]
  },
  {
   "cell_type": "code",
   "execution_count": 44,
   "metadata": {},
   "outputs": [],
   "source": [
    "df_pct_actlvl.rename(columns={'index': 'activity_level', 'activity_level': 'percentage'}, inplace=True)\n",
    "df_pct_actlvl.percentage *= 100"
   ]
  },
  {
   "cell_type": "code",
   "execution_count": 45,
   "metadata": {},
   "outputs": [
    {
     "data": {
      "text/html": [
       "<div>\n",
       "<style scoped>\n",
       "    .dataframe tbody tr th:only-of-type {\n",
       "        vertical-align: middle;\n",
       "    }\n",
       "\n",
       "    .dataframe tbody tr th {\n",
       "        vertical-align: top;\n",
       "    }\n",
       "\n",
       "    .dataframe thead th {\n",
       "        text-align: right;\n",
       "    }\n",
       "</style>\n",
       "<table border=\"1\" class=\"dataframe\">\n",
       "  <thead>\n",
       "    <tr style=\"text-align: right;\">\n",
       "      <th></th>\n",
       "      <th>activity_level</th>\n",
       "      <th>percentage</th>\n",
       "    </tr>\n",
       "  </thead>\n",
       "  <tbody>\n",
       "    <tr>\n",
       "      <th>0</th>\n",
       "      <td>moderately active</td>\n",
       "      <td>37.500000</td>\n",
       "    </tr>\n",
       "    <tr>\n",
       "      <th>1</th>\n",
       "      <td>very active</td>\n",
       "      <td>20.833333</td>\n",
       "    </tr>\n",
       "    <tr>\n",
       "      <th>2</th>\n",
       "      <td>sedentary</td>\n",
       "      <td>20.833333</td>\n",
       "    </tr>\n",
       "    <tr>\n",
       "      <th>3</th>\n",
       "      <td>lightly active</td>\n",
       "      <td>20.833333</td>\n",
       "    </tr>\n",
       "  </tbody>\n",
       "</table>\n",
       "</div>"
      ],
      "text/plain": [
       "      activity_level  percentage\n",
       "0  moderately active   37.500000\n",
       "1        very active   20.833333\n",
       "2          sedentary   20.833333\n",
       "3     lightly active   20.833333"
      ]
     },
     "execution_count": 45,
     "metadata": {},
     "output_type": "execute_result"
    }
   ],
   "source": [
    "df_pct_actlvl"
   ]
  },
  {
   "cell_type": "markdown",
   "metadata": {},
   "source": [
    "With this dataframe, we can plot the percentages of individuals in each activity level:"
   ]
  },
  {
   "cell_type": "code",
   "execution_count": 46,
   "metadata": {},
   "outputs": [
    {
     "data": {
      "image/png": "[encoded data removed]",
      "text/plain": [
       "<Figure size 864x864 with 1 Axes>"
      ]
     },
     "metadata": {},
     "output_type": "display_data"
    }
   ],
   "source": [
    "fig, ax = plt.subplots(figsize=(12,12), facecolor='w')\n",
    "plt.rcParams.update({'font.size': 20})\n",
    "labels = ['Sedentary', 'Lightly Active', 'Moderately Active', 'Very Active']\n",
    "\n",
    "plt.pie(\n",
    "        df_pct_actlvl.percentage, labels=labels,  startangle=113,\n",
    "        autopct='%1.1f%%', pctdistance=0.85, colors=plt.cm.Reds_r(np.arange(75, 226, 50)), \n",
    "        wedgeprops={'linewidth': 8, 'edgecolor': 'white'}\n",
    "        )\n",
    "ax.add_artist(plt.Circle((0,0), 0.7, color='white'))\n",
    "\n",
    "fig.suptitle('Percentage of Users \\nin Each Activity Level', \n",
    "             x=0.52, y=0.5, fontsize=26, ha='center', va='center')\n",
    "\n",
    "# plt.savefig('activity_levels.png', dpi=300, bbox_inches='tight')\n",
    "plt.show()"
   ]
  },
  {
   "cell_type": "markdown",
   "metadata": {},
   "source": [
    "Somewhat surprisingly, the the largest activity level group among the FitBit users is actually the 'Sedentary' group. This may be surprising, considering that you might expect that only active individuals would seek out a health and fitness-focused smart device. Understanding this, Bellabeat should shift their marketing strategy to advertise towards not only active individuals, but also those who are sedentary. Beyond that, we can see that only a minority of the users reached the 'Very Active' level of 10,000 steps or more per day. This is considered unhealthy for most people, and Bellabeat could also market that their membership service will improve the health and fitness of subscribers as their activity level can be monitored and improved. \n",
    "\n",
    "\n",
    "```{admonition} Key Takeaways:\n",
    ":class: tip\n",
    "* Bellabeat should focus their marketing not only towards active individuals, but also those who are more sedentary.\n",
    "* Bellabeat should also market that their membership service will improve the health and fitness of subscribers as their activity level can be monitored and improved.\n",
    "```"
   ]
  },
  {
   "cell_type": "markdown",
   "metadata": {},
   "source": [
    "### 5.2 Weekly Trends in Steps and Sleep"
   ]
  },
  {
   "cell_type": "markdown",
   "metadata": {},
   "source": [
    "We can go beyond classifying the users into activity levels and try to identify trends in both steps and sleep per day of the week.  \n",
    "The goal behind this is that we may be able to identify two different trends in the data:\n",
    "1. Are users taking the recommended 10,000 steps and sleeping the recommended 8 hours per day?\n",
    "2. Do users display healthier habits on certain days of the week more than others?\n",
    "\n",
    "With this information, Bellabeat will be able to identify if smart fitness device users are on average displaying healthy habits and provide in-app recommendations and reminders when users are not achieving healthy numbers or their personalized goals. As a result, Bellabeat will be able to identify if they should shift their marketing strategy to promote healthier fitness and sleeping habits, or whether their users are already doing well. Furthermore, Bellabeat will be able to market their app and membership as being able to help users achieve their health goals by improving their fitness and sleep. \n",
    "\n",
    "We can start of by taking a look at what the average steps and sleep per day of the week looks like. \n",
    "\n",
    "````{margin}\n",
    "```{tip}\n",
    "We don't have to actually assign a new variable for this dataframe, as plotting a barplot with seaborn will essentailly automatically take care of the calculations for us. \n",
    "```\n",
    "````"
   ]
  },
  {
   "cell_type": "code",
   "execution_count": 47,
   "metadata": {
    "tags": [
     "output_scroll"
    ]
   },
   "outputs": [
    {
     "data": {
      "text/html": [
       "<div>\n",
       "<style scoped>\n",
       "    .dataframe tbody tr th:only-of-type {\n",
       "        vertical-align: middle;\n",
       "    }\n",
       "\n",
       "    .dataframe tbody tr th {\n",
       "        vertical-align: top;\n",
       "    }\n",
       "\n",
       "    .dataframe thead th {\n",
       "        text-align: right;\n",
       "    }\n",
       "</style>\n",
       "<table border=\"1\" class=\"dataframe\">\n",
       "  <thead>\n",
       "    <tr style=\"text-align: right;\">\n",
       "      <th></th>\n",
       "      <th>day_of_week</th>\n",
       "      <th>TotalSleepRecords</th>\n",
       "      <th>TotalMinutesAsleep</th>\n",
       "      <th>TotalTimeInBed</th>\n",
       "      <th>TotalSteps</th>\n",
       "      <th>TotalDistance</th>\n",
       "      <th>VeryActiveMinutes</th>\n",
       "      <th>FairlyActiveMinutes</th>\n",
       "      <th>LightlyActiveMinutes</th>\n",
       "      <th>SedentaryMinutes</th>\n",
       "      <th>Calories</th>\n",
       "    </tr>\n",
       "  </thead>\n",
       "  <tbody>\n",
       "    <tr>\n",
       "      <th>0</th>\n",
       "      <td>Friday</td>\n",
       "      <td>1.070175</td>\n",
       "      <td>405.421053</td>\n",
       "      <td>445.052632</td>\n",
       "      <td>7901.403509</td>\n",
       "      <td>5.511930</td>\n",
       "      <td>21.157895</td>\n",
       "      <td>14.578947</td>\n",
       "      <td>222.684211</td>\n",
       "      <td>743.087719</td>\n",
       "      <td>2329.649123</td>\n",
       "    </tr>\n",
       "    <tr>\n",
       "      <th>1</th>\n",
       "      <td>Monday</td>\n",
       "      <td>1.108696</td>\n",
       "      <td>419.500000</td>\n",
       "      <td>457.347826</td>\n",
       "      <td>9273.217391</td>\n",
       "      <td>6.540870</td>\n",
       "      <td>30.717391</td>\n",
       "      <td>19.086957</td>\n",
       "      <td>222.369565</td>\n",
       "      <td>718.413043</td>\n",
       "      <td>2431.978261</td>\n",
       "    </tr>\n",
       "    <tr>\n",
       "      <th>2</th>\n",
       "      <td>Saturday</td>\n",
       "      <td>1.192982</td>\n",
       "      <td>419.070175</td>\n",
       "      <td>459.842105</td>\n",
       "      <td>9871.122807</td>\n",
       "      <td>7.015789</td>\n",
       "      <td>27.561404</td>\n",
       "      <td>22.719298</td>\n",
       "      <td>246.771930</td>\n",
       "      <td>680.438596</td>\n",
       "      <td>2506.894737</td>\n",
       "    </tr>\n",
       "    <tr>\n",
       "      <th>3</th>\n",
       "      <td>Sunday</td>\n",
       "      <td>1.181818</td>\n",
       "      <td>452.745455</td>\n",
       "      <td>503.509091</td>\n",
       "      <td>7297.854545</td>\n",
       "      <td>5.184727</td>\n",
       "      <td>22.145455</td>\n",
       "      <td>16.763636</td>\n",
       "      <td>200.036364</td>\n",
       "      <td>687.636364</td>\n",
       "      <td>2276.600000</td>\n",
       "    </tr>\n",
       "    <tr>\n",
       "      <th>4</th>\n",
       "      <td>Thursday</td>\n",
       "      <td>1.031250</td>\n",
       "      <td>401.296875</td>\n",
       "      <td>434.875000</td>\n",
       "      <td>8183.515625</td>\n",
       "      <td>5.773438</td>\n",
       "      <td>22.859375</td>\n",
       "      <td>15.859375</td>\n",
       "      <td>202.937500</td>\n",
       "      <td>698.375000</td>\n",
       "      <td>2306.671875</td>\n",
       "    </tr>\n",
       "    <tr>\n",
       "      <th>5</th>\n",
       "      <td>Tuesday</td>\n",
       "      <td>1.107692</td>\n",
       "      <td>404.538462</td>\n",
       "      <td>443.292308</td>\n",
       "      <td>9182.692308</td>\n",
       "      <td>6.430000</td>\n",
       "      <td>30.615385</td>\n",
       "      <td>20.046154</td>\n",
       "      <td>216.584615</td>\n",
       "      <td>740.046154</td>\n",
       "      <td>2496.200000</td>\n",
       "    </tr>\n",
       "    <tr>\n",
       "      <th>6</th>\n",
       "      <td>Wednesday</td>\n",
       "      <td>1.151515</td>\n",
       "      <td>434.681818</td>\n",
       "      <td>470.030303</td>\n",
       "      <td>8022.863636</td>\n",
       "      <td>5.719849</td>\n",
       "      <td>21.333333</td>\n",
       "      <td>16.742424</td>\n",
       "      <td>207.969697</td>\n",
       "      <td>714.454545</td>\n",
       "      <td>2378.242424</td>\n",
       "    </tr>\n",
       "  </tbody>\n",
       "</table>\n",
       "</div>"
      ],
      "text/plain": [
       "  day_of_week  TotalSleepRecords  TotalMinutesAsleep  TotalTimeInBed  \\\n",
       "0      Friday           1.070175          405.421053      445.052632   \n",
       "1      Monday           1.108696          419.500000      457.347826   \n",
       "2    Saturday           1.192982          419.070175      459.842105   \n",
       "3      Sunday           1.181818          452.745455      503.509091   \n",
       "4    Thursday           1.031250          401.296875      434.875000   \n",
       "5     Tuesday           1.107692          404.538462      443.292308   \n",
       "6   Wednesday           1.151515          434.681818      470.030303   \n",
       "\n",
       "    TotalSteps  TotalDistance  VeryActiveMinutes  FairlyActiveMinutes  \\\n",
       "0  7901.403509       5.511930          21.157895            14.578947   \n",
       "1  9273.217391       6.540870          30.717391            19.086957   \n",
       "2  9871.122807       7.015789          27.561404            22.719298   \n",
       "3  7297.854545       5.184727          22.145455            16.763636   \n",
       "4  8183.515625       5.773438          22.859375            15.859375   \n",
       "5  9182.692308       6.430000          30.615385            20.046154   \n",
       "6  8022.863636       5.719849          21.333333            16.742424   \n",
       "\n",
       "   LightlyActiveMinutes  SedentaryMinutes     Calories  \n",
       "0            222.684211        743.087719  2329.649123  \n",
       "1            222.369565        718.413043  2431.978261  \n",
       "2            246.771930        680.438596  2506.894737  \n",
       "3            200.036364        687.636364  2276.600000  \n",
       "4            202.937500        698.375000  2306.671875  \n",
       "5            216.584615        740.046154  2496.200000  \n",
       "6            207.969697        714.454545  2378.242424  "
      ]
     },
     "execution_count": 47,
     "metadata": {},
     "output_type": "execute_result"
    }
   ],
   "source": [
    "df_day_activity_sleep.groupby(by='day_of_week').mean().drop(columns='id').reset_index()"
   ]
  },
  {
   "cell_type": "markdown",
   "metadata": {},
   "source": [
    "Now, we can establish a week order to be used for all following plots. "
   ]
  },
  {
   "cell_type": "code",
   "execution_count": 48,
   "metadata": {},
   "outputs": [],
   "source": [
    "WEEK_ORDER = ['Monday', 'Tuesday', 'Wednesday', 'Thursday', 'Friday', 'Saturday', 'Sunday']"
   ]
  },
  {
   "cell_type": "markdown",
   "metadata": {},
   "source": [
    "Then we can plot the average steps taken by day of the week:"
   ]
  },
  {
   "cell_type": "code",
   "execution_count": 68,
   "metadata": {},
   "outputs": [
    {
     "data": {
      "image/png": "[encoded data removed]",
      "text/plain": [
       "<Figure size 864x576 with 1 Axes>"
      ]
     },
     "metadata": {},
     "output_type": "display_data"
    }
   ],
   "source": [
    "fig, ax = plt.subplots(figsize=(12, 8), facecolor='w')\n",
    "plt.rcParams.update({'font.size': 14})\n",
    "\n",
    "sns.barplot(\n",
    "            data=df_day_activity_sleep, x='day_of_week', y='TotalSteps', \n",
    "            order=WEEK_ORDER, palette='icefire', ci=None, alpha=0.8\n",
    "            )\n",
    "plt.text(x=-0.4, y=10_100, s='recommended daily steps', \n",
    "         color='red', ha='left')\n",
    "plt.axhline(y=10_000, color='red', linestyle='--', linewidth=2)\n",
    "\n",
    "ax.set_xlabel('Day of the Week', fontsize=16, labelpad=10)\n",
    "ax.set_ylabel('Average Steps', fontsize=16, labelpad=10)\n",
    "ax.yaxis.set_major_formatter(mpl.ticker.StrMethodFormatter('{x:,.0f}'))\n",
    "ax.tick_params(axis='both', size=0)\n",
    "\n",
    "ax.grid(axis='y', linestyle='--', alpha=0.8)\n",
    "sns.despine(bottom=True, left=True)\n",
    "fig.suptitle('Average Steps by Day of the Week',\n",
    "             fontsize=20, x=0.13, y=0.95, ha='left')\n",
    "\n",
    "# plt.savefig('steps_weekly.png', dpi=300, bbox_inches='tight')\n",
    "plt.show()"
   ]
  },
  {
   "cell_type": "markdown",
   "metadata": {},
   "source": [
    "And then the average minutes of sleep by day of the week:"
   ]
  },
  {
   "cell_type": "code",
   "execution_count": 50,
   "metadata": {},
   "outputs": [
    {
     "data": {
      "image/png": "[encoded data removed]",
      "text/plain": [
       "<Figure size 864x576 with 1 Axes>"
      ]
     },
     "metadata": {},
     "output_type": "display_data"
    }
   ],
   "source": [
    "fig, ax = plt.subplots(figsize=(12, 8), facecolor='w')\n",
    "plt.rcParams.update({'font.size': 14})\n",
    "\n",
    "sns.barplot(\n",
    "            data=df_day_activity_sleep, x='day_of_week', y='TotalMinutesAsleep', \n",
    "            order=WEEK_ORDER, palette='icefire', ci=None, alpha=0.8\n",
    "            )\n",
    "plt.text(x=-0.4, y=485, s='recommended daily sleep (8 hours)', \n",
    "         color='red', ha='left')\n",
    "plt.axhline(y=480, color='red', linestyle='--', linewidth=2)\n",
    "\n",
    "ax.set_xlabel('Day of the Week', fontsize=16, labelpad=10)\n",
    "ax.set_ylabel('Average Minutes Asleep', fontsize=16, labelpad=10)\n",
    "ax.tick_params(axis='both', size=0)\n",
    "\n",
    "ax.grid(axis='y', linestyle='--', alpha=0.8)\n",
    "sns.despine(bottom=True, left=True)\n",
    "fig.suptitle('Average Minutes Asleep by Day of the Week',\n",
    "             fontsize=20, x=0.13, y=0.95, ha='left')\n",
    "\n",
    "# plt.savefig('sleep_weekly.png', dpi=300, bbox_inches='tight')\n",
    "plt.show()"
   ]
  },
  {
   "cell_type": "markdown",
   "metadata": {},
   "source": [
    "Interestingly, we can see that on average, the FitBit users are not reaching either the daily recommended steps or the daily recommended sleep. Coinciding with the earlier plot in 5.1, we can see that the users on average are not following healthy habits. Knowing this, Bellabeat should shift their marketing strategy to be more along the lines of being able to help their users achieve healthier fitness and sleeping habits. Beyond this, we can notice that there are some trends in both steps and sleep by day of the week. For example, the average steps taken per day seems to take a lull in the middle of the week from Wednesday until the weekend, and the lowest step count is seen on Sunday. With this in mind, Bellabeat should provide push notifications from their app reminding users to take a quick walk in order to fulfill their daily steps requirements. Similarly, we can see some slight increases in sleep on the weekend, but it takes a dip on the weekdays. Though the recommended 8 hours per day is not being followed, Bellabeat should send extra push notifications during the weekdays to remind users to wind down and try to get to bed early so that they can get their needed sleep. \n",
    "\n",
    "```{admonition} Key Takeaways:\n",
    ":class: tip\n",
    "* Bellabeat should shift their marketing strategy to be more along the lines of 'most people don't have a healthy lifestyle--we can help you achieve one!'\n",
    "* Bellabeat should provide push notifications through their mobile app to remind users to take a quick walk or to get to bed early particularly during the weekdays since the majority of users are not following healthy fitness and health habits. \n",
    "```"
   ]
  },
  {
   "cell_type": "markdown",
   "metadata": {},
   "source": [
    "#### 5.2.2 Daily Sleep Analysis\n",
    "\n",
    "Devling a bit further with regards to the sleep data, we can analyze to see the quality of sleep per day of the week.  \n",
    "Using the ```df_min_sleep``` dataframe, we can analyze the amount of time users are spending asleep, restless, and awake in bed while trying to sleep. We can also see if users are more restless on certain days of the week more than others. "
   ]
  },
  {
   "cell_type": "markdown",
   "metadata": {},
   "source": [
    "The 'value' column has 3 values corresponding to the 3 different sleep states:\n",
    "1: Asleep\n",
    "2: Restless\n",
    "3: Awake in bed\n",
    "\n",
    "In this case, this visualization will be showing data for a single individual rather than for all individuals, so generalizations based on the data may not be possible, but we can see what the data looks like on an individual basis.  \n",
    "In order to calculate the time spent in each sleep state, adding a 'date' column will allow us to make sure that we only check dates where there is actually data for each individual. "
   ]
  },
  {
   "cell_type": "code",
   "execution_count": 51,
   "metadata": {},
   "outputs": [],
   "source": [
    "df_min_sleep['day_of_week'] = df_min_sleep['date_time'].dt.day_name()\n",
    "df_min_sleep['date'] = df_min_sleep['date_time'].dt.date"
   ]
  },
  {
   "cell_type": "code",
   "execution_count": 52,
   "metadata": {},
   "outputs": [
    {
     "data": {
      "text/html": [
       "<div>\n",
       "<style scoped>\n",
       "    .dataframe tbody tr th:only-of-type {\n",
       "        vertical-align: middle;\n",
       "    }\n",
       "\n",
       "    .dataframe tbody tr th {\n",
       "        vertical-align: top;\n",
       "    }\n",
       "\n",
       "    .dataframe thead th {\n",
       "        text-align: right;\n",
       "    }\n",
       "</style>\n",
       "<table border=\"1\" class=\"dataframe\">\n",
       "  <thead>\n",
       "    <tr style=\"text-align: right;\">\n",
       "      <th></th>\n",
       "      <th>id</th>\n",
       "      <th>date_time</th>\n",
       "      <th>day_of_week</th>\n",
       "      <th>value</th>\n",
       "      <th>date</th>\n",
       "    </tr>\n",
       "  </thead>\n",
       "  <tbody>\n",
       "    <tr>\n",
       "      <th>0</th>\n",
       "      <td>1503960366</td>\n",
       "      <td>2016-04-12 02:47:30</td>\n",
       "      <td>Tuesday</td>\n",
       "      <td>3</td>\n",
       "      <td>2016-04-12</td>\n",
       "    </tr>\n",
       "    <tr>\n",
       "      <th>1</th>\n",
       "      <td>1503960366</td>\n",
       "      <td>2016-04-12 02:48:30</td>\n",
       "      <td>Tuesday</td>\n",
       "      <td>2</td>\n",
       "      <td>2016-04-12</td>\n",
       "    </tr>\n",
       "    <tr>\n",
       "      <th>2</th>\n",
       "      <td>1503960366</td>\n",
       "      <td>2016-04-12 02:49:30</td>\n",
       "      <td>Tuesday</td>\n",
       "      <td>1</td>\n",
       "      <td>2016-04-12</td>\n",
       "    </tr>\n",
       "  </tbody>\n",
       "</table>\n",
       "</div>"
      ],
      "text/plain": [
       "           id           date_time day_of_week  value        date\n",
       "0  1503960366 2016-04-12 02:47:30     Tuesday      3  2016-04-12\n",
       "1  1503960366 2016-04-12 02:48:30     Tuesday      2  2016-04-12\n",
       "2  1503960366 2016-04-12 02:49:30     Tuesday      1  2016-04-12"
      ]
     },
     "execution_count": 52,
     "metadata": {},
     "output_type": "execute_result"
    }
   ],
   "source": [
    "df_min_sleep.head(3)"
   ]
  },
  {
   "cell_type": "markdown",
   "metadata": {},
   "source": [
    "And then we can use a funciton to plot the data with which we can supply a user ID and return their sleep data:"
   ]
  },
  {
   "cell_type": "code",
   "execution_count": 53,
   "metadata": {},
   "outputs": [],
   "source": [
    "def plot_sleep(df_min_sleep: pd.DataFrame, user_id: int, repeat_ylabel: bool = True):\n",
    "    '''\n",
    "    Plots sleep data for a given id\n",
    "    \n",
    "        Parameters:\n",
    "            df_min_sleep (pd.DataFrame): Dataframe with sleep data to plot\n",
    "            id (int):                    ID of the user to be analyzed\n",
    "            repeat_ylabel (bool):        Whether to repeat y-axis label\n",
    "    '''\n",
    "\n",
    "    SLEEP_STATE = ['Asleep', 'Restless', 'Awake in Bed']\n",
    "\n",
    "    fig, axes = plt.subplots(nrows=1, ncols=3, figsize=(22, 8), facecolor='w')\n",
    "    user_id = df_min_sleep.id.unique()[user_id]\n",
    "    df_id = df_min_sleep.loc[df_min_sleep.id == user_id]\n",
    "    \n",
    "    for idx, ax in enumerate(axes):\n",
    "\n",
    "        minutes = df_id.loc[df_id.value == idx + 1].groupby('day_of_week')['value'].sum()\n",
    "        days = df_id.groupby('date').day_of_week.value_counts()\n",
    "\n",
    "        days_count = {}\n",
    "        for i in range(len(days)):\n",
    "            days_count[days.index[i][1]] = days_count.get(days.index[i][1], 0) + 1\n",
    "\n",
    "        for i in minutes.index:\n",
    "            minutes[i] /= days_count[i]\n",
    "\n",
    "        sns.barplot(\n",
    "            orient='h', x=minutes.values, y=minutes.index, \n",
    "            palette='icefire', order=WEEK_ORDER, alpha=0.8, ax=ax\n",
    "        )\n",
    "\n",
    "        if not repeat_ylabel and idx > 0:\n",
    "            ax.set_yticks([])\n",
    "        ax.yaxis.set_tick_params(length=0)\n",
    "        ax.set_ylabel('')\n",
    "        ax.tick_params(axis='both', labelsize=14)\n",
    "        ax.set_xlabel(xlabel=f'Minutes {SLEEP_STATE[idx]}', fontsize=14, labelpad=10)\n",
    "\n",
    "        ax.set_title(f'Minutes {SLEEP_STATE[idx]} by Day of Week',\n",
    "                    fontsize=16, loc='left', pad=20)\n",
    "\n",
    "        ax.grid(axis='x', linestyle='--', alpha=0.8)\n",
    "        sns.despine()\n",
    "    \n",
    "    fig.suptitle('Average Minutes Spent in Each Sleep State by Day of the Week', \n",
    "                 fontsize=22, x=0.123, y=1.05, ha='left')"
   ]
  },
  {
   "cell_type": "code",
   "execution_count": 54,
   "metadata": {
    "tags": [
     "full-width"
    ]
   },
   "outputs": [
    {
     "data": {
      "image/png": "[encoded data removed]",
      "text/plain": [
       "<Figure size 1584x576 with 3 Axes>"
      ]
     },
     "metadata": {},
     "output_type": "display_data"
    }
   ],
   "source": [
    "plot_sleep(df_min_sleep, user_id=0)\n",
    "# plt.savefig('sleep_indiv.png', dpi=300, bbox_inches='tight')"
   ]
  },
  {
   "cell_type": "markdown",
   "metadata": {},
   "source": [
    "````{div} full-width\n",
    "We can see that user 0 is only getting about 6 hours of sleep most days, while they sleep in on Sundays. Also, we can see that the user is mostly restless during the weekdays, particularly on Mondays and Thursdays. And finally, we can see that the user doesn't spend much time in bed awake, though on some particular days there seems to be a bit more time spent awake than others. With all of this information in mind, Bellabeat can market that with their membership service, they will be able to identify key areas of improvement for their users and indivudalize their suggestions. In particular, they will be able to identify key days where an individual user may be struggling, such as Thursdays for user 0, where they are spending a lot of time restless in bed and end up with little sleep. With these weaknesses identified, Bellabeat will be able to push notifications to the user to encourage them to take a quick walk or get to bed early. Finally, Bellabeat will be able to attract more users to their products and particularly to their subscription membership service, while also improving the sleep quality of their users. \n",
    "\n",
    "```{admonition} Key Takeaways:\n",
    ":class: tip\n",
    "* Bellabeat should market that signing up for their subscription service will lead to a better sleep quality for their users with individualized suggestions and reminders for each user for every day of the week. \n",
    "```\n",
    "````"
   ]
  },
  {
   "cell_type": "markdown",
   "metadata": {},
   "source": [
    "### 5.3 Daily Trends in Steps and Calories"
   ]
  },
  {
   "cell_type": "markdown",
   "metadata": {},
   "source": [
    "We can go on to analyze what time of day users are most likely to be doing activity, resulting in steps and calories burned. With this knowledge, Bellabeat will be able to identify trends in what time of the day users are most likley to be able to do some form of activity, and can then provide push notifications to encourage users to start. Also, by understanding the time trends, Bellabeat will be able to better market their fashionable products, as if many users are getting in steps during the middle of the day, this suggests that the users are wearing their smart devices outside to work, etc., and Bellabeat would have the edge in that users may be more likely to wear a fashionable product rather than an upleasant one sold by competitors. \n",
    "\n",
    "We can start of by isolating the hours of the day and place them into a new column in ```df_hour_steps_calories```:"
   ]
  },
  {
   "cell_type": "code",
   "execution_count": 55,
   "metadata": {},
   "outputs": [],
   "source": [
    "df_hour_steps_calories['time'] = df_hour_steps_calories['date_time'].apply(lambda t: t.strftime('%H:%M'))"
   ]
  },
  {
   "cell_type": "code",
   "execution_count": 56,
   "metadata": {},
   "outputs": [
    {
     "data": {
      "text/html": [
       "<div>\n",
       "<style scoped>\n",
       "    .dataframe tbody tr th:only-of-type {\n",
       "        vertical-align: middle;\n",
       "    }\n",
       "\n",
       "    .dataframe tbody tr th {\n",
       "        vertical-align: top;\n",
       "    }\n",
       "\n",
       "    .dataframe thead th {\n",
       "        text-align: right;\n",
       "    }\n",
       "</style>\n",
       "<table border=\"1\" class=\"dataframe\">\n",
       "  <thead>\n",
       "    <tr style=\"text-align: right;\">\n",
       "      <th></th>\n",
       "      <th>id</th>\n",
       "      <th>date_time</th>\n",
       "      <th>day_of_week</th>\n",
       "      <th>StepTotal</th>\n",
       "      <th>Calories</th>\n",
       "      <th>time</th>\n",
       "    </tr>\n",
       "  </thead>\n",
       "  <tbody>\n",
       "    <tr>\n",
       "      <th>0</th>\n",
       "      <td>1503960366</td>\n",
       "      <td>2016-04-12 00:00:00</td>\n",
       "      <td>Tuesday</td>\n",
       "      <td>373</td>\n",
       "      <td>81</td>\n",
       "      <td>00:00</td>\n",
       "    </tr>\n",
       "    <tr>\n",
       "      <th>1</th>\n",
       "      <td>1503960366</td>\n",
       "      <td>2016-04-12 01:00:00</td>\n",
       "      <td>Tuesday</td>\n",
       "      <td>160</td>\n",
       "      <td>61</td>\n",
       "      <td>01:00</td>\n",
       "    </tr>\n",
       "    <tr>\n",
       "      <th>2</th>\n",
       "      <td>1503960366</td>\n",
       "      <td>2016-04-12 02:00:00</td>\n",
       "      <td>Tuesday</td>\n",
       "      <td>151</td>\n",
       "      <td>59</td>\n",
       "      <td>02:00</td>\n",
       "    </tr>\n",
       "  </tbody>\n",
       "</table>\n",
       "</div>"
      ],
      "text/plain": [
       "           id           date_time day_of_week  StepTotal  Calories   time\n",
       "0  1503960366 2016-04-12 00:00:00     Tuesday        373        81  00:00\n",
       "1  1503960366 2016-04-12 01:00:00     Tuesday        160        61  01:00\n",
       "2  1503960366 2016-04-12 02:00:00     Tuesday        151        59  02:00"
      ]
     },
     "execution_count": 56,
     "metadata": {},
     "output_type": "execute_result"
    }
   ],
   "source": [
    "df_hour_steps_calories.head(3)"
   ]
  },
  {
   "cell_type": "markdown",
   "metadata": {},
   "source": [
    "And then we can get right to plotting the data:"
   ]
  },
  {
   "cell_type": "code",
   "execution_count": 57,
   "metadata": {},
   "outputs": [
    {
     "data": {
      "image/png": "[encoded data removed]",
      "text/plain": [
       "<Figure size 864x576 with 2 Axes>"
      ]
     },
     "metadata": {},
     "output_type": "display_data"
    }
   ],
   "source": [
    "fig, ax = plt.subplots(figsize=(12, 8), facecolor='w')\n",
    "plt.rcParams.update({'font.size': 14})\n",
    "\n",
    "sns.barplot(\n",
    "            data=df_hour_steps_calories, x='time', y='StepTotal', \n",
    "            palette='icefire', ci=None, alpha=0.8, ax=ax\n",
    "            )\n",
    "ax.set_xlabel('Time', fontsize=16, labelpad=15)\n",
    "ax.set_ylabel('Steps Taken', fontsize=16, labelpad=10)\n",
    "ax.tick_params(axis='both', size=0)\n",
    "ax.set_xticklabels(ax.get_xticklabels(), rotation=45, ha='right')\n",
    "ax.grid(axis='y', linestyle='--', alpha=0.8)\n",
    "\n",
    "ax2 = ax.twinx()\n",
    "sns.lineplot(data=df_hour_steps_calories, x='time', y='Calories',\n",
    "             marker='o', ax=ax2)\n",
    "ax2.set_ylabel('Calories Burned', fontsize=16, labelpad=10)\n",
    "ax2.tick_params(axis='both', size=0)\n",
    "ax2.set_yticks([74, 85, 96, 107, 118, 129])\n",
    "\n",
    "plt.text(4.3, 75, 'Calories Burned \\u2192', color=plt.cm.Blues(0.8), ha='right')\n",
    "\n",
    "sns.despine(bottom=True, left=True)\n",
    "fig.suptitle('Steps Taken and Calories Burned by Time of Day',\n",
    "             fontsize=20, x=0.13, y=0.95, ha='left')\n",
    "\n",
    "# plt.savefig('steps_cal_day.png', dpi=300, bbox_inches='tight')\n",
    "plt.show()"
   ]
  },
  {
   "cell_type": "markdown",
   "metadata": {},
   "source": [
    "We can see that the many of steps are taken around noon and lunchtime before dipping a bit midday, then the majority of steps are taken as the evening approaches. The calories burned seems to follow the number of steps taken quite closely, which is to be expected. Knowing that most steps are taken in the afternoon and evening, Bellabeat will be able to refine when they are sending push notifications to remind users to get their steps in, as they know which time of day their users are most likely to be able to get their steps in. Furthermore, Bellabeat should also focus their marketing on how their products are fashionable and can be worn to stand out everywhere, particularly places where users may be around lunchtime, for example at work or in a restaurant. \n",
    "    \n",
    "```{admonition} Key Takeaways:\n",
    ":class: tip\n",
    "* The majority of steps taken and calories burned occur around noon and in the evening, so Bellabeat should send push notifications to remind users to get their steps in at these times for maximum rates of success. \n",
    "* Bellabeat should focus their marketing on how their products are fashionable and can be worn proudly at any time of the day, wherever users are. \n",
    "```"
   ]
  },
  {
   "cell_type": "markdown",
   "metadata": {},
   "source": [
    "### 5.4 Daily Time of Device Usage\n"
   ]
  },
  {
   "cell_type": "markdown",
   "metadata": {},
   "source": [
    "Another important metric that we can analyze is the amount of time each day for which users are wearing their device. This will help Bellabeat understand if a long-lasting battery is important to users of smart fitness devices. Beyond this, Bellabeat will also be able to identify whether they should shift their marketing strategy to highlight the long-lasting battery of their products.\n",
    "\n",
    "We can start off with the ```df_day_activity_sleep``` dataframe and calculate the percentage of time each day for which users are wearing their device"
   ]
  },
  {
   "cell_type": "code",
   "execution_count": 58,
   "metadata": {},
   "outputs": [],
   "source": [
    "MINUTES_PER_DAY = 24 * 60\n",
    "df_day_activity_sleep['percent_day_worn'] = df_day_activity_sleep.iloc[:, -5:-1].sum(axis=1) / MINUTES_PER_DAY"
   ]
  },
  {
   "cell_type": "markdown",
   "metadata": {},
   "source": [
    "Then we can group the data by user ID and calculate the average percent of usage per day"
   ]
  },
  {
   "cell_type": "code",
   "execution_count": 59,
   "metadata": {},
   "outputs": [],
   "source": [
    "df_worn = df_day_activity_sleep.groupby(by='id').mean()"
   ]
  },
  {
   "cell_type": "code",
   "execution_count": 60,
   "metadata": {
    "tags": [
     "output_scroll"
    ]
   },
   "outputs": [
    {
     "data": {
      "text/html": [
       "<div>\n",
       "<style scoped>\n",
       "    .dataframe tbody tr th:only-of-type {\n",
       "        vertical-align: middle;\n",
       "    }\n",
       "\n",
       "    .dataframe tbody tr th {\n",
       "        vertical-align: top;\n",
       "    }\n",
       "\n",
       "    .dataframe thead th {\n",
       "        text-align: right;\n",
       "    }\n",
       "</style>\n",
       "<table border=\"1\" class=\"dataframe\">\n",
       "  <thead>\n",
       "    <tr style=\"text-align: right;\">\n",
       "      <th></th>\n",
       "      <th>TotalSleepRecords</th>\n",
       "      <th>TotalMinutesAsleep</th>\n",
       "      <th>TotalTimeInBed</th>\n",
       "      <th>TotalSteps</th>\n",
       "      <th>TotalDistance</th>\n",
       "      <th>VeryActiveMinutes</th>\n",
       "      <th>FairlyActiveMinutes</th>\n",
       "      <th>LightlyActiveMinutes</th>\n",
       "      <th>SedentaryMinutes</th>\n",
       "      <th>Calories</th>\n",
       "      <th>percent_day_worn</th>\n",
       "    </tr>\n",
       "    <tr>\n",
       "      <th>id</th>\n",
       "      <th></th>\n",
       "      <th></th>\n",
       "      <th></th>\n",
       "      <th></th>\n",
       "      <th></th>\n",
       "      <th></th>\n",
       "      <th></th>\n",
       "      <th></th>\n",
       "      <th></th>\n",
       "      <th></th>\n",
       "      <th></th>\n",
       "    </tr>\n",
       "  </thead>\n",
       "  <tbody>\n",
       "    <tr>\n",
       "      <th>1503960366</th>\n",
       "      <td>1.08</td>\n",
       "      <td>360.28</td>\n",
       "      <td>383.2</td>\n",
       "      <td>12405.68</td>\n",
       "      <td>7.971200</td>\n",
       "      <td>37.92</td>\n",
       "      <td>20.280000</td>\n",
       "      <td>233.12</td>\n",
       "      <td>759.280000</td>\n",
       "      <td>1872.280000</td>\n",
       "      <td>0.729583</td>\n",
       "    </tr>\n",
       "    <tr>\n",
       "      <th>1644430081</th>\n",
       "      <td>1.00</td>\n",
       "      <td>294.00</td>\n",
       "      <td>346.0</td>\n",
       "      <td>7967.75</td>\n",
       "      <td>5.792500</td>\n",
       "      <td>2.50</td>\n",
       "      <td>19.500000</td>\n",
       "      <td>241.25</td>\n",
       "      <td>920.500000</td>\n",
       "      <td>2977.750000</td>\n",
       "      <td>0.822049</td>\n",
       "    </tr>\n",
       "    <tr>\n",
       "      <th>1844505072</th>\n",
       "      <td>1.00</td>\n",
       "      <td>652.00</td>\n",
       "      <td>961.0</td>\n",
       "      <td>3477.00</td>\n",
       "      <td>2.303333</td>\n",
       "      <td>0.00</td>\n",
       "      <td>2.333333</td>\n",
       "      <td>145.00</td>\n",
       "      <td>443.333333</td>\n",
       "      <td>1676.333333</td>\n",
       "      <td>0.410185</td>\n",
       "    </tr>\n",
       "  </tbody>\n",
       "</table>\n",
       "</div>"
      ],
      "text/plain": [
       "            TotalSleepRecords  TotalMinutesAsleep  TotalTimeInBed  TotalSteps  \\\n",
       "id                                                                              \n",
       "1503960366               1.08              360.28           383.2    12405.68   \n",
       "1644430081               1.00              294.00           346.0     7967.75   \n",
       "1844505072               1.00              652.00           961.0     3477.00   \n",
       "\n",
       "            TotalDistance  VeryActiveMinutes  FairlyActiveMinutes  \\\n",
       "id                                                                  \n",
       "1503960366       7.971200              37.92            20.280000   \n",
       "1644430081       5.792500               2.50            19.500000   \n",
       "1844505072       2.303333               0.00             2.333333   \n",
       "\n",
       "            LightlyActiveMinutes  SedentaryMinutes     Calories  \\\n",
       "id                                                                \n",
       "1503960366                233.12        759.280000  1872.280000   \n",
       "1644430081                241.25        920.500000  2977.750000   \n",
       "1844505072                145.00        443.333333  1676.333333   \n",
       "\n",
       "            percent_day_worn  \n",
       "id                            \n",
       "1503960366          0.729583  \n",
       "1644430081          0.822049  \n",
       "1844505072          0.410185  "
      ]
     },
     "execution_count": 60,
     "metadata": {},
     "output_type": "execute_result"
    }
   ],
   "source": [
    "df_worn.head(3)"
   ]
  },
  {
   "cell_type": "markdown",
   "metadata": {},
   "source": [
    "Similar to what we did for the earlier plot in 5.1, we can once again classify the data into three categories for how long the user wears their device each day:  \n",
    "1. Device is worn >= 90% of the day - All Day\n",
    "2. Device is worn > 50% of the day - Most of the Day\n",
    "3. Device is worn <= 50% of the day - Part of the Day"
   ]
  },
  {
   "cell_type": "code",
   "execution_count": 61,
   "metadata": {},
   "outputs": [],
   "source": [
    "condlist = [\n",
    "            df_worn.percent_day_worn >= 0.9,\n",
    "            df_worn.percent_day_worn > 0.5,\n",
    "            df_worn.percent_day_worn <= 0.5            \n",
    "            ]\n",
    "choicelist = ['All Day', 'Most of the Day', 'Part of the Day']\n",
    "df_worn['day_wear'] = np.select(condlist, choicelist, default=np.nan)"
   ]
  },
  {
   "cell_type": "code",
   "execution_count": 62,
   "metadata": {},
   "outputs": [
    {
     "name": "stdout",
     "output_type": "stream",
     "text": [
      "df:\n",
      " \tColumns: ['TotalSleepRecords', 'TotalMinutesAsleep', 'TotalTimeInBed', 'TotalSteps', 'TotalDistance', 'VeryActiveMinutes', 'FairlyActiveMinutes', 'LightlyActiveMinutes', 'SedentaryMinutes', 'Calories', 'percent_day_worn', 'day_wear']\n",
      " \tShape: (24, 12)\n",
      " \tDuplicate rows: 0\n",
      " \tMissing values: 0\n"
     ]
    }
   ],
   "source": [
    "df_info(df_worn)"
   ]
  },
  {
   "cell_type": "code",
   "execution_count": 63,
   "metadata": {},
   "outputs": [
    {
     "data": {
      "text/plain": [
       "id\n",
       "1503960366    Most of the Day\n",
       "1644430081    Most of the Day\n",
       "1844505072    Part of the Day\n",
       "Name: day_wear, dtype: object"
      ]
     },
     "execution_count": 63,
     "metadata": {},
     "output_type": "execute_result"
    }
   ],
   "source": [
    "df_worn.day_wear.head(3)"
   ]
  },
  {
   "cell_type": "markdown",
   "metadata": {},
   "source": [
    "Then we can get what percent of the data fits into each category"
   ]
  },
  {
   "cell_type": "code",
   "execution_count": 64,
   "metadata": {},
   "outputs": [],
   "source": [
    "df_pct_worn = df_worn.day_wear.value_counts(normalize=True).reset_index()"
   ]
  },
  {
   "cell_type": "code",
   "execution_count": 65,
   "metadata": {},
   "outputs": [
    {
     "data": {
      "text/html": [
       "<div>\n",
       "<style scoped>\n",
       "    .dataframe tbody tr th:only-of-type {\n",
       "        vertical-align: middle;\n",
       "    }\n",
       "\n",
       "    .dataframe tbody tr th {\n",
       "        vertical-align: top;\n",
       "    }\n",
       "\n",
       "    .dataframe thead th {\n",
       "        text-align: right;\n",
       "    }\n",
       "</style>\n",
       "<table border=\"1\" class=\"dataframe\">\n",
       "  <thead>\n",
       "    <tr style=\"text-align: right;\">\n",
       "      <th></th>\n",
       "      <th>index</th>\n",
       "      <th>day_wear</th>\n",
       "    </tr>\n",
       "  </thead>\n",
       "  <tbody>\n",
       "    <tr>\n",
       "      <th>0</th>\n",
       "      <td>Most of the Day</td>\n",
       "      <td>0.833333</td>\n",
       "    </tr>\n",
       "    <tr>\n",
       "      <th>1</th>\n",
       "      <td>All Day</td>\n",
       "      <td>0.125000</td>\n",
       "    </tr>\n",
       "    <tr>\n",
       "      <th>2</th>\n",
       "      <td>Part of the Day</td>\n",
       "      <td>0.041667</td>\n",
       "    </tr>\n",
       "  </tbody>\n",
       "</table>\n",
       "</div>"
      ],
      "text/plain": [
       "             index  day_wear\n",
       "0  Most of the Day  0.833333\n",
       "1          All Day  0.125000\n",
       "2  Part of the Day  0.041667"
      ]
     },
     "execution_count": 65,
     "metadata": {},
     "output_type": "execute_result"
    }
   ],
   "source": [
    "df_pct_worn"
   ]
  },
  {
   "cell_type": "markdown",
   "metadata": {},
   "source": [
    "And we are ready to plot the data:"
   ]
  },
  {
   "cell_type": "code",
   "execution_count": 66,
   "metadata": {},
   "outputs": [
    {
     "data": {
      "image/png": "[encoded data removed]",
      "text/plain": [
       "<Figure size 864x864 with 1 Axes>"
      ]
     },
     "metadata": {},
     "output_type": "display_data"
    }
   ],
   "source": [
    "fig, ax = plt.subplots(figsize=(12,12), facecolor='w')\n",
    "plt.rcParams.update({'font.size': 20})\n",
    "labels = ['Most of the Day', 'All Day', 'Part of the Day']\n",
    "\n",
    "plt.pie(\n",
    "        df_pct_worn.day_wear, startangle=25, labels=labels,\n",
    "        autopct='%1.1f%%', pctdistance=0.85, colors=plt.cm.Greens_r(np.arange(75, 226, 75)),\n",
    "        wedgeprops={'linewidth': 8, 'edgecolor': 'white'}\n",
    "        )\n",
    "ax.add_artist(plt.Circle((0,0), 0.7, color='white'))\n",
    "fig.suptitle('Time With Device\\nWorn Per Day', \n",
    "             x=0.52, y=0.5, fontsize=30, ha='center', va='center')\n",
    "\n",
    "# plt.savefig('use_pct.png', dpi=300, bbox_inches='tight')\n",
    "plt.show()"
   ]
  },
  {
   "cell_type": "markdown",
   "metadata": {},
   "source": [
    "We can see that the majority of users are wearing their device most of the day or all day, but there are a few users who are wearing their device for less than 50% of the day. This is a good indication that Bellabeat should focus their marketing on how their devices can easily last all-day, as this will attract the most users to their products. Beyond this, it is also important to note that should Bellabeat develop a new device with a touchscreen, they should remember the importance of having a long-lasting battery, as the vast majority of users will be using their device for a very significant portion of the day, and consumers will look at battery life as a key factor in determining their purchase. \n",
    "\n",
    "```{admonition} Key Takeaways:\n",
    ":class: tip\n",
    "* Bellabeat should focus their marketing on how their devices can easily last all-day, as users appear to use their device for a significant portion of the day. \n",
    "* Bellabeat should keep in mind that the long-lasting battery of their devices is important to their users, and any future products that may be developed should have a long-lasting battery. \n",
    "```"
   ]
  },
  {
   "cell_type": "markdown",
   "metadata": {},
   "source": [
    "## 6. Act\n",
    "<!-- <a name='Act-Phase'></a><h3 style=\"color:#FA8072\">6. Act Phase:</h3> -->"
   ]
  },
  {
   "cell_type": "markdown",
   "metadata": {},
   "source": [
    "Returning to our business questions: \n",
    "\n",
    "Guiding Questions:\n",
    "1. What are some trends in smart device usage?\n",
    "2. How could these trends apply to Bellabeat customers?\n",
    "3. How could these trends help influence Bellabeat’s marketing strategy?\n",
    "\n",
    "With all of the analysis that we have done, and an emphasis on data-driven decision making, I would recommend the following for Bellabeat:\n",
    "\n",
    "__1. Icrease marketing towards sedentary and lightly active demographics.__\n",
    "\n",
    "With the FitBit users, we were able to recognize that a majority of users (58.3%) classify under 'sedentary' or 'lightly active' demographics. Even though their products may be most tailored towards highly active individuals, the data suggests that the users buying these products are not always active. In order to maximize sales of their products, broadening their approach to wider demographics can bring in more customers for their products, which down the line can lead to increased membership purchases and even more increased revenue. \n",
    "\n",
    "__2. Market more towards the idea that Bellabeat devices can improve fitness, health, and sleep quality.__\n",
    "````{margin}\n",
    "```{tip}\n",
    "The Mayo Clinic recommends taking [10,000 steps per day](https://www.mayoclinic.org/healthy-lifestyle/fitness/in-depth/10000-steps/art-20317391) as a healthy lifestyle measure to reduce the risk of many diseases. The CDC recommends [having a workout buddy](https://www.cdc.gov/diabetes/library/spotlights/workout-buddy.html) to help you stay motivated in your workouts.\n",
    "```\n",
    "````\n",
    "\n",
    "The majority of FitBit users were not reaching the recommended 10,000 steps per day, nor were they sleeping for the recommended 8 hours per day, particularly on weekdays. With this in mind, Bellabeat should include in their marketing that most people are not following healthy guidelines right now, but with a Bellabeat product and membership, Bellabeat will be able to help them reach their health and fitness goals. Some examples of how Bellabeat may help their members and attract more customers may include:\n",
    "* using push notifications through the Bellabeat app to remind users to get their steps in and go to bed early\n",
    "* use the app to create a type of social environment where users can come together to compete for fitness goals\n",
    "* personalized advice for higher quality sleep for users recognized as having a low sleep quality\n",
    "* develop a smart watch with a touch screen that will track workout data and easily remind users with notifications without having to pull their phones out\n",
    "\n",
    "__3. Emphase the fashionable aspects of Bellabeat products as well as their long-lasting batteries.__\n",
    "\n",
    "The data shows that, on average, the FitBit users are wearing their devices for the vast majority of the day, including during periods when they are out in public. As a result, emphasizing the great looks of the Bellabeat products will entice potential customers, as customers are looking for a device they can be proud to wear all day. Furthermore, since the users are wearing their devices for long periods of time each day, marketing the long-lasting batteries of Bellabeat products with greater significance will also help to attract more customers, as customers are placing great value on the battery life of their devices. With this in mind, if Bellabeat develops any new products, this value on battery life should be considered every step of the way, such as with a potential new smart watch with a touchscreen. "
   ]
  },
  {
   "cell_type": "markdown",
   "metadata": {},
   "source": [
    "__Thank you for reading through this case study!__"
   ]
  }
 ],
 "metadata": {
  "interpreter": {
   "hash": "7bda54b875d3f25ca78a01575a5b2eb5a7be9fc3ff897d4e779930b97ce22030"
  },
  "kernelspec": {
   "display_name": "Python 3 (ipykernel)",
   "language": "python",
   "name": "python3"
  },
  "language_info": {
   "codemirror_mode": {
    "name": "ipython",
    "version": 3
   },
   "file_extension": ".py",
   "mimetype": "text/x-python",
   "name": "python",
   "nbconvert_exporter": "python",
   "pygments_lexer": "ipython3",
   "version": "3.9.6"
  }
 },
 "nbformat": 4,
 "nbformat_minor": 4
}
