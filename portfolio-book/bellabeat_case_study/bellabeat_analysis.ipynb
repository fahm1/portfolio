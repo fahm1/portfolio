{
 "cells": [
  {
   "cell_type": "markdown",
   "metadata": {},
   "source": [
    "```{image} bellabeat_banner.png\n",
    ":align: left\n",
    ":width: 100%\n",
    "```"
   ]
  },
  {
   "cell_type": "markdown",
   "metadata": {},
   "source": [
    "# Bellabeat Case Study\n",
    "<!-- # <span style=\"color:#FA8072\">Bellabeat Case Study</span> -->\n",
    "<!-- !jupyter nbconvert --to markdown README.ipynb -->\n",
    "\n",
    "**Name:** Fahmi I.  \n",
    "**Date:** June 6th, 2022\n",
    "\n",
    "```{tip}\n",
    "A table of contents for this notebook can be found on the top-right corner of this page. \n",
    "```\n",
    "\n",
    "---"
   ]
  },
  {
   "cell_type": "markdown",
   "metadata": {},
   "source": [
    "<!-- ## <span style=\"color:#FA8072\">Table of Contents</span>\n",
    "\n",
    "* [1. Introduction](#Introduction)\n",
    "* [2. Ask Phase](#Ask-Phase)\n",
    "* [3. Prepare Phase](#Prepare-Phase)\n",
    "    * [3.1 Business Task](#Business-Task)\n",
    "* [4. Process Phase](#Process-Phase)\n",
    "* [5. Analyze and Share Phase](#Analyze-and-Share-Phase)\n",
    "* [6. Act Phase](#Act-Phase)\n",
    "\n",
    "--- -->"
   ]
  },
  {
   "cell_type": "markdown",
   "metadata": {},
   "source": [
    "## 1. Introduction"
   ]
  },
  {
   "cell_type": "markdown",
   "metadata": {},
   "source": [
    "Bellabeat is a small high-tech manufacturer of health-focused products with dreams to become a larger player in the global [smart device](https://en.wikipedia.org/wiki/Smart_device) industry. \n",
    "The main focus of this case study is to analyze the health data collected from smart devices to determine new growth opportunities for the company. \n",
    "\n",
    "Here is a brief overview the company's products:\n",
    "````{margin}\n",
    "```{note}\n",
    "The Bellabeat Leaf, Time, and Spring all communicate through the app to provide users with personalized recommendations and detailed statistics. \n",
    "```\n",
    "````\n",
    "* __Bellabeat App:__ An mobile app that tracks users' health data and provides personalized recommendations based on the data. \n",
    "* __Bellabeat Membership:__ A subscription service that gives members 24/7 access to personalized recommendations on nutrition, activity, sleep, health, and beauty based on their lifestyle and goals. \n",
    "* __Leaf__: A wellness tracker that can be worn as a bracelet, necklace, or clip to record user activity, sleep, and stress. \n",
    "* __Time__: A wellness watch that looks like a classic watch while also tracking user activity, sleep, and stress.  \n",
    "* __Spring__: A smart water bottle that can be used to track user hydration and water intake."
   ]
  },
  {
   "cell_type": "markdown",
   "metadata": {},
   "source": [
    "---"
   ]
  },
  {
   "cell_type": "markdown",
   "metadata": {},
   "source": [
    "## 2. Ask-Phase"
   ]
  },
  {
   "cell_type": "markdown",
   "metadata": {},
   "source": [
    "### 2.1 Business Task\n",
    "Analyze __non-Bellabeat__ smart device usage to gain insight on how consumers use their smart devices and discover trends that could be used to improve Bellabeat's marketing strategy. \n",
    "\n",
    "Guiding Questions:\n",
    "1. What are some trends in smart device usage? \n",
    "1. How could these trends apply to Bellabeat customers?\n",
    "1. How could these trends help influence Bellabeat's marketing strategy?\n",
    "\n",
    "### 2.2 Stakeholders\n",
    "As insights from this case study will influence Bellabeat's marketing strategy, the following stakeholders will be involved:\n",
    "\n",
    "* __Urška Sršen:__ Cofounder and Chief Creative Officer of Bellabeat\n",
    "* __Sando Mur:__ Mathematician and Bellabeat’s cofounder; key member of the Bellabeat executive team\n",
    "* __Bellabeat marketing analytics team:__ A team of data analysts responsible for collecting, analyzing, and reporting data that helps guide Bellabeat’s marketing strategy"
   ]
  },
  {
   "cell_type": "markdown",
   "metadata": {},
   "source": [
    "---"
   ]
  },
  {
   "cell_type": "markdown",
   "metadata": {},
   "source": [
    "## 3. Prepare Phase"
   ]
  },
  {
   "cell_type": "markdown",
   "metadata": {},
   "source": [
    "### 3.1 Dataset Information\n",
    "````{margin}\n",
    "```{note}\n",
    "The dataset is a public dataset with a CC0: Public Domain license. \n",
    "```\n",
    "````\n",
    "The dataset used for this case study is the [FitBit Fitness Tracker Data](https://www.kaggle.com/datasets/arashnic/fitbit/metadata) shared by [Mobius](https://www.kaggle.com/arashnic) on [Kaggle](https://www.kaggle.com).\n",
    "\n",
    "This Kaggle dataset contains personal fitness tracker from thirty fitbit users. Thirty eligible Fitbit users consented to the submission of personal tracker data, including minute-level output for physical activity, heart rate, and sleep monitoring. It includes information about daily activity, steps, and heart rate that can be used to explore users’ habits. \n",
    "\n",
    "The data was generated by respondents to a distributed survey via Amazon Mechanical Turk from March 3rd, 2016 to May 12th, 2016. Thirty eligible Fitbit users consented to the submission of personal tracker data, including minute-level output for physical activity, heart rate, and sleep monitoring.\n",
    "\n",
    "### 3.2 Data Description\n",
    "\n",
    "There are 18 CSV files in the dataset containing the various data tracked by Fitbit. The data includes quantitative measures of activity, calories burned, intensity, steps, sleep, and weight.  \n",
    "Detailed descriptions of each file and column can be found [here](https://www.fitabase.com/media/1930/fitabasedatadictionary102320.pdf).\n",
    "\n",
    "```{dropdown} Click here for a table with a description of each CSV file.\n",
    "| Table Name | Type | Description |\n",
    "| --- | --- | --- |\n",
    "| hourlyCalories_merged | CSV | Hourly calories burned over 31 days for 33 users |\n",
    "| dailyCalories_merged | CSV | Daily calories over 31  days for 33 users |\n",
    "| minuteCaloriesNarrow_merged | CSV | Calories burned every minute over 31 days for 33 users (every minute in single row)|\n",
    "| minuteCaloriesWide_merged | CSV | Calories burned every minute over 31 days for 33 users (every minute in single column)|\n",
    "| dailyIntensities_merged | CSV | Daily intensity over 31 days for 33 users. Measured in minutes and distance with 4 distinct categories: Sedentary, Lightly Active, Fairly Active,Very Active |\n",
    "| hourlyIntensities_merged | CSV | Hourly total and average intensity over 31 days for 33 users |\n",
    "| minuteIntensitiesNarrow_merged | CSV | Intensity recorded by minute over 31 days for 33 users (every minute in single row) |\n",
    "| minuteIntensitiesWide_merged | CSV | Intensity recorded by minute over 31 days for 33 users (every minute in single column)|\n",
    "| dailySteps_merged | CSV | Daily steps over 31 days for 33 users | \n",
    "| hourlySteps_merged | CSV | Hourly steps over 31 days for 33 users |\n",
    "| minuteStepsNarrow_merged | CSV | Steps recorded by minute over 31 days for 33 users (every minute in single row)|\n",
    "| minuteStepsWide_merged | CSV | Steps recorded by minute over 31 days for 33 users (every minute in single column) |\n",
    "| dailyActivity_merged | CSV | Daily activity over 31 days for 33 users. Includes daily steps, distance, intensities, and calories burned |\n",
    "| sleepDay_merged | CSV| Sleep recorded by day, including count for number of sleeping periods per day, total minutes, and total time in bed |\n",
    "| minuteSleep_merged | CSV | Sleep recorded by minute for 24 users over 31 days. Values: 1 = asleep, 2 = restless, 3 = awake in bed |\n",
    "| heartrate_seconds_merged | CSV | Exact day and time heartrate logs for 7 users |\n",
    "| minuteMETsNarrow_merged | CSV | MET or metabolic equivalent of task value recorded in minutes |\n",
    "| weightLogInfo_merged | CSV | Weight and BMI recorded by day in Kg and Pounds over 30 days for 8 users |\n",
    "```\n",
    "\n",
    "### 3.3 Data Integrity\n",
    "\n",
    "There are certainly some limitations to the dataset:\n",
    "\n",
    "* __Sample Size:__ The dataset contains only 33 users for many of the files, while other files contain recordings from even fewer users. \n",
    "* __Study Duration:__ Much of the data was collected for a period of just one month, therefore lacking seasonal and other temporal trends. \n",
    "* __Completion Date:__ The data was collected in mid-2016, which is about 6 years ago now. \n",
    "\n",
    "Noting these limitations, the recommendations and conclusions reached in this study will have to keep in mind that the data is not completely ideal. \n",
    "However, identifying these limitations could lead to some generalized conclusions and may encourage seeking out other third-party data sources. \n",
    "\n",
    "`````{admonition} Key Takeaways:\n",
    ":class: tip\n",
    "The data is a public FitBit dataset that tracked various users' health data including calories burned and sleep. The data is limited in that it had a small sample size, short duration, and was completed years ago. \n",
    "`````"
   ]
  },
  {
   "cell_type": "markdown",
   "metadata": {},
   "source": [
    "---"
   ]
  },
  {
   "cell_type": "markdown",
   "metadata": {},
   "source": [
    "## 4. Process Phase"
   ]
  },
  {
   "cell_type": "markdown",
   "metadata": {},
   "source": [
    "Due to the number of data files and their size, I will be using Python to process the data. "
   ]
  },
  {
   "cell_type": "markdown",
   "metadata": {},
   "source": [
    "### 4.1 Import Libraries and Read in Data"
   ]
  },
  {
   "cell_type": "markdown",
   "metadata": {},
   "source": [
    "Goals:\n",
    "* see the distribution of users in the 4 intensity categories\n",
    "* see average steps and calorie burn per category\n",
    "* see what time of day the users are most active\n",
    "* see average sleep and sleep per category\n",
    "use these conclusions to advertise how bellabeat membership and usage can lead to improvements in all of these "
   ]
  },
  {
   "cell_type": "markdown",
   "metadata": {},
   "source": [
    "Starting off by importing the libraries we will need, all of which are standard for data analysis. "
   ]
  },
  {
   "cell_type": "code",
   "execution_count": 447,
   "metadata": {
    "notebookRunGroups": {
     "groupValue": ""
    }
   },
   "outputs": [],
   "source": [
    "import numpy as np\n",
    "import pandas as pd\n",
    "import matplotlib as mpl\n",
    "import matplotlib.pyplot as plt\n",
    "import seaborn as sns\n",
    "import os"
   ]
  },
  {
   "cell_type": "markdown",
   "metadata": {},
   "source": [
    "We can then take a look at which data files we have available.  \n",
    "__TODO:__ change the path to be generalized"
   ]
  },
  {
   "cell_type": "code",
   "execution_count": 2,
   "metadata": {},
   "outputs": [
    {
     "data": {
      "text/plain": [
       "['dailyActivity_merged.csv',\n",
       " 'dailyCalories_merged.csv',\n",
       " 'dailyIntensities_merged.csv',\n",
       " 'dailySteps_merged.csv',\n",
       " 'heartrate_seconds_merged.csv',\n",
       " 'hourlyCalories_merged.csv',\n",
       " 'hourlyIntensities_merged.csv',\n",
       " 'hourlySteps_merged.csv',\n",
       " 'minuteCaloriesNarrow_merged.csv',\n",
       " 'minuteCaloriesWide_merged.csv',\n",
       " 'minuteIntensitiesNarrow_merged.csv',\n",
       " 'minuteIntensitiesWide_merged.csv',\n",
       " 'minuteMETsNarrow_merged.csv',\n",
       " 'minuteSleep_merged.csv',\n",
       " 'minuteStepsNarrow_merged.csv',\n",
       " 'minuteStepsWide_merged.csv',\n",
       " 'sleepDay_merged.csv',\n",
       " 'weightLogInfo_merged.csv']"
      ]
     },
     "execution_count": 2,
     "metadata": {},
     "output_type": "execute_result"
    }
   ],
   "source": [
    "os.listdir(r'C:\\Users\\fahmi\\Documents\\Portfolio\\Large Files\\Data_Fitbase')"
   ]
  },
  {
   "cell_type": "markdown",
   "metadata": {},
   "source": [
    "__TODO:__ use MYST md notebooks to make all of the reading in and brief overview of the dataframes into tabs to save vertical space. "
   ]
  },
  {
   "cell_type": "markdown",
   "metadata": {},
   "source": [
    "We can now start reading in the files that we will be using in our analysis.  \n",
    "But first, we can create a simple function that will return important information about each created dataframe, such as the column names, shape, duplicate row count, and missing value count. "
   ]
  },
  {
   "cell_type": "code",
   "execution_count": 84,
   "metadata": {},
   "outputs": [],
   "source": [
    "def df_info(df: pd.DataFrame, name: str='df', dup_rows: bool=True, missing_values: bool=True):\n",
    "    '''Prints columns, shape, duplicate count, and null value count of a dataframe'''\n",
    "    print(\n",
    "    f'{name}:\\n',\n",
    "    f'\\tColumns: {list(df.columns)}\\n',\n",
    "    f'\\tShape: {df.shape}\\n',\n",
    "    f'\\tDuplicate rows: {df.duplicated().sum()}\\n' if dup_rows else '',\n",
    "    f'\\tMissing values: {df.isna().sum().sum()}' if missing_values else ''\n",
    "    )"
   ]
  },
  {
   "cell_type": "markdown",
   "metadata": {},
   "source": [
    "Starting with the daily activity data, we will also create a copy of the dataframe in order to easily revert to the original data if needed:\n",
    "\n",
    "```{note}\n",
    "The names of the 'date' columns in each of the .csv files have already been identified using the [Fitabase description of the dataset](https://www.fitabase.com/media/1930/fitabasedatadictionary102320.pdf) in order to save time when changing the datatype of the 'date' columns from 'object' to 'datetime64[ns]'. \n",
    "```"
   ]
  },
  {
   "cell_type": "code",
   "execution_count": 152,
   "metadata": {},
   "outputs": [
    {
     "name": "stdout",
     "output_type": "stream",
     "text": [
      "df_day_activity:\n",
      " \tColumns: ['Id', 'ActivityDate', 'TotalSteps', 'TotalDistance', 'TrackerDistance', 'LoggedActivitiesDistance', 'VeryActiveDistance', 'ModeratelyActiveDistance', 'LightActiveDistance', 'SedentaryActiveDistance', 'VeryActiveMinutes', 'FairlyActiveMinutes', 'LightlyActiveMinutes', 'SedentaryMinutes', 'Calories']\n",
      " \tShape: (940, 15)\n",
      " \tDuplicate rows: 0\n",
      " \tMissing values: 0\n"
     ]
    }
   ],
   "source": [
    "original_day_activity = pd.read_csv(\n",
    "    r'C:\\Users\\fahmi\\Documents\\Portfolio\\Large Files\\Data_Fitbase/dailyActivity_merged.csv', \n",
    "    parse_dates=['ActivityDate'], infer_datetime_format=True\n",
    ")\n",
    "df_day_activity = original_day_activity.copy()\n",
    "df_info(df=df_day_activity, name='df_day_activity')"
   ]
  },
  {
   "cell_type": "markdown",
   "metadata": {},
   "source": [
    "__TODO:__ \n",
    "* make cells with wide dataframes wide on website\n",
    "* drop unnecessary columns when creating df"
   ]
  },
  {
   "cell_type": "code",
   "execution_count": 86,
   "metadata": {
    "tags": [
     "output_scroll"
    ]
   },
   "outputs": [
    {
     "data": {
      "text/html": [
       "<div>\n",
       "<style scoped>\n",
       "    .dataframe tbody tr th:only-of-type {\n",
       "        vertical-align: middle;\n",
       "    }\n",
       "\n",
       "    .dataframe tbody tr th {\n",
       "        vertical-align: top;\n",
       "    }\n",
       "\n",
       "    .dataframe thead th {\n",
       "        text-align: right;\n",
       "    }\n",
       "</style>\n",
       "<table border=\"1\" class=\"dataframe\">\n",
       "  <thead>\n",
       "    <tr style=\"text-align: right;\">\n",
       "      <th></th>\n",
       "      <th>Id</th>\n",
       "      <th>ActivityDate</th>\n",
       "      <th>TotalSteps</th>\n",
       "      <th>TotalDistance</th>\n",
       "      <th>TrackerDistance</th>\n",
       "      <th>LoggedActivitiesDistance</th>\n",
       "      <th>VeryActiveDistance</th>\n",
       "      <th>ModeratelyActiveDistance</th>\n",
       "      <th>LightActiveDistance</th>\n",
       "      <th>SedentaryActiveDistance</th>\n",
       "      <th>VeryActiveMinutes</th>\n",
       "      <th>FairlyActiveMinutes</th>\n",
       "      <th>LightlyActiveMinutes</th>\n",
       "      <th>SedentaryMinutes</th>\n",
       "      <th>Calories</th>\n",
       "    </tr>\n",
       "  </thead>\n",
       "  <tbody>\n",
       "    <tr>\n",
       "      <th>0</th>\n",
       "      <td>1503960366</td>\n",
       "      <td>2016-04-12</td>\n",
       "      <td>13162</td>\n",
       "      <td>8.50</td>\n",
       "      <td>8.50</td>\n",
       "      <td>0.0</td>\n",
       "      <td>1.88</td>\n",
       "      <td>0.55</td>\n",
       "      <td>6.06</td>\n",
       "      <td>0.0</td>\n",
       "      <td>25</td>\n",
       "      <td>13</td>\n",
       "      <td>328</td>\n",
       "      <td>728</td>\n",
       "      <td>1985</td>\n",
       "    </tr>\n",
       "    <tr>\n",
       "      <th>1</th>\n",
       "      <td>1503960366</td>\n",
       "      <td>2016-04-13</td>\n",
       "      <td>10735</td>\n",
       "      <td>6.97</td>\n",
       "      <td>6.97</td>\n",
       "      <td>0.0</td>\n",
       "      <td>1.57</td>\n",
       "      <td>0.69</td>\n",
       "      <td>4.71</td>\n",
       "      <td>0.0</td>\n",
       "      <td>21</td>\n",
       "      <td>19</td>\n",
       "      <td>217</td>\n",
       "      <td>776</td>\n",
       "      <td>1797</td>\n",
       "    </tr>\n",
       "    <tr>\n",
       "      <th>2</th>\n",
       "      <td>1503960366</td>\n",
       "      <td>2016-04-14</td>\n",
       "      <td>10460</td>\n",
       "      <td>6.74</td>\n",
       "      <td>6.74</td>\n",
       "      <td>0.0</td>\n",
       "      <td>2.44</td>\n",
       "      <td>0.40</td>\n",
       "      <td>3.91</td>\n",
       "      <td>0.0</td>\n",
       "      <td>30</td>\n",
       "      <td>11</td>\n",
       "      <td>181</td>\n",
       "      <td>1218</td>\n",
       "      <td>1776</td>\n",
       "    </tr>\n",
       "  </tbody>\n",
       "</table>\n",
       "</div>"
      ],
      "text/plain": [
       "           Id ActivityDate  TotalSteps  TotalDistance  TrackerDistance  \\\n",
       "0  1503960366   2016-04-12       13162           8.50             8.50   \n",
       "1  1503960366   2016-04-13       10735           6.97             6.97   \n",
       "2  1503960366   2016-04-14       10460           6.74             6.74   \n",
       "\n",
       "   LoggedActivitiesDistance  VeryActiveDistance  ModeratelyActiveDistance  \\\n",
       "0                       0.0                1.88                      0.55   \n",
       "1                       0.0                1.57                      0.69   \n",
       "2                       0.0                2.44                      0.40   \n",
       "\n",
       "   LightActiveDistance  SedentaryActiveDistance  VeryActiveMinutes  \\\n",
       "0                 6.06                      0.0                 25   \n",
       "1                 4.71                      0.0                 21   \n",
       "2                 3.91                      0.0                 30   \n",
       "\n",
       "   FairlyActiveMinutes  LightlyActiveMinutes  SedentaryMinutes  Calories  \n",
       "0                   13                   328               728      1985  \n",
       "1                   19                   217               776      1797  \n",
       "2                   11                   181              1218      1776  "
      ]
     },
     "execution_count": 86,
     "metadata": {},
     "output_type": "execute_result"
    }
   ],
   "source": [
    "df_day_activity.head(3)"
   ]
  },
  {
   "cell_type": "markdown",
   "metadata": {},
   "source": [
    "We can then do the same with the hourly steps data:"
   ]
  },
  {
   "cell_type": "code",
   "execution_count": 87,
   "metadata": {},
   "outputs": [
    {
     "name": "stdout",
     "output_type": "stream",
     "text": [
      "hourly steps:\n",
      " \tColumns: ['Id', 'ActivityHour', 'StepTotal']\n",
      " \tShape: (22099, 3)\n",
      " \tDuplicate rows: 0\n",
      " \tMissing values: 0\n"
     ]
    }
   ],
   "source": [
    "original_hour_steps = pd.read_csv(\n",
    "    r'C:\\Users\\fahmi\\Documents\\Portfolio\\Large Files\\Data_Fitbase/hourlySteps_merged.csv',\n",
    "    parse_dates=['ActivityHour'], infer_datetime_format=True\n",
    ")\n",
    "df_hour_steps = original_hour_steps.copy()\n",
    "df_info(df=df_hour_steps, name='df_hour_steps')"
   ]
  },
  {
   "cell_type": "code",
   "execution_count": 88,
   "metadata": {},
   "outputs": [
    {
     "data": {
      "text/html": [
       "<div>\n",
       "<style scoped>\n",
       "    .dataframe tbody tr th:only-of-type {\n",
       "        vertical-align: middle;\n",
       "    }\n",
       "\n",
       "    .dataframe tbody tr th {\n",
       "        vertical-align: top;\n",
       "    }\n",
       "\n",
       "    .dataframe thead th {\n",
       "        text-align: right;\n",
       "    }\n",
       "</style>\n",
       "<table border=\"1\" class=\"dataframe\">\n",
       "  <thead>\n",
       "    <tr style=\"text-align: right;\">\n",
       "      <th></th>\n",
       "      <th>Id</th>\n",
       "      <th>ActivityHour</th>\n",
       "      <th>StepTotal</th>\n",
       "    </tr>\n",
       "  </thead>\n",
       "  <tbody>\n",
       "    <tr>\n",
       "      <th>0</th>\n",
       "      <td>1503960366</td>\n",
       "      <td>2016-04-12 00:00:00</td>\n",
       "      <td>373</td>\n",
       "    </tr>\n",
       "    <tr>\n",
       "      <th>1</th>\n",
       "      <td>1503960366</td>\n",
       "      <td>2016-04-12 01:00:00</td>\n",
       "      <td>160</td>\n",
       "    </tr>\n",
       "    <tr>\n",
       "      <th>2</th>\n",
       "      <td>1503960366</td>\n",
       "      <td>2016-04-12 02:00:00</td>\n",
       "      <td>151</td>\n",
       "    </tr>\n",
       "  </tbody>\n",
       "</table>\n",
       "</div>"
      ],
      "text/plain": [
       "           Id        ActivityHour  StepTotal\n",
       "0  1503960366 2016-04-12 00:00:00        373\n",
       "1  1503960366 2016-04-12 01:00:00        160\n",
       "2  1503960366 2016-04-12 02:00:00        151"
      ]
     },
     "execution_count": 88,
     "metadata": {},
     "output_type": "execute_result"
    }
   ],
   "source": [
    "df_hour_steps.head(3)"
   ]
  },
  {
   "cell_type": "markdown",
   "metadata": {},
   "source": [
    "And the hourly calories burned data:"
   ]
  },
  {
   "cell_type": "code",
   "execution_count": 89,
   "metadata": {},
   "outputs": [
    {
     "name": "stdout",
     "output_type": "stream",
     "text": [
      "hourly calories:\n",
      " \tColumns: ['Id', 'ActivityHour', 'Calories']\n",
      " \tShape: (22099, 3)\n",
      " \tDuplicate rows: 0\n",
      " \tMissing values: 0\n"
     ]
    }
   ],
   "source": [
    "original_hour_calories = pd.read_csv(\n",
    "    r'C:\\Users\\fahmi\\Documents\\Portfolio\\Large Files\\Data_Fitbase/hourlyCalories_merged.csv',\n",
    "    parse_dates=['ActivityHour'], infer_datetime_format=True\n",
    ")\n",
    "df_hour_calories = original_hour_calories.copy()\n",
    "df_info(df=df_hour_calories, name='df_hour_calories')"
   ]
  },
  {
   "cell_type": "code",
   "execution_count": 90,
   "metadata": {},
   "outputs": [
    {
     "data": {
      "text/html": [
       "<div>\n",
       "<style scoped>\n",
       "    .dataframe tbody tr th:only-of-type {\n",
       "        vertical-align: middle;\n",
       "    }\n",
       "\n",
       "    .dataframe tbody tr th {\n",
       "        vertical-align: top;\n",
       "    }\n",
       "\n",
       "    .dataframe thead th {\n",
       "        text-align: right;\n",
       "    }\n",
       "</style>\n",
       "<table border=\"1\" class=\"dataframe\">\n",
       "  <thead>\n",
       "    <tr style=\"text-align: right;\">\n",
       "      <th></th>\n",
       "      <th>Id</th>\n",
       "      <th>ActivityHour</th>\n",
       "      <th>Calories</th>\n",
       "    </tr>\n",
       "  </thead>\n",
       "  <tbody>\n",
       "    <tr>\n",
       "      <th>0</th>\n",
       "      <td>1503960366</td>\n",
       "      <td>2016-04-12 00:00:00</td>\n",
       "      <td>81</td>\n",
       "    </tr>\n",
       "    <tr>\n",
       "      <th>1</th>\n",
       "      <td>1503960366</td>\n",
       "      <td>2016-04-12 01:00:00</td>\n",
       "      <td>61</td>\n",
       "    </tr>\n",
       "    <tr>\n",
       "      <th>2</th>\n",
       "      <td>1503960366</td>\n",
       "      <td>2016-04-12 02:00:00</td>\n",
       "      <td>59</td>\n",
       "    </tr>\n",
       "  </tbody>\n",
       "</table>\n",
       "</div>"
      ],
      "text/plain": [
       "           Id        ActivityHour  Calories\n",
       "0  1503960366 2016-04-12 00:00:00        81\n",
       "1  1503960366 2016-04-12 01:00:00        61\n",
       "2  1503960366 2016-04-12 02:00:00        59"
      ]
     },
     "execution_count": 90,
     "metadata": {},
     "output_type": "execute_result"
    }
   ],
   "source": [
    "df_hour_calories.head(3)"
   ]
  },
  {
   "cell_type": "markdown",
   "metadata": {},
   "source": [
    "Then the daily sleep data:"
   ]
  },
  {
   "cell_type": "code",
   "execution_count": 91,
   "metadata": {},
   "outputs": [
    {
     "name": "stdout",
     "output_type": "stream",
     "text": [
      "daily sleep:\n",
      " \tColumns: ['Id', 'SleepDay', 'TotalSleepRecords', 'TotalMinutesAsleep', 'TotalTimeInBed']\n",
      " \tShape: (413, 5)\n",
      " \tDuplicate rows: 3\n",
      " \tMissing values: 0\n"
     ]
    }
   ],
   "source": [
    "original_day_sleep = pd.read_csv(\n",
    "    r'C:\\Users\\fahmi\\Documents\\Portfolio\\Large Files\\Data_Fitbase/sleepDay_merged.csv',\n",
    "    parse_dates=['SleepDay'], infer_datetime_format=True\n",
    ")\n",
    "df_day_sleep = original_day_sleep.copy()\n",
    "df_info(df=df_day_sleep, name='df_day_sleep')"
   ]
  },
  {
   "cell_type": "markdown",
   "metadata": {},
   "source": [
    "```{admonition} Duplicate Data Warning:\n",
    ":class: warning\n",
    "Unlike with the other datafrarmes, we can see that there's actually 3 duplicate rows in the daily sleep data that we will take care of later. \n",
    "```"
   ]
  },
  {
   "cell_type": "code",
   "execution_count": 92,
   "metadata": {},
   "outputs": [
    {
     "data": {
      "text/html": [
       "<div>\n",
       "<style scoped>\n",
       "    .dataframe tbody tr th:only-of-type {\n",
       "        vertical-align: middle;\n",
       "    }\n",
       "\n",
       "    .dataframe tbody tr th {\n",
       "        vertical-align: top;\n",
       "    }\n",
       "\n",
       "    .dataframe thead th {\n",
       "        text-align: right;\n",
       "    }\n",
       "</style>\n",
       "<table border=\"1\" class=\"dataframe\">\n",
       "  <thead>\n",
       "    <tr style=\"text-align: right;\">\n",
       "      <th></th>\n",
       "      <th>Id</th>\n",
       "      <th>SleepDay</th>\n",
       "      <th>TotalSleepRecords</th>\n",
       "      <th>TotalMinutesAsleep</th>\n",
       "      <th>TotalTimeInBed</th>\n",
       "    </tr>\n",
       "  </thead>\n",
       "  <tbody>\n",
       "    <tr>\n",
       "      <th>0</th>\n",
       "      <td>1503960366</td>\n",
       "      <td>2016-04-12</td>\n",
       "      <td>1</td>\n",
       "      <td>327</td>\n",
       "      <td>346</td>\n",
       "    </tr>\n",
       "    <tr>\n",
       "      <th>1</th>\n",
       "      <td>1503960366</td>\n",
       "      <td>2016-04-13</td>\n",
       "      <td>2</td>\n",
       "      <td>384</td>\n",
       "      <td>407</td>\n",
       "    </tr>\n",
       "    <tr>\n",
       "      <th>2</th>\n",
       "      <td>1503960366</td>\n",
       "      <td>2016-04-15</td>\n",
       "      <td>1</td>\n",
       "      <td>412</td>\n",
       "      <td>442</td>\n",
       "    </tr>\n",
       "  </tbody>\n",
       "</table>\n",
       "</div>"
      ],
      "text/plain": [
       "           Id   SleepDay  TotalSleepRecords  TotalMinutesAsleep  \\\n",
       "0  1503960366 2016-04-12                  1                 327   \n",
       "1  1503960366 2016-04-13                  2                 384   \n",
       "2  1503960366 2016-04-15                  1                 412   \n",
       "\n",
       "   TotalTimeInBed  \n",
       "0             346  \n",
       "1             407  \n",
       "2             442  "
      ]
     },
     "execution_count": 92,
     "metadata": {},
     "output_type": "execute_result"
    }
   ],
   "source": [
    "df_day_sleep.head(3)"
   ]
  },
  {
   "cell_type": "markdown",
   "metadata": {},
   "source": [
    "And finally, the minute sleep data:"
   ]
  },
  {
   "cell_type": "code",
   "execution_count": 93,
   "metadata": {},
   "outputs": [
    {
     "name": "stdout",
     "output_type": "stream",
     "text": [
      "minute sleep:\n",
      " \tColumns: ['Id', 'date', 'value', 'logId']\n",
      " \tShape: (188521, 4)\n",
      " \tDuplicate rows: 543\n",
      " \tMissing values: 0\n"
     ]
    }
   ],
   "source": [
    "original_min_sleep = pd.read_csv(\n",
    "    r'C:\\Users\\fahmi\\Documents\\Portfolio\\Large Files\\Data_Fitbase/minuteSleep_merged.csv', \n",
    "    parse_dates=['date'], infer_datetime_format=False\n",
    ")\n",
    "df_min_sleep = original_min_sleep.copy()\n",
    "df_info(df=df_min_sleep, name='df_min_sleep')"
   ]
  },
  {
   "cell_type": "markdown",
   "metadata": {},
   "source": [
    "```{admonition} Duplicate Data Warning:\n",
    ":class: warning\n",
    "In the minute sleep data, we can see that there's 543 duplicate rows that we need to take care of as part of data cleaning. \n",
    "```"
   ]
  },
  {
   "cell_type": "code",
   "execution_count": 94,
   "metadata": {},
   "outputs": [
    {
     "data": {
      "text/html": [
       "<div>\n",
       "<style scoped>\n",
       "    .dataframe tbody tr th:only-of-type {\n",
       "        vertical-align: middle;\n",
       "    }\n",
       "\n",
       "    .dataframe tbody tr th {\n",
       "        vertical-align: top;\n",
       "    }\n",
       "\n",
       "    .dataframe thead th {\n",
       "        text-align: right;\n",
       "    }\n",
       "</style>\n",
       "<table border=\"1\" class=\"dataframe\">\n",
       "  <thead>\n",
       "    <tr style=\"text-align: right;\">\n",
       "      <th></th>\n",
       "      <th>Id</th>\n",
       "      <th>date</th>\n",
       "      <th>value</th>\n",
       "      <th>logId</th>\n",
       "    </tr>\n",
       "  </thead>\n",
       "  <tbody>\n",
       "    <tr>\n",
       "      <th>0</th>\n",
       "      <td>1503960366</td>\n",
       "      <td>2016-04-12 02:47:30</td>\n",
       "      <td>3</td>\n",
       "      <td>11380564589</td>\n",
       "    </tr>\n",
       "    <tr>\n",
       "      <th>1</th>\n",
       "      <td>1503960366</td>\n",
       "      <td>2016-04-12 02:48:30</td>\n",
       "      <td>2</td>\n",
       "      <td>11380564589</td>\n",
       "    </tr>\n",
       "    <tr>\n",
       "      <th>2</th>\n",
       "      <td>1503960366</td>\n",
       "      <td>2016-04-12 02:49:30</td>\n",
       "      <td>1</td>\n",
       "      <td>11380564589</td>\n",
       "    </tr>\n",
       "  </tbody>\n",
       "</table>\n",
       "</div>"
      ],
      "text/plain": [
       "           Id                date  value        logId\n",
       "0  1503960366 2016-04-12 02:47:30      3  11380564589\n",
       "1  1503960366 2016-04-12 02:48:30      2  11380564589\n",
       "2  1503960366 2016-04-12 02:49:30      1  11380564589"
      ]
     },
     "execution_count": 94,
     "metadata": {},
     "output_type": "execute_result"
    }
   ],
   "source": [
    "df_min_sleep.head(3)"
   ]
  },
  {
   "cell_type": "markdown",
   "metadata": {},
   "source": [
    "### 4.2 Data Cleaning\n",
    "\n",
    "The first thing we should do as part of the data cleaning process is take care of the duplicate rows that we identified earlier in the ```df_day_sleep``` and ```df_min_sleep``` dataframes. "
   ]
  },
  {
   "cell_type": "code",
   "execution_count": 95,
   "metadata": {},
   "outputs": [
    {
     "name": "stdout",
     "output_type": "stream",
     "text": [
      "daily sleep:\n",
      " \tColumns: ['Id', 'SleepDay', 'TotalSleepRecords', 'TotalMinutesAsleep', 'TotalTimeInBed']\n",
      " \tShape: (413, 5)\n",
      " \tDuplicate rows: 3\n",
      " \tMissing values: 0\n",
      "minute sleep:\n",
      " \tColumns: ['Id', 'date', 'value', 'logId']\n",
      " \tShape: (188521, 4)\n",
      " \tDuplicate rows: 543\n",
      " \tMissing values: 0\n"
     ]
    }
   ],
   "source": [
    "df_info(df=df_day_sleep, name='df_day_sleep')\n",
    "df_info(df=df_min_sleep, name='df_min_sleep')"
   ]
  },
  {
   "cell_type": "code",
   "execution_count": 96,
   "metadata": {},
   "outputs": [
    {
     "name": "stdout",
     "output_type": "stream",
     "text": [
      "daily sleep:\n",
      " \tColumns: ['Id', 'SleepDay', 'TotalSleepRecords', 'TotalMinutesAsleep', 'TotalTimeInBed']\n",
      " \tShape: (410, 5)\n",
      " \tDuplicate rows: 0\n",
      " \tMissing values: 0\n"
     ]
    }
   ],
   "source": [
    "df_day_sleep.drop_duplicates(keep='first', inplace=True)\n",
    "df_info(df=df_day_sleep, name='df_day_sleep')"
   ]
  },
  {
   "cell_type": "code",
   "execution_count": 97,
   "metadata": {},
   "outputs": [
    {
     "name": "stdout",
     "output_type": "stream",
     "text": [
      "minute sleep:\n",
      " \tColumns: ['Id', 'date', 'value', 'logId']\n",
      " \tShape: (187978, 4)\n",
      " \tDuplicate rows: 0\n",
      " \tMissing values: 0\n"
     ]
    }
   ],
   "source": [
    "df_min_sleep.drop_duplicates(keep='first', inplace=True)\n",
    "df_info(df=df_min_sleep, name='df_min_sleep')"
   ]
  },
  {
   "cell_type": "markdown",
   "metadata": {},
   "source": [
    "And with that, we have made sure that there are no duplicate rows or null values in any of the dataframes.  \n",
    "Furthermore, we know that the data types of the columns are correct, as we have alerady parsed the 'date' columns in each of the dataframes, and pandas handles the rest of the columns automatically.  \n",
    "```{tip}\n",
    "We are working with 5 dataframes in this analysis:\n",
    "* df_day_activity\n",
    "* df_hour_steps\n",
    "* df_hour_calories\n",
    "* df_day_sleep \n",
    "* df_min_sleep\n",
    "```\n",
    "\n",
    "Now we can go on to eliminate columns that are unnecessary for our analysis, and rename columns as needed. "
   ]
  },
  {
   "cell_type": "code",
   "execution_count": 153,
   "metadata": {},
   "outputs": [
    {
     "name": "stdout",
     "output_type": "stream",
     "text": [
      "df_day_activity:\n",
      " \tColumns: ['Id', 'ActivityDate', 'TotalSteps', 'TotalDistance', 'TrackerDistance', 'LoggedActivitiesDistance', 'VeryActiveDistance', 'ModeratelyActiveDistance', 'LightActiveDistance', 'SedentaryActiveDistance', 'VeryActiveMinutes', 'FairlyActiveMinutes', 'LightlyActiveMinutes', 'SedentaryMinutes', 'Calories']\n",
      " \tShape: (940, 15)\n",
      "  \n"
     ]
    }
   ],
   "source": [
    "df_info(df=df_day_activity, name='df_day_activity', dup_rows=False, missing_values=False)"
   ]
  },
  {
   "cell_type": "code",
   "execution_count": 159,
   "metadata": {},
   "outputs": [],
   "source": [
    "columns_df_da = list(df_day_activity.columns.values)[4:-1]"
   ]
  },
  {
   "cell_type": "code",
   "execution_count": 160,
   "metadata": {},
   "outputs": [
    {
     "name": "stdout",
     "output_type": "stream",
     "text": [
      "df_day_activity:\n",
      " \tColumns: ['id', 'date', 'TotalSteps', 'TotalDistance', 'Calories']\n",
      " \tShape: (940, 5)\n",
      "  \n"
     ]
    }
   ],
   "source": [
    "df_day_activity = df_day_activity.rename(columns={'ActivityDate': 'date', 'Id': 'id'})\\\n",
    "                                 .drop(columns=columns_df_da)\n",
    "df_info(df=df_day_activity, name='df_day_activity', dup_rows=False, missing_values=False)"
   ]
  },
  {
   "cell_type": "markdown",
   "metadata": {},
   "source": [
    "<br>\n",
    "<br>"
   ]
  },
  {
   "cell_type": "code",
   "execution_count": 100,
   "metadata": {},
   "outputs": [
    {
     "name": "stdout",
     "output_type": "stream",
     "text": [
      "hourly steps:\n",
      " \tColumns: ['Id', 'ActivityHour', 'StepTotal']\n",
      " \tShape: (22099, 3)\n",
      "  \n"
     ]
    }
   ],
   "source": [
    "df_info(df_hour_steps, name='df_hour_steps', dup_rows=False, missing_values=False)"
   ]
  },
  {
   "cell_type": "code",
   "execution_count": 101,
   "metadata": {},
   "outputs": [
    {
     "name": "stdout",
     "output_type": "stream",
     "text": [
      "hourly steps:\n",
      " \tColumns: ['id', 'date_time', 'StepTotal']\n",
      " \tShape: (22099, 3)\n",
      "  \n"
     ]
    }
   ],
   "source": [
    "df_hour_steps = df_hour_steps.rename(columns={'Id': 'id', 'ActivityHour': 'date_time'})\n",
    "df_info(df_hour_steps, name='df_hour_steps', dup_rows=False, missing_values=False)"
   ]
  },
  {
   "cell_type": "markdown",
   "metadata": {},
   "source": [
    "<br>\n",
    "<br>"
   ]
  },
  {
   "cell_type": "code",
   "execution_count": 102,
   "metadata": {},
   "outputs": [
    {
     "name": "stdout",
     "output_type": "stream",
     "text": [
      "hourly calories:\n",
      " \tColumns: ['Id', 'ActivityHour', 'Calories']\n",
      " \tShape: (22099, 3)\n",
      "  \n"
     ]
    }
   ],
   "source": [
    "df_info(df_hour_calories, name='df_hour_calories', dup_rows=False, missing_values=False)"
   ]
  },
  {
   "cell_type": "code",
   "execution_count": 103,
   "metadata": {},
   "outputs": [
    {
     "name": "stdout",
     "output_type": "stream",
     "text": [
      "hourly calories:\n",
      " \tColumns: ['id', 'date_time', 'Calories']\n",
      " \tShape: (22099, 3)\n",
      "  \n"
     ]
    }
   ],
   "source": [
    "df_hour_calories = df_hour_calories.rename(columns={'Id': 'id', 'ActivityHour': 'date_time'})\n",
    "df_info(df_hour_calories, name='df_hour_calories', dup_rows=False, missing_values=False)"
   ]
  },
  {
   "cell_type": "markdown",
   "metadata": {},
   "source": [
    "<br>\n",
    "<br>"
   ]
  },
  {
   "cell_type": "code",
   "execution_count": 104,
   "metadata": {},
   "outputs": [
    {
     "name": "stdout",
     "output_type": "stream",
     "text": [
      "daily sleep:\n",
      " \tColumns: ['Id', 'SleepDay', 'TotalSleepRecords', 'TotalMinutesAsleep', 'TotalTimeInBed']\n",
      " \tShape: (410, 5)\n",
      "  \n"
     ]
    }
   ],
   "source": [
    "df_info(df_day_sleep, name='df_day_sleep', dup_rows=False, missing_values=False)"
   ]
  },
  {
   "cell_type": "code",
   "execution_count": 105,
   "metadata": {},
   "outputs": [
    {
     "name": "stdout",
     "output_type": "stream",
     "text": [
      "daily sleep:\n",
      " \tColumns: ['id', 'date', 'TotalSleepRecords', 'TotalMinutesAsleep', 'TotalTimeInBed']\n",
      " \tShape: (410, 5)\n",
      "  \n"
     ]
    }
   ],
   "source": [
    "df_day_sleep = df_day_sleep.rename(columns={'Id': 'id', 'SleepDay': 'date'})\n",
    "df_info(df_day_sleep, name='df_day_sleep', dup_rows=False, missing_values=False)"
   ]
  },
  {
   "cell_type": "markdown",
   "metadata": {},
   "source": [
    "<br>\n",
    "<br>"
   ]
  },
  {
   "cell_type": "code",
   "execution_count": 106,
   "metadata": {
    "notebookRunGroups": {
     "groupValue": ""
    }
   },
   "outputs": [
    {
     "name": "stdout",
     "output_type": "stream",
     "text": [
      "minute sleep:\n",
      " \tColumns: ['Id', 'date', 'value', 'logId']\n",
      " \tShape: (187978, 4)\n",
      "  \n"
     ]
    }
   ],
   "source": [
    "df_info(df_min_sleep, name='df_min_sleep', dup_rows=False, missing_values=False)"
   ]
  },
  {
   "cell_type": "code",
   "execution_count": 107,
   "metadata": {},
   "outputs": [
    {
     "name": "stdout",
     "output_type": "stream",
     "text": [
      "minute sleep:\n",
      " \tColumns: ['id', 'date_time', 'value']\n",
      " \tShape: (187978, 3)\n",
      "  \n"
     ]
    }
   ],
   "source": [
    "df_min_sleep = df_min_sleep.rename(columns={'Id': 'id', 'date': 'date_time'})\\\n",
    "                           .drop(columns='logId')\n",
    "df_info(df_min_sleep, name='df_min_sleep', dup_rows=False, missing_values=False)"
   ]
  },
  {
   "cell_type": "markdown",
   "metadata": {},
   "source": [
    "### 4.3 Merging Data\n",
    "\n",
    "Now that the data is clean, we can merge some of the dataframes together.  \n",
    "````{margin}\n",
    "```{tip}\n",
    "An inner join is used in this case because we only want to keep the rows that are common between the merged dataframes. Using 'id' and a 'date' column as the primary key can ensure that corresponding rows get matched correctly. \n",
    "```\n",
    "````\n",
    "We can merge the ```df_day_activity``` and ```df_day_sleep``` dataframes together to create a new dataframe called ```df_day_activity_sleep``` since their date columns are both 'date' instead of including a time element as well.  \n",
    "\n",
    "Similarly, we can combine the ```df_hour_steps``` and ```df_hour_calories``` dataframes to create a new dataframe called ```df_hour_steps_calories``` since their date columns include a time element.  \n",
    "\n",
    "Since no dataframe outside of ```df_min_sleep``` is on a minute-by-minute basis, we cannot combine the dataframe with the other dataframes.  \n",
    "\n",
    "Doing inner joins with the ```id``` and either ```date``` or ```date_time``` columns as the primary key will allow us to join the dataframes together without losing any of the data and without creating extraneous columns or rows.  \n",
    "\n",
    "Starting off with the  ```df_day_activity``` and ```df_day_sleep``` dataframes to make ```df_day_activity_sleep```:"
   ]
  },
  {
   "cell_type": "code",
   "execution_count": 161,
   "metadata": {},
   "outputs": [
    {
     "name": "stdout",
     "output_type": "stream",
     "text": [
      "df_day_activity_sleep:\n",
      " \tColumns: ['id', 'date', 'TotalSleepRecords', 'TotalMinutesAsleep', 'TotalTimeInBed', 'TotalSteps', 'TotalDistance', 'Calories']\n",
      " \tShape: (410, 8)\n",
      " \tDuplicate rows: 0\n",
      " \tMissing values: 0\n"
     ]
    }
   ],
   "source": [
    "df_day_activity_sleep = df_day_sleep.merge(right=df_day_activity, on=['id', 'date'], \n",
    "                                           how='inner', validate='1:1')\n",
    "df_info(df_day_activity_sleep, name='df_day_activity_sleep')"
   ]
  },
  {
   "cell_type": "code",
   "execution_count": 162,
   "metadata": {
    "tags": [
     "output_scroll"
    ]
   },
   "outputs": [
    {
     "data": {
      "text/html": [
       "<div>\n",
       "<style scoped>\n",
       "    .dataframe tbody tr th:only-of-type {\n",
       "        vertical-align: middle;\n",
       "    }\n",
       "\n",
       "    .dataframe tbody tr th {\n",
       "        vertical-align: top;\n",
       "    }\n",
       "\n",
       "    .dataframe thead th {\n",
       "        text-align: right;\n",
       "    }\n",
       "</style>\n",
       "<table border=\"1\" class=\"dataframe\">\n",
       "  <thead>\n",
       "    <tr style=\"text-align: right;\">\n",
       "      <th></th>\n",
       "      <th>id</th>\n",
       "      <th>date</th>\n",
       "      <th>TotalSleepRecords</th>\n",
       "      <th>TotalMinutesAsleep</th>\n",
       "      <th>TotalTimeInBed</th>\n",
       "      <th>TotalSteps</th>\n",
       "      <th>TotalDistance</th>\n",
       "      <th>Calories</th>\n",
       "    </tr>\n",
       "  </thead>\n",
       "  <tbody>\n",
       "    <tr>\n",
       "      <th>0</th>\n",
       "      <td>1503960366</td>\n",
       "      <td>2016-04-12</td>\n",
       "      <td>1</td>\n",
       "      <td>327</td>\n",
       "      <td>346</td>\n",
       "      <td>13162</td>\n",
       "      <td>8.50</td>\n",
       "      <td>1985</td>\n",
       "    </tr>\n",
       "    <tr>\n",
       "      <th>1</th>\n",
       "      <td>1503960366</td>\n",
       "      <td>2016-04-13</td>\n",
       "      <td>2</td>\n",
       "      <td>384</td>\n",
       "      <td>407</td>\n",
       "      <td>10735</td>\n",
       "      <td>6.97</td>\n",
       "      <td>1797</td>\n",
       "    </tr>\n",
       "    <tr>\n",
       "      <th>2</th>\n",
       "      <td>1503960366</td>\n",
       "      <td>2016-04-15</td>\n",
       "      <td>1</td>\n",
       "      <td>412</td>\n",
       "      <td>442</td>\n",
       "      <td>9762</td>\n",
       "      <td>6.28</td>\n",
       "      <td>1745</td>\n",
       "    </tr>\n",
       "  </tbody>\n",
       "</table>\n",
       "</div>"
      ],
      "text/plain": [
       "           id       date  TotalSleepRecords  TotalMinutesAsleep  \\\n",
       "0  1503960366 2016-04-12                  1                 327   \n",
       "1  1503960366 2016-04-13                  2                 384   \n",
       "2  1503960366 2016-04-15                  1                 412   \n",
       "\n",
       "   TotalTimeInBed  TotalSteps  TotalDistance  Calories  \n",
       "0             346       13162           8.50      1985  \n",
       "1             407       10735           6.97      1797  \n",
       "2             442        9762           6.28      1745  "
      ]
     },
     "execution_count": 162,
     "metadata": {},
     "output_type": "execute_result"
    }
   ],
   "source": [
    "df_day_activity_sleep.head(3)"
   ]
  },
  {
   "cell_type": "markdown",
   "metadata": {},
   "source": [
    "And then combining the ```df_hour_steps``` and ```df_hour_calories``` dataframes to make ```df_hour_steps_calories```:"
   ]
  },
  {
   "cell_type": "code",
   "execution_count": 116,
   "metadata": {},
   "outputs": [
    {
     "name": "stdout",
     "output_type": "stream",
     "text": [
      "df_hour_steps_calories:\n",
      " \tColumns: ['id', 'date_time', 'StepTotal', 'Calories']\n",
      " \tShape: (22099, 4)\n",
      " \tDuplicate rows: 0\n",
      " \tMissing values: 0\n"
     ]
    }
   ],
   "source": [
    "df_hour_steps_calories = df_hour_steps.merge(right=df_hour_calories, on=['id', 'date_time'],\n",
    "                                             how='inner', validate='1:1')\n",
    "df_info(df_hour_steps_calories, name='df_hour_steps_calories')"
   ]
  },
  {
   "cell_type": "code",
   "execution_count": 118,
   "metadata": {},
   "outputs": [
    {
     "data": {
      "text/html": [
       "<div>\n",
       "<style scoped>\n",
       "    .dataframe tbody tr th:only-of-type {\n",
       "        vertical-align: middle;\n",
       "    }\n",
       "\n",
       "    .dataframe tbody tr th {\n",
       "        vertical-align: top;\n",
       "    }\n",
       "\n",
       "    .dataframe thead th {\n",
       "        text-align: right;\n",
       "    }\n",
       "</style>\n",
       "<table border=\"1\" class=\"dataframe\">\n",
       "  <thead>\n",
       "    <tr style=\"text-align: right;\">\n",
       "      <th></th>\n",
       "      <th>id</th>\n",
       "      <th>date_time</th>\n",
       "      <th>StepTotal</th>\n",
       "      <th>Calories</th>\n",
       "    </tr>\n",
       "  </thead>\n",
       "  <tbody>\n",
       "    <tr>\n",
       "      <th>0</th>\n",
       "      <td>1503960366</td>\n",
       "      <td>2016-04-12 00:00:00</td>\n",
       "      <td>373</td>\n",
       "      <td>81</td>\n",
       "    </tr>\n",
       "    <tr>\n",
       "      <th>1</th>\n",
       "      <td>1503960366</td>\n",
       "      <td>2016-04-12 01:00:00</td>\n",
       "      <td>160</td>\n",
       "      <td>61</td>\n",
       "    </tr>\n",
       "    <tr>\n",
       "      <th>2</th>\n",
       "      <td>1503960366</td>\n",
       "      <td>2016-04-12 02:00:00</td>\n",
       "      <td>151</td>\n",
       "      <td>59</td>\n",
       "    </tr>\n",
       "  </tbody>\n",
       "</table>\n",
       "</div>"
      ],
      "text/plain": [
       "           id           date_time  StepTotal  Calories\n",
       "0  1503960366 2016-04-12 00:00:00        373        81\n",
       "1  1503960366 2016-04-12 01:00:00        160        61\n",
       "2  1503960366 2016-04-12 02:00:00        151        59"
      ]
     },
     "execution_count": 118,
     "metadata": {},
     "output_type": "execute_result"
    }
   ],
   "source": [
    "df_hour_steps_calories.head(3)"
   ]
  },
  {
   "cell_type": "markdown",
   "metadata": {},
   "source": [
    "And our final dataframe, ```df_min_sleep```:"
   ]
  },
  {
   "cell_type": "code",
   "execution_count": 119,
   "metadata": {},
   "outputs": [
    {
     "data": {
      "text/html": [
       "<div>\n",
       "<style scoped>\n",
       "    .dataframe tbody tr th:only-of-type {\n",
       "        vertical-align: middle;\n",
       "    }\n",
       "\n",
       "    .dataframe tbody tr th {\n",
       "        vertical-align: top;\n",
       "    }\n",
       "\n",
       "    .dataframe thead th {\n",
       "        text-align: right;\n",
       "    }\n",
       "</style>\n",
       "<table border=\"1\" class=\"dataframe\">\n",
       "  <thead>\n",
       "    <tr style=\"text-align: right;\">\n",
       "      <th></th>\n",
       "      <th>id</th>\n",
       "      <th>date_time</th>\n",
       "      <th>value</th>\n",
       "    </tr>\n",
       "  </thead>\n",
       "  <tbody>\n",
       "    <tr>\n",
       "      <th>0</th>\n",
       "      <td>1503960366</td>\n",
       "      <td>2016-04-12 02:47:30</td>\n",
       "      <td>3</td>\n",
       "    </tr>\n",
       "    <tr>\n",
       "      <th>1</th>\n",
       "      <td>1503960366</td>\n",
       "      <td>2016-04-12 02:48:30</td>\n",
       "      <td>2</td>\n",
       "    </tr>\n",
       "    <tr>\n",
       "      <th>2</th>\n",
       "      <td>1503960366</td>\n",
       "      <td>2016-04-12 02:49:30</td>\n",
       "      <td>1</td>\n",
       "    </tr>\n",
       "  </tbody>\n",
       "</table>\n",
       "</div>"
      ],
      "text/plain": [
       "           id           date_time  value\n",
       "0  1503960366 2016-04-12 02:47:30      3\n",
       "1  1503960366 2016-04-12 02:48:30      2\n",
       "2  1503960366 2016-04-12 02:49:30      1"
      ]
     },
     "execution_count": 119,
     "metadata": {},
     "output_type": "execute_result"
    }
   ],
   "source": [
    "df_min_sleep.head(3)"
   ]
  },
  {
   "cell_type": "markdown",
   "metadata": {},
   "source": [
    "### 4.4 Adding Relevant Columns\n",
    "\n",
    "For our now 3 dataframes, we can add a `day_of_week` column that will be used to identify the day of the week for each date. This may make it easier to visualize the data later on. "
   ]
  },
  {
   "cell_type": "code",
   "execution_count": 137,
   "metadata": {},
   "outputs": [],
   "source": [
    "df_day_activity_sleep['day_of_week'] = df_day_activity_sleep['date'].dt.day_name()\n",
    "df_hour_steps_calories['day_of_week'] = df_hour_steps_calories['date_time'].dt.day_name()\n",
    "df_min_sleep['day_of_week'] = df_min_sleep['date_time'].dt.day_name()"
   ]
  },
  {
   "cell_type": "markdown",
   "metadata": {},
   "source": [
    "Then we can move the ```day_of_week``` column toward the front of the dataframe:"
   ]
  },
  {
   "cell_type": "code",
   "execution_count": 138,
   "metadata": {},
   "outputs": [],
   "source": [
    "day_of_week = df_day_activity_sleep['day_of_week']\n",
    "df_day_activity_sleep.drop(columns='day_of_week', inplace=True)\n",
    "df_day_activity_sleep.insert(loc=2, column='day_of_week', value=day_of_week)\n",
    "\n",
    "day_of_week = df_hour_steps_calories['day_of_week']\n",
    "df_hour_steps_calories.drop(columns='day_of_week', inplace=True)\n",
    "df_hour_steps_calories.insert(loc=2, column='day_of_week', value=day_of_week)\n",
    "\n",
    "day_of_week = df_hour_steps_calories['day_of_week']\n",
    "df_min_sleep.drop(columns='day_of_week', inplace=True)\n",
    "df_min_sleep.insert(loc=2, column='day_of_week', value=day_of_week)"
   ]
  },
  {
   "cell_type": "markdown",
   "metadata": {},
   "source": [
    "And taking a final quick look at the dataframes before analysis:"
   ]
  },
  {
   "cell_type": "code",
   "execution_count": 165,
   "metadata": {
    "tags": [
     "output_scroll"
    ]
   },
   "outputs": [
    {
     "data": {
      "text/html": [
       "<div>\n",
       "<style scoped>\n",
       "    .dataframe tbody tr th:only-of-type {\n",
       "        vertical-align: middle;\n",
       "    }\n",
       "\n",
       "    .dataframe tbody tr th {\n",
       "        vertical-align: top;\n",
       "    }\n",
       "\n",
       "    .dataframe thead th {\n",
       "        text-align: right;\n",
       "    }\n",
       "</style>\n",
       "<table border=\"1\" class=\"dataframe\">\n",
       "  <thead>\n",
       "    <tr style=\"text-align: right;\">\n",
       "      <th></th>\n",
       "      <th>id</th>\n",
       "      <th>date</th>\n",
       "      <th>day_of_week</th>\n",
       "      <th>TotalSleepRecords</th>\n",
       "      <th>TotalMinutesAsleep</th>\n",
       "      <th>TotalTimeInBed</th>\n",
       "      <th>TotalSteps</th>\n",
       "      <th>TotalDistance</th>\n",
       "      <th>Calories</th>\n",
       "    </tr>\n",
       "  </thead>\n",
       "  <tbody>\n",
       "    <tr>\n",
       "      <th>0</th>\n",
       "      <td>1503960366</td>\n",
       "      <td>2016-04-12</td>\n",
       "      <td>Tuesday</td>\n",
       "      <td>1</td>\n",
       "      <td>327</td>\n",
       "      <td>346</td>\n",
       "      <td>13162</td>\n",
       "      <td>8.50</td>\n",
       "      <td>1985</td>\n",
       "    </tr>\n",
       "    <tr>\n",
       "      <th>1</th>\n",
       "      <td>1503960366</td>\n",
       "      <td>2016-04-13</td>\n",
       "      <td>Wednesday</td>\n",
       "      <td>2</td>\n",
       "      <td>384</td>\n",
       "      <td>407</td>\n",
       "      <td>10735</td>\n",
       "      <td>6.97</td>\n",
       "      <td>1797</td>\n",
       "    </tr>\n",
       "    <tr>\n",
       "      <th>2</th>\n",
       "      <td>1503960366</td>\n",
       "      <td>2016-04-15</td>\n",
       "      <td>Friday</td>\n",
       "      <td>1</td>\n",
       "      <td>412</td>\n",
       "      <td>442</td>\n",
       "      <td>9762</td>\n",
       "      <td>6.28</td>\n",
       "      <td>1745</td>\n",
       "    </tr>\n",
       "  </tbody>\n",
       "</table>\n",
       "</div>"
      ],
      "text/plain": [
       "           id       date day_of_week  TotalSleepRecords  TotalMinutesAsleep  \\\n",
       "0  1503960366 2016-04-12     Tuesday                  1                 327   \n",
       "1  1503960366 2016-04-13   Wednesday                  2                 384   \n",
       "2  1503960366 2016-04-15      Friday                  1                 412   \n",
       "\n",
       "   TotalTimeInBed  TotalSteps  TotalDistance  Calories  \n",
       "0             346       13162           8.50      1985  \n",
       "1             407       10735           6.97      1797  \n",
       "2             442        9762           6.28      1745  "
      ]
     },
     "execution_count": 165,
     "metadata": {},
     "output_type": "execute_result"
    }
   ],
   "source": [
    "df_day_activity_sleep.head(3)"
   ]
  },
  {
   "cell_type": "code",
   "execution_count": 140,
   "metadata": {},
   "outputs": [
    {
     "data": {
      "text/html": [
       "<div>\n",
       "<style scoped>\n",
       "    .dataframe tbody tr th:only-of-type {\n",
       "        vertical-align: middle;\n",
       "    }\n",
       "\n",
       "    .dataframe tbody tr th {\n",
       "        vertical-align: top;\n",
       "    }\n",
       "\n",
       "    .dataframe thead th {\n",
       "        text-align: right;\n",
       "    }\n",
       "</style>\n",
       "<table border=\"1\" class=\"dataframe\">\n",
       "  <thead>\n",
       "    <tr style=\"text-align: right;\">\n",
       "      <th></th>\n",
       "      <th>id</th>\n",
       "      <th>date_time</th>\n",
       "      <th>day_of_week</th>\n",
       "      <th>StepTotal</th>\n",
       "      <th>Calories</th>\n",
       "    </tr>\n",
       "  </thead>\n",
       "  <tbody>\n",
       "    <tr>\n",
       "      <th>0</th>\n",
       "      <td>1503960366</td>\n",
       "      <td>2016-04-12 00:00:00</td>\n",
       "      <td>Tuesday</td>\n",
       "      <td>373</td>\n",
       "      <td>81</td>\n",
       "    </tr>\n",
       "    <tr>\n",
       "      <th>1</th>\n",
       "      <td>1503960366</td>\n",
       "      <td>2016-04-12 01:00:00</td>\n",
       "      <td>Tuesday</td>\n",
       "      <td>160</td>\n",
       "      <td>61</td>\n",
       "    </tr>\n",
       "    <tr>\n",
       "      <th>2</th>\n",
       "      <td>1503960366</td>\n",
       "      <td>2016-04-12 02:00:00</td>\n",
       "      <td>Tuesday</td>\n",
       "      <td>151</td>\n",
       "      <td>59</td>\n",
       "    </tr>\n",
       "  </tbody>\n",
       "</table>\n",
       "</div>"
      ],
      "text/plain": [
       "           id           date_time day_of_week  StepTotal  Calories\n",
       "0  1503960366 2016-04-12 00:00:00     Tuesday        373        81\n",
       "1  1503960366 2016-04-12 01:00:00     Tuesday        160        61\n",
       "2  1503960366 2016-04-12 02:00:00     Tuesday        151        59"
      ]
     },
     "execution_count": 140,
     "metadata": {},
     "output_type": "execute_result"
    }
   ],
   "source": [
    "df_hour_steps_calories.head(3)"
   ]
  },
  {
   "cell_type": "code",
   "execution_count": 141,
   "metadata": {},
   "outputs": [
    {
     "data": {
      "text/html": [
       "<div>\n",
       "<style scoped>\n",
       "    .dataframe tbody tr th:only-of-type {\n",
       "        vertical-align: middle;\n",
       "    }\n",
       "\n",
       "    .dataframe tbody tr th {\n",
       "        vertical-align: top;\n",
       "    }\n",
       "\n",
       "    .dataframe thead th {\n",
       "        text-align: right;\n",
       "    }\n",
       "</style>\n",
       "<table border=\"1\" class=\"dataframe\">\n",
       "  <thead>\n",
       "    <tr style=\"text-align: right;\">\n",
       "      <th></th>\n",
       "      <th>id</th>\n",
       "      <th>date_time</th>\n",
       "      <th>day_of_week</th>\n",
       "      <th>value</th>\n",
       "    </tr>\n",
       "  </thead>\n",
       "  <tbody>\n",
       "    <tr>\n",
       "      <th>0</th>\n",
       "      <td>1503960366</td>\n",
       "      <td>2016-04-12 02:47:30</td>\n",
       "      <td>Tuesday</td>\n",
       "      <td>3</td>\n",
       "    </tr>\n",
       "    <tr>\n",
       "      <th>1</th>\n",
       "      <td>1503960366</td>\n",
       "      <td>2016-04-12 02:48:30</td>\n",
       "      <td>Tuesday</td>\n",
       "      <td>2</td>\n",
       "    </tr>\n",
       "    <tr>\n",
       "      <th>2</th>\n",
       "      <td>1503960366</td>\n",
       "      <td>2016-04-12 02:49:30</td>\n",
       "      <td>Tuesday</td>\n",
       "      <td>1</td>\n",
       "    </tr>\n",
       "  </tbody>\n",
       "</table>\n",
       "</div>"
      ],
      "text/plain": [
       "           id           date_time day_of_week  value\n",
       "0  1503960366 2016-04-12 02:47:30     Tuesday      3\n",
       "1  1503960366 2016-04-12 02:48:30     Tuesday      2\n",
       "2  1503960366 2016-04-12 02:49:30     Tuesday      1"
      ]
     },
     "execution_count": 141,
     "metadata": {},
     "output_type": "execute_result"
    }
   ],
   "source": [
    "df_min_sleep.head(3)"
   ]
  },
  {
   "cell_type": "markdown",
   "metadata": {},
   "source": [
    "---"
   ]
  },
  {
   "cell_type": "markdown",
   "metadata": {},
   "source": [
    "## 5. Analyze and Share Phase\n",
    "<!-- <a name='Analyze-and-Share-Phase'></a><h3 style=\"color:#FA8072\">5. Analyze and Share Phase:</h3> -->"
   ]
  },
  {
   "cell_type": "markdown",
   "metadata": {},
   "source": [
    "With our data clean and processed, we can now begin to analyze the data to see how we can influence and improve Bellabeat's marketing decisions. \n",
    "\n",
    "### 5.1 Activity Level Distribution\n",
    "First off, we can classify the individuals in the ```df_day_activity_sleep``` dataframe into 4 activity levels as adjusted from [10000steps.org.au](https://www.10000steps.org.au/articles/counting-steps/):\n",
    "\n",
    "With this information, Bellabeat will be able to get an understanding of the demographics of users who use smart fitness devices like the FitBit, and an idea of what types of individuals they should focus their marketing efforts towards. \n",
    "\n",
    "* Sedentary: < 5,000 steps per day\n",
    "* Lightly Active: 5,000 - 7,499 steps per day\n",
    "* Fairly Active: 7,500 - 9,999 steps per day\n",
    "* Very Active: more than 10,000 steps per day\n",
    "\n",
    "```{note}\n",
    "[10000steps.org.au](https://www.10000steps.org.au/articles/counting-steps/) recommends that most adults take 10,000 steps daily as studies have shown that this level of activity leads to weight loss, better glucose tolerance, and reduced blood pressure. \n",
    "```\n",
    "\n",
    "To do this, we can first find the average steps taken per day for each of the individuals in the ```df_day_activity_sleep``` dataframe.  \n",
    "In order to still be able to refer to ```df_day_activity_sleep``` afterwards, we can create a new dataframe called ```df_avg_actslp``` that will be grouped by ```id``` and then the columns will be averaged. "
   ]
  },
  {
   "cell_type": "code",
   "execution_count": 168,
   "metadata": {
    "tags": [
     "output_scroll"
    ]
   },
   "outputs": [],
   "source": [
    "df_avg_actslp = df_day_activity_sleep.copy().groupby(by='id').mean().reset_index()"
   ]
  },
  {
   "cell_type": "code",
   "execution_count": 169,
   "metadata": {
    "tags": [
     "output_scroll"
    ]
   },
   "outputs": [
    {
     "data": {
      "text/html": [
       "<div>\n",
       "<style scoped>\n",
       "    .dataframe tbody tr th:only-of-type {\n",
       "        vertical-align: middle;\n",
       "    }\n",
       "\n",
       "    .dataframe tbody tr th {\n",
       "        vertical-align: top;\n",
       "    }\n",
       "\n",
       "    .dataframe thead th {\n",
       "        text-align: right;\n",
       "    }\n",
       "</style>\n",
       "<table border=\"1\" class=\"dataframe\">\n",
       "  <thead>\n",
       "    <tr style=\"text-align: right;\">\n",
       "      <th></th>\n",
       "      <th>id</th>\n",
       "      <th>TotalSleepRecords</th>\n",
       "      <th>TotalMinutesAsleep</th>\n",
       "      <th>TotalTimeInBed</th>\n",
       "      <th>TotalSteps</th>\n",
       "      <th>TotalDistance</th>\n",
       "      <th>Calories</th>\n",
       "    </tr>\n",
       "  </thead>\n",
       "  <tbody>\n",
       "    <tr>\n",
       "      <th>0</th>\n",
       "      <td>1503960366</td>\n",
       "      <td>1.08</td>\n",
       "      <td>360.28</td>\n",
       "      <td>383.2</td>\n",
       "      <td>12405.68</td>\n",
       "      <td>7.971200</td>\n",
       "      <td>1872.280000</td>\n",
       "    </tr>\n",
       "    <tr>\n",
       "      <th>1</th>\n",
       "      <td>1644430081</td>\n",
       "      <td>1.00</td>\n",
       "      <td>294.00</td>\n",
       "      <td>346.0</td>\n",
       "      <td>7967.75</td>\n",
       "      <td>5.792500</td>\n",
       "      <td>2977.750000</td>\n",
       "    </tr>\n",
       "    <tr>\n",
       "      <th>2</th>\n",
       "      <td>1844505072</td>\n",
       "      <td>1.00</td>\n",
       "      <td>652.00</td>\n",
       "      <td>961.0</td>\n",
       "      <td>3477.00</td>\n",
       "      <td>2.303333</td>\n",
       "      <td>1676.333333</td>\n",
       "    </tr>\n",
       "  </tbody>\n",
       "</table>\n",
       "</div>"
      ],
      "text/plain": [
       "           id  TotalSleepRecords  TotalMinutesAsleep  TotalTimeInBed  \\\n",
       "0  1503960366               1.08              360.28           383.2   \n",
       "1  1644430081               1.00              294.00           346.0   \n",
       "2  1844505072               1.00              652.00           961.0   \n",
       "\n",
       "   TotalSteps  TotalDistance     Calories  \n",
       "0    12405.68       7.971200  1872.280000  \n",
       "1     7967.75       5.792500  2977.750000  \n",
       "2     3477.00       2.303333  1676.333333  "
      ]
     },
     "execution_count": 169,
     "metadata": {},
     "output_type": "execute_result"
    }
   ],
   "source": [
    "df_avg_actslp.head(3)"
   ]
  },
  {
   "cell_type": "markdown",
   "metadata": {},
   "source": [
    "Now that we have the average steps taken per day for each individual, we can classify each of them into the 4 activity levels. "
   ]
  },
  {
   "cell_type": "code",
   "execution_count": 171,
   "metadata": {},
   "outputs": [],
   "source": [
    "conditions = [df_avg_actslp.TotalSteps < 5000, \n",
    "              (df_avg_actslp.TotalSteps >= 5000) & (df_avg_actslp.TotalSteps < 7499),\n",
    "              (df_avg_actslp.TotalSteps >= 7500) & (df_avg_actslp.TotalSteps < 9999),\n",
    "              (df_avg_actslp.TotalSteps >= 10_000)\n",
    "             ]\n",
    "choices = ['sedentary', 'lightly active', 'moderately active', 'very active']\n",
    "\n",
    "df_avg_actslp['activity_level'] = np.select(conditions, choices, default=np.nan)"
   ]
  },
  {
   "cell_type": "code",
   "execution_count": 176,
   "metadata": {
    "tags": [
     "output_scroll"
    ]
   },
   "outputs": [
    {
     "data": {
      "text/html": [
       "<div>\n",
       "<style scoped>\n",
       "    .dataframe tbody tr th:only-of-type {\n",
       "        vertical-align: middle;\n",
       "    }\n",
       "\n",
       "    .dataframe tbody tr th {\n",
       "        vertical-align: top;\n",
       "    }\n",
       "\n",
       "    .dataframe thead th {\n",
       "        text-align: right;\n",
       "    }\n",
       "</style>\n",
       "<table border=\"1\" class=\"dataframe\">\n",
       "  <thead>\n",
       "    <tr style=\"text-align: right;\">\n",
       "      <th></th>\n",
       "      <th>id</th>\n",
       "      <th>TotalSleepRecords</th>\n",
       "      <th>TotalMinutesAsleep</th>\n",
       "      <th>TotalTimeInBed</th>\n",
       "      <th>TotalSteps</th>\n",
       "      <th>TotalDistance</th>\n",
       "      <th>Calories</th>\n",
       "      <th>activity_level</th>\n",
       "    </tr>\n",
       "  </thead>\n",
       "  <tbody>\n",
       "    <tr>\n",
       "      <th>0</th>\n",
       "      <td>1503960366</td>\n",
       "      <td>1.08</td>\n",
       "      <td>360.28</td>\n",
       "      <td>383.2</td>\n",
       "      <td>12405.68</td>\n",
       "      <td>7.971200</td>\n",
       "      <td>1872.280000</td>\n",
       "      <td>very active</td>\n",
       "    </tr>\n",
       "    <tr>\n",
       "      <th>1</th>\n",
       "      <td>1644430081</td>\n",
       "      <td>1.00</td>\n",
       "      <td>294.00</td>\n",
       "      <td>346.0</td>\n",
       "      <td>7967.75</td>\n",
       "      <td>5.792500</td>\n",
       "      <td>2977.750000</td>\n",
       "      <td>moderately active</td>\n",
       "    </tr>\n",
       "    <tr>\n",
       "      <th>2</th>\n",
       "      <td>1844505072</td>\n",
       "      <td>1.00</td>\n",
       "      <td>652.00</td>\n",
       "      <td>961.0</td>\n",
       "      <td>3477.00</td>\n",
       "      <td>2.303333</td>\n",
       "      <td>1676.333333</td>\n",
       "      <td>sedentary</td>\n",
       "    </tr>\n",
       "  </tbody>\n",
       "</table>\n",
       "</div>"
      ],
      "text/plain": [
       "           id  TotalSleepRecords  TotalMinutesAsleep  TotalTimeInBed  \\\n",
       "0  1503960366               1.08              360.28           383.2   \n",
       "1  1644430081               1.00              294.00           346.0   \n",
       "2  1844505072               1.00              652.00           961.0   \n",
       "\n",
       "   TotalSteps  TotalDistance     Calories     activity_level  \n",
       "0    12405.68       7.971200  1872.280000        very active  \n",
       "1     7967.75       5.792500  2977.750000  moderately active  \n",
       "2     3477.00       2.303333  1676.333333          sedentary  "
      ]
     },
     "execution_count": 176,
     "metadata": {},
     "output_type": "execute_result"
    }
   ],
   "source": [
    "df_avg_actslp.head(3)"
   ]
  },
  {
   "cell_type": "markdown",
   "metadata": {},
   "source": [
    "We should also make sure that this worked for all of the rows, and there weren't any null values added to the dataframe. "
   ]
  },
  {
   "cell_type": "code",
   "execution_count": 173,
   "metadata": {},
   "outputs": [
    {
     "name": "stdout",
     "output_type": "stream",
     "text": [
      "df_avg_actslp:\n",
      " \tColumns: ['id', 'TotalSleepRecords', 'TotalMinutesAsleep', 'TotalTimeInBed', 'TotalSteps', 'TotalDistance', 'Calories', 'activity_level']\n",
      " \tShape: (24, 8)\n",
      " \tDuplicate rows: 0\n",
      " \tMissing values: 0\n"
     ]
    }
   ],
   "source": [
    "df_info(df_avg_actslp, name='df_avg_actslp')"
   ]
  },
  {
   "cell_type": "markdown",
   "metadata": {},
   "source": [
    "Now we can create a new dataframe called ```df_pct_actlvl``` for 'df_percent_activity_level' that will be grouped by ```activity_level``` with the percent of individuals in each activity level."
   ]
  },
  {
   "cell_type": "code",
   "execution_count": 280,
   "metadata": {},
   "outputs": [],
   "source": [
    "df_pct_actlvl = df_avg_actslp.activity_level.value_counts(normalize=True).reset_index()"
   ]
  },
  {
   "cell_type": "code",
   "execution_count": 281,
   "metadata": {},
   "outputs": [],
   "source": [
    "df_pct_actlvl.rename(columns={'index': 'activity_level', 'activity_level': 'percentage'}, inplace=True)\n",
    "df_pct_actlvl.percentage *= 100"
   ]
  },
  {
   "cell_type": "code",
   "execution_count": 282,
   "metadata": {},
   "outputs": [
    {
     "data": {
      "text/html": [
       "<div>\n",
       "<style scoped>\n",
       "    .dataframe tbody tr th:only-of-type {\n",
       "        vertical-align: middle;\n",
       "    }\n",
       "\n",
       "    .dataframe tbody tr th {\n",
       "        vertical-align: top;\n",
       "    }\n",
       "\n",
       "    .dataframe thead th {\n",
       "        text-align: right;\n",
       "    }\n",
       "</style>\n",
       "<table border=\"1\" class=\"dataframe\">\n",
       "  <thead>\n",
       "    <tr style=\"text-align: right;\">\n",
       "      <th></th>\n",
       "      <th>activity_level</th>\n",
       "      <th>percentage</th>\n",
       "    </tr>\n",
       "  </thead>\n",
       "  <tbody>\n",
       "    <tr>\n",
       "      <th>0</th>\n",
       "      <td>moderately active</td>\n",
       "      <td>37.500000</td>\n",
       "    </tr>\n",
       "    <tr>\n",
       "      <th>1</th>\n",
       "      <td>very active</td>\n",
       "      <td>20.833333</td>\n",
       "    </tr>\n",
       "    <tr>\n",
       "      <th>2</th>\n",
       "      <td>sedentary</td>\n",
       "      <td>20.833333</td>\n",
       "    </tr>\n",
       "  </tbody>\n",
       "</table>\n",
       "</div>"
      ],
      "text/plain": [
       "      activity_level  percentage\n",
       "0  moderately active   37.500000\n",
       "1        very active   20.833333\n",
       "2          sedentary   20.833333"
      ]
     },
     "execution_count": 282,
     "metadata": {},
     "output_type": "execute_result"
    }
   ],
   "source": [
    "df_pct_actlvl.head(3)"
   ]
  },
  {
   "cell_type": "markdown",
   "metadata": {},
   "source": [
    "With this dataframe, we can plot the percentages of individuals in each activity level:"
   ]
  },
  {
   "cell_type": "code",
   "execution_count": 309,
   "metadata": {},
   "outputs": [
    {
     "data": {
      "image/png": "[encoded data removed]",
      "text/plain": [
       "<Figure size 864x864 with 1 Axes>"
      ]
     },
     "metadata": {},
     "output_type": "display_data"
    }
   ],
   "source": [
    "fig, ax = plt.subplots(figsize=(12,12), facecolor='w')\n",
    "plt.rcParams.update({'font.size': 20})\n",
    "labels = ['Sedentary', 'Lightly Active', 'Moderately Active', 'Very Active']\n",
    "\n",
    "plt.pie(\n",
    "        df_pct_actlvl.percentage, labels=labels,  startangle=113,\n",
    "        autopct='%1.1f%%', pctdistance=0.85, colors=plt.cm.Reds_r(np.arange(75, 226, 50)), \n",
    "        wedgeprops={'linewidth': 8, 'edgecolor': 'white'}\n",
    "        )\n",
    "ax.add_artist(plt.Circle((0,0), 0.7, color='white'))\n",
    "\n",
    "fig.suptitle('Percentage of Users \\nin Each Activity Level', \n",
    "             x=0.505, y=0.5, fontsize=26, ha='center', va='center')\n",
    "\n",
    "plt.show()"
   ]
  },
  {
   "cell_type": "markdown",
   "metadata": {},
   "source": [
    "Somewhat surprisingly, the the largest activity level group among the FitBit users is actually the 'Sedentary' group. This may be surprising, considering that you might expect that only active individuals would seek out a health and fitness-focused smart device. Understanding this, Bellabeat should shift their marketing strategy to advertise towards not only active individuals, but also those who are sedentary. Beyond that, we can see that only a minority of the users reached the 'Very Active' level of 10,000 steps or more per day. This is considered unhealthy for most people, and Bellabeat could also market that their membership service will improve the health and fitness of subscribers as their activity level can be monitored and improved. \n",
    "\n",
    "\n",
    "```{admonition} Key Takeaways:\n",
    ":class: tip\n",
    "* Bellabeat should focus their marketing not only towards active individuals, but also those who are more sedentary.\n",
    "* Bellabeat should also market that their membership service will improve the health and fitness of subscribers as their activity level can be monitored and improved.\n",
    "```"
   ]
  },
  {
   "cell_type": "markdown",
   "metadata": {},
   "source": [
    "### 5.2 Weekly Trends in Steps and Sleep"
   ]
  },
  {
   "cell_type": "markdown",
   "metadata": {},
   "source": [
    "We can go beyond classifying the users into activity levels and try to identify trends in both steps and sleep per day of the week.  \n",
    "The goal behind this is that we may be able to identify two different trends in the data:\n",
    "1. Are users taking the recommended 10,000 steps and sleeping the recommended 8 hours per day?\n",
    "2. Do users display healthier habits on certain days of the week more than others?\n",
    "\n",
    "With this information, Bellabeat will be able to identify if smart fitness device users are on average displaying healthy habits and provide in-app recommendations and reminders when users are not achieving healthy numbers or their personalized goals. As a result, Bellabeat will be able to identify if they should shift their marketing strategy to \n",
    "Bellabeat will be able to market their app and membership as being able to help users achieve their health goals by improving their fitness and sleep. "
   ]
  },
  {
   "cell_type": "code",
   "execution_count": 314,
   "metadata": {
    "tags": [
     "output_scroll"
    ]
   },
   "outputs": [
    {
     "data": {
      "text/html": [
       "<div>\n",
       "<style scoped>\n",
       "    .dataframe tbody tr th:only-of-type {\n",
       "        vertical-align: middle;\n",
       "    }\n",
       "\n",
       "    .dataframe tbody tr th {\n",
       "        vertical-align: top;\n",
       "    }\n",
       "\n",
       "    .dataframe thead th {\n",
       "        text-align: right;\n",
       "    }\n",
       "</style>\n",
       "<table border=\"1\" class=\"dataframe\">\n",
       "  <thead>\n",
       "    <tr style=\"text-align: right;\">\n",
       "      <th></th>\n",
       "      <th>day_of_week</th>\n",
       "      <th>TotalSleepRecords</th>\n",
       "      <th>TotalMinutesAsleep</th>\n",
       "      <th>TotalTimeInBed</th>\n",
       "      <th>TotalSteps</th>\n",
       "      <th>TotalDistance</th>\n",
       "      <th>Calories</th>\n",
       "    </tr>\n",
       "  </thead>\n",
       "  <tbody>\n",
       "    <tr>\n",
       "      <th>0</th>\n",
       "      <td>Friday</td>\n",
       "      <td>1.070175</td>\n",
       "      <td>405.421053</td>\n",
       "      <td>445.052632</td>\n",
       "      <td>7901.403509</td>\n",
       "      <td>5.511930</td>\n",
       "      <td>2329.649123</td>\n",
       "    </tr>\n",
       "    <tr>\n",
       "      <th>1</th>\n",
       "      <td>Monday</td>\n",
       "      <td>1.108696</td>\n",
       "      <td>419.500000</td>\n",
       "      <td>457.347826</td>\n",
       "      <td>9273.217391</td>\n",
       "      <td>6.540870</td>\n",
       "      <td>2431.978261</td>\n",
       "    </tr>\n",
       "    <tr>\n",
       "      <th>2</th>\n",
       "      <td>Saturday</td>\n",
       "      <td>1.192982</td>\n",
       "      <td>419.070175</td>\n",
       "      <td>459.842105</td>\n",
       "      <td>9871.122807</td>\n",
       "      <td>7.015789</td>\n",
       "      <td>2506.894737</td>\n",
       "    </tr>\n",
       "    <tr>\n",
       "      <th>3</th>\n",
       "      <td>Sunday</td>\n",
       "      <td>1.181818</td>\n",
       "      <td>452.745455</td>\n",
       "      <td>503.509091</td>\n",
       "      <td>7297.854545</td>\n",
       "      <td>5.184727</td>\n",
       "      <td>2276.600000</td>\n",
       "    </tr>\n",
       "    <tr>\n",
       "      <th>4</th>\n",
       "      <td>Thursday</td>\n",
       "      <td>1.031250</td>\n",
       "      <td>401.296875</td>\n",
       "      <td>434.875000</td>\n",
       "      <td>8183.515625</td>\n",
       "      <td>5.773438</td>\n",
       "      <td>2306.671875</td>\n",
       "    </tr>\n",
       "    <tr>\n",
       "      <th>5</th>\n",
       "      <td>Tuesday</td>\n",
       "      <td>1.107692</td>\n",
       "      <td>404.538462</td>\n",
       "      <td>443.292308</td>\n",
       "      <td>9182.692308</td>\n",
       "      <td>6.430000</td>\n",
       "      <td>2496.200000</td>\n",
       "    </tr>\n",
       "    <tr>\n",
       "      <th>6</th>\n",
       "      <td>Wednesday</td>\n",
       "      <td>1.151515</td>\n",
       "      <td>434.681818</td>\n",
       "      <td>470.030303</td>\n",
       "      <td>8022.863636</td>\n",
       "      <td>5.719849</td>\n",
       "      <td>2378.242424</td>\n",
       "    </tr>\n",
       "  </tbody>\n",
       "</table>\n",
       "</div>"
      ],
      "text/plain": [
       "  day_of_week  TotalSleepRecords  TotalMinutesAsleep  TotalTimeInBed  \\\n",
       "0      Friday           1.070175          405.421053      445.052632   \n",
       "1      Monday           1.108696          419.500000      457.347826   \n",
       "2    Saturday           1.192982          419.070175      459.842105   \n",
       "3      Sunday           1.181818          452.745455      503.509091   \n",
       "4    Thursday           1.031250          401.296875      434.875000   \n",
       "5     Tuesday           1.107692          404.538462      443.292308   \n",
       "6   Wednesday           1.151515          434.681818      470.030303   \n",
       "\n",
       "    TotalSteps  TotalDistance     Calories  \n",
       "0  7901.403509       5.511930  2329.649123  \n",
       "1  9273.217391       6.540870  2431.978261  \n",
       "2  9871.122807       7.015789  2506.894737  \n",
       "3  7297.854545       5.184727  2276.600000  \n",
       "4  8183.515625       5.773438  2306.671875  \n",
       "5  9182.692308       6.430000  2496.200000  \n",
       "6  8022.863636       5.719849  2378.242424  "
      ]
     },
     "execution_count": 314,
     "metadata": {},
     "output_type": "execute_result"
    }
   ],
   "source": [
    "df_day_activity_sleep.groupby(by='day_of_week').mean().drop(columns='id').reset_index()"
   ]
  },
  {
   "cell_type": "markdown",
   "metadata": {},
   "source": [
    "We can first establish a week order to be used for following plots. "
   ]
  },
  {
   "cell_type": "code",
   "execution_count": 342,
   "metadata": {},
   "outputs": [],
   "source": [
    "WEEK_ORDER = ['Monday', 'Tuesday', 'Wednesday', 'Thursday', 'Friday', 'Saturday', 'Sunday']"
   ]
  },
  {
   "cell_type": "markdown",
   "metadata": {},
   "source": [
    "__TODO:__ experiment with using horizontal layout for the plots, perhaps combining them as well!"
   ]
  },
  {
   "cell_type": "code",
   "execution_count": 451,
   "metadata": {},
   "outputs": [
    {
     "data": {
      "image/png": "[encoded data removed]",
      "text/plain": [
       "<Figure size 720x432 with 1 Axes>"
      ]
     },
     "metadata": {},
     "output_type": "display_data"
    }
   ],
   "source": [
    "fig, ax = plt.subplots(figsize=(12, 8), facecolor='w')\n",
    "plt.rcParams.update({'font.size': 14})\n",
    "\n",
    "sns.barplot(\n",
    "            data=df_day_activity_sleep, x='day_of_week', y='TotalSteps', \n",
    "            order=WEEK_ORDER, palette='icefire', ci=None\n",
    "            )\n",
    "plt.text(x=-0.4, y=10_100, s='recommended daily steps', \n",
    "         color='red', ha='left')\n",
    "plt.axhline(y=10_000, color='red', linestyle='--', linewidth=2)\n",
    "\n",
    "ax.set_xlabel('Day of the Week', fontsize=16, labelpad=10)\n",
    "ax.set_ylabel('Average Steps', fontsize=16, labelpad=10)\n",
    "ax.yaxis.set_major_formatter(mpl.ticker.StrMethodFormatter('{x:,.0f}'))\n",
    "ax.tick_params(axis='both', size=0)\n",
    "\n",
    "ax.grid(axis='y', linestyle='--', alpha=0.8)\n",
    "sns.despine(bottom=True, left=True)\n",
    "fig.suptitle('Average Steps by Day of the Week',\n",
    "             fontsize=20, x=0.13, y=0.95, ha='left')\n",
    "plt.show()"
   ]
  },
  {
   "cell_type": "code",
   "execution_count": 450,
   "metadata": {},
   "outputs": [
    {
     "data": {
      "image/png": "[encoded data removed]",
      "text/plain": [
       "<Figure size 720x432 with 1 Axes>"
      ]
     },
     "metadata": {},
     "output_type": "display_data"
    }
   ],
   "source": [
    "fig, ax = plt.subplots(figsize=(12, 8), facecolor='w')\n",
    "plt.rcParams.update({'font.size': 14})\n",
    "\n",
    "sns.barplot(\n",
    "            data=df_day_activity_sleep, x='day_of_week', y='TotalMinutesAsleep', \n",
    "            order=WEEK_ORDER, palette='icefire', ci=None\n",
    "            )\n",
    "plt.text(x=-0.4, y=485, s='recommended daily sleep (8 hours)', \n",
    "         color='red', ha='left')\n",
    "plt.axhline(y=480, color='red', linestyle='--', linewidth=2)\n",
    "\n",
    "ax.set_xlabel('Day of the Week', fontsize=16, labelpad=10)\n",
    "ax.set_ylabel('Average Minutes Asleep', fontsize=16, labelpad=10)\n",
    "ax.tick_params(axis='both', size=0)\n",
    "\n",
    "ax.grid(axis='y', linestyle='--', alpha=0.8)\n",
    "sns.despine(bottom=True, left=True)\n",
    "fig.suptitle('Average Minutes Asleep by Day of the Week',\n",
    "             fontsize=20, x=0.13, y=0.95, ha='left')\n",
    "plt.show()"
   ]
  },
  {
   "cell_type": "markdown",
   "metadata": {},
   "source": [
    "[conclusions from this figure]\n",
    "\n",
    "```{admonition} Key Takeaways:\n",
    ":class: tip\n",
    "[key takeaways]\n",
    "```"
   ]
  },
  {
   "cell_type": "markdown",
   "metadata": {},
   "source": [
    "---"
   ]
  },
  {
   "cell_type": "markdown",
   "metadata": {},
   "source": [
    "## 6. Act Phase\n",
    "<!-- <a name='Act-Phase'></a><h3 style=\"color:#FA8072\">6. Act Phase:</h3> -->"
   ]
  },
  {
   "cell_type": "markdown",
   "metadata": {},
   "source": [
    "---"
   ]
  },
  {
   "cell_type": "markdown",
   "metadata": {},
   "source": [
    "### Bonus Sleep Analysis"
   ]
  },
  {
   "cell_type": "code",
   "execution_count": 74,
   "metadata": {},
   "outputs": [],
   "source": [
    "df_min_sleep['day_of_week'] = df_min_sleep['date_time'].dt.day_name()\n",
    "df_min_sleep['date'] = df_min_sleep['date_time'].dt.date"
   ]
  },
  {
   "cell_type": "code",
   "execution_count": 75,
   "metadata": {},
   "outputs": [
    {
     "data": {
      "text/html": [
       "<div>\n",
       "<style scoped>\n",
       "    .dataframe tbody tr th:only-of-type {\n",
       "        vertical-align: middle;\n",
       "    }\n",
       "\n",
       "    .dataframe tbody tr th {\n",
       "        vertical-align: top;\n",
       "    }\n",
       "\n",
       "    .dataframe thead th {\n",
       "        text-align: right;\n",
       "    }\n",
       "</style>\n",
       "<table border=\"1\" class=\"dataframe\">\n",
       "  <thead>\n",
       "    <tr style=\"text-align: right;\">\n",
       "      <th></th>\n",
       "      <th>id</th>\n",
       "      <th>date_time</th>\n",
       "      <th>value</th>\n",
       "      <th>day_of_week</th>\n",
       "      <th>date</th>\n",
       "    </tr>\n",
       "  </thead>\n",
       "  <tbody>\n",
       "    <tr>\n",
       "      <th>0</th>\n",
       "      <td>1503960366</td>\n",
       "      <td>2016-04-12 02:47:30</td>\n",
       "      <td>3</td>\n",
       "      <td>Tuesday</td>\n",
       "      <td>2016-04-12</td>\n",
       "    </tr>\n",
       "    <tr>\n",
       "      <th>1</th>\n",
       "      <td>1503960366</td>\n",
       "      <td>2016-04-12 02:48:30</td>\n",
       "      <td>2</td>\n",
       "      <td>Tuesday</td>\n",
       "      <td>2016-04-12</td>\n",
       "    </tr>\n",
       "    <tr>\n",
       "      <th>2</th>\n",
       "      <td>1503960366</td>\n",
       "      <td>2016-04-12 02:49:30</td>\n",
       "      <td>1</td>\n",
       "      <td>Tuesday</td>\n",
       "      <td>2016-04-12</td>\n",
       "    </tr>\n",
       "  </tbody>\n",
       "</table>\n",
       "</div>"
      ],
      "text/plain": [
       "           id           date_time  value day_of_week        date\n",
       "0  1503960366 2016-04-12 02:47:30      3     Tuesday  2016-04-12\n",
       "1  1503960366 2016-04-12 02:48:30      2     Tuesday  2016-04-12\n",
       "2  1503960366 2016-04-12 02:49:30      1     Tuesday  2016-04-12"
      ]
     },
     "execution_count": 75,
     "metadata": {},
     "output_type": "execute_result"
    }
   ],
   "source": [
    "df_min_sleep.head(3)"
   ]
  },
  {
   "cell_type": "code",
   "execution_count": 76,
   "metadata": {},
   "outputs": [],
   "source": [
    "df_min_sleep['time_diff'] = df_min_sleep.groupby('id')['date_time'].diff()"
   ]
  },
  {
   "cell_type": "code",
   "execution_count": 77,
   "metadata": {},
   "outputs": [
    {
     "data": {
      "text/html": [
       "<div>\n",
       "<style scoped>\n",
       "    .dataframe tbody tr th:only-of-type {\n",
       "        vertical-align: middle;\n",
       "    }\n",
       "\n",
       "    .dataframe tbody tr th {\n",
       "        vertical-align: top;\n",
       "    }\n",
       "\n",
       "    .dataframe thead th {\n",
       "        text-align: right;\n",
       "    }\n",
       "</style>\n",
       "<table border=\"1\" class=\"dataframe\">\n",
       "  <thead>\n",
       "    <tr style=\"text-align: right;\">\n",
       "      <th></th>\n",
       "      <th>id</th>\n",
       "      <th>date_time</th>\n",
       "      <th>value</th>\n",
       "      <th>day_of_week</th>\n",
       "      <th>date</th>\n",
       "      <th>time_diff</th>\n",
       "    </tr>\n",
       "  </thead>\n",
       "  <tbody>\n",
       "    <tr>\n",
       "      <th>0</th>\n",
       "      <td>1503960366</td>\n",
       "      <td>2016-04-12 02:47:30</td>\n",
       "      <td>3</td>\n",
       "      <td>Tuesday</td>\n",
       "      <td>2016-04-12</td>\n",
       "      <td>NaT</td>\n",
       "    </tr>\n",
       "    <tr>\n",
       "      <th>1</th>\n",
       "      <td>1503960366</td>\n",
       "      <td>2016-04-12 02:48:30</td>\n",
       "      <td>2</td>\n",
       "      <td>Tuesday</td>\n",
       "      <td>2016-04-12</td>\n",
       "      <td>0 days 00:01:00</td>\n",
       "    </tr>\n",
       "    <tr>\n",
       "      <th>2</th>\n",
       "      <td>1503960366</td>\n",
       "      <td>2016-04-12 02:49:30</td>\n",
       "      <td>1</td>\n",
       "      <td>Tuesday</td>\n",
       "      <td>2016-04-12</td>\n",
       "      <td>0 days 00:01:00</td>\n",
       "    </tr>\n",
       "    <tr>\n",
       "      <th>3</th>\n",
       "      <td>1503960366</td>\n",
       "      <td>2016-04-12 02:50:30</td>\n",
       "      <td>1</td>\n",
       "      <td>Tuesday</td>\n",
       "      <td>2016-04-12</td>\n",
       "      <td>0 days 00:01:00</td>\n",
       "    </tr>\n",
       "    <tr>\n",
       "      <th>4</th>\n",
       "      <td>1503960366</td>\n",
       "      <td>2016-04-12 02:51:30</td>\n",
       "      <td>1</td>\n",
       "      <td>Tuesday</td>\n",
       "      <td>2016-04-12</td>\n",
       "      <td>0 days 00:01:00</td>\n",
       "    </tr>\n",
       "  </tbody>\n",
       "</table>\n",
       "</div>"
      ],
      "text/plain": [
       "           id           date_time  value day_of_week        date  \\\n",
       "0  1503960366 2016-04-12 02:47:30      3     Tuesday  2016-04-12   \n",
       "1  1503960366 2016-04-12 02:48:30      2     Tuesday  2016-04-12   \n",
       "2  1503960366 2016-04-12 02:49:30      1     Tuesday  2016-04-12   \n",
       "3  1503960366 2016-04-12 02:50:30      1     Tuesday  2016-04-12   \n",
       "4  1503960366 2016-04-12 02:51:30      1     Tuesday  2016-04-12   \n",
       "\n",
       "        time_diff  \n",
       "0             NaT  \n",
       "1 0 days 00:01:00  \n",
       "2 0 days 00:01:00  \n",
       "3 0 days 00:01:00  \n",
       "4 0 days 00:01:00  "
      ]
     },
     "execution_count": 77,
     "metadata": {},
     "output_type": "execute_result"
    }
   ],
   "source": [
    "df_min_sleep.head(5)"
   ]
  },
  {
   "cell_type": "code",
   "execution_count": 78,
   "metadata": {
    "tags": [
     "output_scroll"
    ]
   },
   "outputs": [
    {
     "data": {
      "text/plain": [
       "0 days 00:01:00    187519\n",
       "0 days 14:37:00         3\n",
       "0 days 18:36:00         3\n",
       "0 days 16:43:00         3\n",
       "0 days 17:25:00         3\n",
       "                    ...  \n",
       "1 days 05:20:00         1\n",
       "0 days 07:04:00         1\n",
       "0 days 05:21:30         1\n",
       "0 days 09:17:30         1\n",
       "0 days 15:16:30         1\n",
       "Name: time_diff, Length: 375, dtype: int64"
      ]
     },
     "execution_count": 78,
     "metadata": {},
     "output_type": "execute_result"
    }
   ],
   "source": [
    "df_min_sleep.time_diff.value_counts()"
   ]
  },
  {
   "cell_type": "code",
   "execution_count": 79,
   "metadata": {},
   "outputs": [],
   "source": [
    "df_min_sleep = df_min_sleep[df_min_sleep.time_diff == np.timedelta64(1, 'm')]"
   ]
  },
  {
   "cell_type": "code",
   "execution_count": 80,
   "metadata": {},
   "outputs": [
    {
     "name": "stdout",
     "output_type": "stream",
     "text": [
      "minute sleep:\n",
      " \tColumns: ['id', 'date_time', 'value', 'day_of_week', 'date', 'time_diff']\n",
      " \tShape: (187519, 6)\n",
      " \tDuplicate rows: 0\n",
      " \tMissing values: 0\n"
     ]
    }
   ],
   "source": [
    "df_info(df_min_sleep, 'df_min_sleep')"
   ]
  },
  {
   "cell_type": "code",
   "execution_count": 81,
   "metadata": {},
   "outputs": [],
   "source": [
    "def plot_sleep(df_min_sleep: pd.DataFrame, id: int, repeat_ylabel: bool = True):\n",
    "    '''\n",
    "    Plots sleep data for a given id\n",
    "    \n",
    "        Parameters:\n",
    "            df_min_sleep (pd.DataFrame): Dataframe with sleep data to plot\n",
    "            id (int):                    ID of the user to be analyzed\n",
    "            repeat_ylabel (bool):        Whether to repeat y-axis label\n",
    "    '''\n",
    "\n",
    "    WEEK_ORDER= ['Monday', 'Tuesday', 'Wednesday',\n",
    "                 'Thursday', 'Friday', 'Saturday', 'Sunday']\n",
    "    SLEEP_STATE = ['Asleep', 'Restless', 'Awake in Bed']\n",
    "\n",
    "    fig, axes = plt.subplots(nrows=1, ncols=3, figsize=(22, 8), facecolor='w')\n",
    "    df_id = df_min_sleep.loc[df_min_sleep.id == id]\n",
    "    \n",
    "    for idx, ax in enumerate(axes):\n",
    "\n",
    "        minutes = df_id.loc[df_id.value == idx + 1].groupby('day_of_week')['value'].sum()\n",
    "        days = df_id.groupby('date').day_of_week.value_counts()\n",
    "\n",
    "        days_count = {}\n",
    "        for i in range(len(days)):\n",
    "            days_count[days.index[i][1]] = days_count.get(days.index[i][1], 0) + 1\n",
    "\n",
    "        for i in minutes.index:\n",
    "            minutes[i] /= days_count[i]\n",
    "\n",
    "        sns.barplot(\n",
    "            orient='h', x=minutes.values, y=minutes.index, \n",
    "            palette='icefire', order=WEEK_ORDER, alpha=0.8, ax=ax\n",
    "        )\n",
    "\n",
    "        if not repeat_ylabel and idx > 0:\n",
    "            ax.set_yticks([])\n",
    "        ax.yaxis.set_tick_params(length=0)\n",
    "        ax.set_ylabel('')\n",
    "        ax.tick_params(axis='both', labelsize=14)\n",
    "        ax.set_xlabel(xlabel=f'Minutes {SLEEP_STATE[idx]}', fontsize=14, labelpad=10)\n",
    "\n",
    "        ax.set_title(f'Minutes {SLEEP_STATE[idx]} by Day of Week',\n",
    "                    fontsize=16, loc='left', pad=20)\n",
    "\n",
    "        ax.grid(axis='x', linestyle='--', alpha=0.8)\n",
    "        sns.despine()\n",
    "    \n",
    "    fig.suptitle('Average Minutes Spent in Each Sleep State by Day of the Week', \n",
    "                 fontsize=22, x=0.123, y=1.05, ha='left')"
   ]
  },
  {
   "cell_type": "code",
   "execution_count": 82,
   "metadata": {},
   "outputs": [
    {
     "data": {
      "text/plain": [
       "24"
      ]
     },
     "execution_count": 82,
     "metadata": {},
     "output_type": "execute_result"
    }
   ],
   "source": [
    "ids = df_min_sleep.id.unique()\n",
    "len(ids)"
   ]
  },
  {
   "cell_type": "code",
   "execution_count": 83,
   "metadata": {
    "tags": [
     "full-width"
    ]
   },
   "outputs": [
    {
     "data": {
      "image/png": "[encoded data removed]",
      "text/plain": [
       "<Figure size 1584x576 with 3 Axes>"
      ]
     },
     "metadata": {},
     "output_type": "display_data"
    }
   ],
   "source": [
    "plot_sleep(df_min_sleep, id=ids[0])"
   ]
  }
 ],
 "metadata": {
  "interpreter": {
   "hash": "7bda54b875d3f25ca78a01575a5b2eb5a7be9fc3ff897d4e779930b97ce22030"
  },
  "kernelspec": {
   "display_name": "Python 3 (ipykernel)",
   "language": "python",
   "name": "python3"
  },
  "language_info": {
   "codemirror_mode": {
    "name": "ipython",
    "version": 3
   },
   "file_extension": ".py",
   "mimetype": "text/x-python",
   "name": "python",
   "nbconvert_exporter": "python",
   "pygments_lexer": "ipython3",
   "version": "3.9.6"
  }
 },
 "nbformat": 4,
 "nbformat_minor": 4
}
