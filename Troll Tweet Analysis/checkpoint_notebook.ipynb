{
 "cells": [
  {
   "cell_type": "markdown",
   "id": "329115db",
   "metadata": {},
   "source": [
    "### Troll Tweet Analysis\n",
    "\n",
    "In this project, we will analyze Russian troll tweet data from the dataset provided by [fivethirtyeight](https://github.com/fivethirtyeight/russian-troll-tweets/).  \n",
    "[Some analysis](http://pwarren.people.clemson.edu/Linvill_Warren_TrollFactory.pdf) of this data has already been completed and published by Linvill and Warren of Clemson university.\n",
    "\n",
    "In this analysis, we will be trying to answer one primary question:  \n",
    "**What characteristics of troll accounts and their tweets make them successful?**\n",
    "\n",
    "In this case, we are equating success to the number of followers the troll account has, as a higher follower account will allow the troll to spread their message to a greater number of individuals. \n",
    "\n",
    "As we answer this question, we will be answering some secondary questions that will help guide our answer, such as:\n",
    "* Which account category is most successful?\n",
    "* What are some specific characteristics of the most successful account category?\n",
    "* What are some of the most repeated words by the top troll accounts?"
   ]
  },
  {
   "cell_type": "markdown",
   "id": "10bbdaf0-d2b3-4682-9ea0-2f8c7ab73a28",
   "metadata": {
    "jp-MarkdownHeadingCollapsed": true,
    "tags": []
   },
   "source": [
    "### Setup (run once):"
   ]
  },
  {
   "cell_type": "markdown",
   "id": "a1f577e5",
   "metadata": {},
   "source": [
    "This setup will get us to a clean DataFrame with which we will do further analysis and create visualizations with.  \n",
    "This process only needs to be run all the way through one time in order to save a DataFrame with the data we need."
   ]
  },
  {
   "cell_type": "markdown",
   "id": "c4ff7acc",
   "metadata": {},
   "source": [
    "We will start off with some data cleaning and preparation."
   ]
  },
  {
   "cell_type": "code",
   "execution_count": 1,
   "id": "4a6f2295-148b-43b6-b824-6a2c4b2eb620",
   "metadata": {},
   "outputs": [],
   "source": [
    "import numpy as np\n",
    "import pandas as pd\n",
    "from textblob import TextBlob"
   ]
  },
  {
   "cell_type": "markdown",
   "id": "fcf74d3e",
   "metadata": {},
   "source": [
    "Note that this CSV is not in this repository due to its size (1 GB+), but it is available from the [fivethirtyeight repository](https://github.com/fivethirtyeight/russian-troll-tweets/). "
   ]
  },
  {
   "cell_type": "code",
   "execution_count": 20,
   "id": "5e6e42cb",
   "metadata": {},
   "outputs": [],
   "source": [
    "df = pd.read_csv('all_tweets.csv', low_memory=False)#.drop(columns=['harvested_date', 'new_june_2018'])"
   ]
  },
  {
   "cell_type": "code",
   "execution_count": 21,
   "id": "97d794c4",
   "metadata": {},
   "outputs": [
    {
     "name": "stdout",
     "output_type": "stream",
     "text": [
      "<class 'pandas.core.frame.DataFrame'>\n",
      "RangeIndex: 2984389 entries, 0 to 2984388\n",
      "Data columns (total 15 columns):\n",
      " #   Column              Dtype \n",
      "---  ------              ----- \n",
      " 0   external_author_id  object\n",
      " 1   author              object\n",
      " 2   content             object\n",
      " 3   region              object\n",
      " 4   language            object\n",
      " 5   publish_date        object\n",
      " 6   harvested_date      object\n",
      " 7   following           object\n",
      " 8   followers           object\n",
      " 9   updates             object\n",
      " 10  post_type           object\n",
      " 11  account_type        object\n",
      " 12  new_june_2018       object\n",
      " 13  retweet             object\n",
      " 14  account_category    object\n",
      "dtypes: object(15)\n",
      "memory usage: 341.5+ MB\n"
     ]
    }
   ],
   "source": [
    "df.info()"
   ]
  },
  {
   "cell_type": "markdown",
   "id": "d7a22458",
   "metadata": {},
   "source": [
    "We can see that there are just under 3 million rows and 15 columns."
   ]
  },
  {
   "cell_type": "markdown",
   "id": "c1d308f1",
   "metadata": {},
   "source": [
    "We won't be making use of the 'harvested_date' or 'new_june_2018' columns, so we will drop them."
   ]
  },
  {
   "cell_type": "code",
   "execution_count": 22,
   "id": "73c5ec6b",
   "metadata": {},
   "outputs": [],
   "source": [
    "df.drop(columns=['harvested_date', 'new_june_2018'], inplace=True)"
   ]
  },
  {
   "cell_type": "code",
   "execution_count": 23,
   "id": "082e602f",
   "metadata": {},
   "outputs": [
    {
     "data": {
      "text/html": [
       "<div>\n",
       "<style scoped>\n",
       "    .dataframe tbody tr th:only-of-type {\n",
       "        vertical-align: middle;\n",
       "    }\n",
       "\n",
       "    .dataframe tbody tr th {\n",
       "        vertical-align: top;\n",
       "    }\n",
       "\n",
       "    .dataframe thead th {\n",
       "        text-align: right;\n",
       "    }\n",
       "</style>\n",
       "<table border=\"1\" class=\"dataframe\">\n",
       "  <thead>\n",
       "    <tr style=\"text-align: right;\">\n",
       "      <th></th>\n",
       "      <th>external_author_id</th>\n",
       "      <th>author</th>\n",
       "      <th>content</th>\n",
       "      <th>region</th>\n",
       "      <th>language</th>\n",
       "      <th>publish_date</th>\n",
       "      <th>following</th>\n",
       "      <th>followers</th>\n",
       "      <th>updates</th>\n",
       "      <th>post_type</th>\n",
       "      <th>account_type</th>\n",
       "      <th>retweet</th>\n",
       "      <th>account_category</th>\n",
       "    </tr>\n",
       "  </thead>\n",
       "  <tbody>\n",
       "    <tr>\n",
       "      <th>0</th>\n",
       "      <td>2535564756.0</td>\n",
       "      <td>1D_NICOLE_</td>\n",
       "      <td>#FoodPoisoning is not a joke! #Walmart #KochFa...</td>\n",
       "      <td>United States</td>\n",
       "      <td>English</td>\n",
       "      <td>11/26/2015 22:20</td>\n",
       "      <td>48</td>\n",
       "      <td>40</td>\n",
       "      <td>394</td>\n",
       "      <td>RETWEET</td>\n",
       "      <td>Koch</td>\n",
       "      <td>1</td>\n",
       "      <td>Fearmonger</td>\n",
       "    </tr>\n",
       "    <tr>\n",
       "      <th>1</th>\n",
       "      <td>2535564756.0</td>\n",
       "      <td>1D_NICOLE_</td>\n",
       "      <td>Thanks God that #turkey i ate few days ago was...</td>\n",
       "      <td>United States</td>\n",
       "      <td>English</td>\n",
       "      <td>11/26/2015 22:35</td>\n",
       "      <td>48</td>\n",
       "      <td>40</td>\n",
       "      <td>395</td>\n",
       "      <td>RETWEET</td>\n",
       "      <td>Koch</td>\n",
       "      <td>1</td>\n",
       "      <td>Fearmonger</td>\n",
       "    </tr>\n",
       "    <tr>\n",
       "      <th>2</th>\n",
       "      <td>2535564756.0</td>\n",
       "      <td>1D_NICOLE_</td>\n",
       "      <td>who's got the worst make up ever, don't tell m...</td>\n",
       "      <td>United States</td>\n",
       "      <td>English</td>\n",
       "      <td>5/25/2015 12:38</td>\n",
       "      <td>59</td>\n",
       "      <td>51</td>\n",
       "      <td>352</td>\n",
       "      <td>NaN</td>\n",
       "      <td>Koch</td>\n",
       "      <td>0</td>\n",
       "      <td>Fearmonger</td>\n",
       "    </tr>\n",
       "  </tbody>\n",
       "</table>\n",
       "</div>"
      ],
      "text/plain": [
       "  external_author_id      author  \\\n",
       "0       2535564756.0  1D_NICOLE_   \n",
       "1       2535564756.0  1D_NICOLE_   \n",
       "2       2535564756.0  1D_NICOLE_   \n",
       "\n",
       "                                             content         region language  \\\n",
       "0  #FoodPoisoning is not a joke! #Walmart #KochFa...  United States  English   \n",
       "1  Thanks God that #turkey i ate few days ago was...  United States  English   \n",
       "2  who's got the worst make up ever, don't tell m...  United States  English   \n",
       "\n",
       "       publish_date following followers updates post_type account_type  \\\n",
       "0  11/26/2015 22:20        48        40     394   RETWEET         Koch   \n",
       "1  11/26/2015 22:35        48        40     395   RETWEET         Koch   \n",
       "2   5/25/2015 12:38        59        51     352       NaN         Koch   \n",
       "\n",
       "  retweet account_category  \n",
       "0       1       Fearmonger  \n",
       "1       1       Fearmonger  \n",
       "2       0       Fearmonger  "
      ]
     },
     "execution_count": 23,
     "metadata": {},
     "output_type": "execute_result"
    }
   ],
   "source": [
    "df.head(3)"
   ]
  },
  {
   "cell_type": "markdown",
   "id": "7598e1da",
   "metadata": {},
   "source": [
    "We can see that we get we get the actual tweet text in the 'content' column, as well as some other Twitter information, such as author, following, etc. \n",
    "\n",
    "Interestingly, there is also an 'account_category' column, which identifies what type of activity the troll account is performing, which we will analyze later. \n",
    "\n",
    "It is also worth noting that the 'retweet' column is **not** a count of retweets for any one tweet, but rather a binary value of whether or not the tweet is a retweet made by the troll account (1 = retweet, 0 = not a retweet)."
   ]
  },
  {
   "cell_type": "code",
   "execution_count": 24,
   "id": "3fa2f7f0",
   "metadata": {},
   "outputs": [
    {
     "data": {
      "text/plain": [
       "NonEnglish          837725\n",
       "RightTroll          719087\n",
       "NewsFeed            599294\n",
       "LeftTroll           427811\n",
       "HashtagGamer        241827\n",
       "Commercial          122582\n",
       "Fearmonger           22141\n",
       "Unknown              13905\n",
       "account_category        17\n",
       "Name: account_category, dtype: int64"
      ]
     },
     "execution_count": 24,
     "metadata": {},
     "output_type": "execute_result"
    }
   ],
   "source": [
    "df.account_category.value_counts()"
   ]
  },
  {
   "cell_type": "markdown",
   "id": "6fb16f50",
   "metadata": {},
   "source": [
    "We can see that 'NonEnglish' troll accounts weren't placed into a specific category, so we will drop those rows later. \n",
    "\n",
    "We can also see that there is quite the diversity with the account categories, though there seems to be some erroneous data where the listed account_category is 'account_category' in 17 rows.  \n",
    "We can filter those out to avoid working with bad data. "
   ]
  },
  {
   "cell_type": "code",
   "execution_count": 25,
   "id": "290a1895",
   "metadata": {},
   "outputs": [],
   "source": [
    "df = df[df.account_category != 'account_category']"
   ]
  },
  {
   "cell_type": "code",
   "execution_count": 27,
   "id": "455358ce",
   "metadata": {},
   "outputs": [
    {
     "data": {
      "text/plain": [
       "external_author_id    object\n",
       "author                object\n",
       "content               object\n",
       "region                object\n",
       "language              object\n",
       "publish_date          object\n",
       "following             object\n",
       "followers             object\n",
       "updates               object\n",
       "post_type             object\n",
       "account_type          object\n",
       "retweet               object\n",
       "account_category      object\n",
       "dtype: object"
      ]
     },
     "execution_count": 27,
     "metadata": {},
     "output_type": "execute_result"
    }
   ],
   "source": [
    "df.dtypes"
   ]
  },
  {
   "cell_type": "markdown",
   "id": "32077458",
   "metadata": {},
   "source": [
    "We should also change the data types of some of the columns we will do further analysis on so that they will be compatible with the functions that we use. "
   ]
  },
  {
   "cell_type": "code",
   "execution_count": 10,
   "id": "3143d24b",
   "metadata": {},
   "outputs": [],
   "source": [
    "df = df.astype({'external_author_id': np.float64,\n",
    "                'following':          np.int64,\n",
    "                'followers':          np.int64,\n",
    "                'retweet':            np.int64,\n",
    "                'content':            'str',\n",
    "                'account_category':   'str'})"
   ]
  },
  {
   "cell_type": "markdown",
   "id": "0c07f519",
   "metadata": {},
   "source": [
    "Since we have tweet content, it may be interesting to take a look at a sentiment analysis of the data to gather more dimensions of the data.  \n",
    "Sentiment analysis is best done with English tweets, so we will remove any non-English tweets."
   ]
  },
  {
   "cell_type": "code",
   "execution_count": 39,
   "id": "afb6ebd6",
   "metadata": {},
   "outputs": [],
   "source": [
    "df = df[(df.region == 'United States') & (df.language == \"English\")]"
   ]
  },
  {
   "cell_type": "code",
   "execution_count": 41,
   "id": "b1467fb0",
   "metadata": {},
   "outputs": [
    {
     "name": "stdout",
     "output_type": "stream",
     "text": [
      "<class 'pandas.core.frame.DataFrame'>\n",
      "Int64Index: 1860606 entries, 0 to 2984171\n",
      "Data columns (total 13 columns):\n",
      " #   Column              Dtype \n",
      "---  ------              ----- \n",
      " 0   external_author_id  object\n",
      " 1   author              object\n",
      " 2   content             object\n",
      " 3   region              object\n",
      " 4   language            object\n",
      " 5   publish_date        object\n",
      " 6   following           object\n",
      " 7   followers           object\n",
      " 8   updates             object\n",
      " 9   post_type           object\n",
      " 10  account_type        object\n",
      " 11  retweet             object\n",
      " 12  account_category    object\n",
      "dtypes: object(13)\n",
      "memory usage: 198.7+ MB\n"
     ]
    }
   ],
   "source": [
    "df.info()"
   ]
  },
  {
   "cell_type": "markdown",
   "id": "1e407275",
   "metadata": {},
   "source": [
    "This cuts the data down to about 1.86 million rows, which is still a lot of data."
   ]
  },
  {
   "cell_type": "markdown",
   "id": "c930e05f",
   "metadata": {},
   "source": [
    "We can now run a sentiment analysis for each row using the [TextBlob](https://textblob.readthedocs.io/en/dev/index.html) library.  \n",
    "This process will take a while to run, so we will save the results to a CSV file so that we don't have to do this again in the future."
   ]
  },
  {
   "cell_type": "code",
   "execution_count": 1,
   "id": "0e0d14f3-a7a2-4252-b0a9-45b0e1320667",
   "metadata": {
    "collapsed": true,
    "jupyter": {
     "outputs_hidden": true
    },
    "tags": []
   },
   "outputs": [],
   "source": [
    "df['polarity'], df['subjectivity'] = (df.content.apply(lambda x: TextBlob(x).sentiment.polarity)), \\\n",
    "                                     (df.content.apply(lambda x: TextBlob(x).sentiment.subjectivity))\n",
    "\n",
    "# save to csv if coming back to the file later and to avoid running sentiment analysis again\n",
    "df.to_csv('df_with_sentiment.csv', index=False)"
   ]
  },
  {
   "cell_type": "markdown",
   "id": "856526f7",
   "metadata": {},
   "source": [
    "With that, the setup of our DataFrame is complete."
   ]
  },
  {
   "cell_type": "markdown",
   "id": "2eb842fb-e5ce-4e89-a1a6-292ff6f15853",
   "metadata": {},
   "source": [
    "### Data Analysis"
   ]
  },
  {
   "cell_type": "code",
   "execution_count": 42,
   "id": "6e08ccee-3398-4de5-a947-679f67289aaf",
   "metadata": {},
   "outputs": [],
   "source": [
    "import numpy as np\n",
    "import pandas as pd\n",
    "import matplotlib.pyplot as plt\n",
    "import seaborn as sns"
   ]
  },
  {
   "cell_type": "markdown",
   "id": "75be4726",
   "metadata": {},
   "source": [
    "We will read in the previously saved CSV file to start to analyze the data."
   ]
  },
  {
   "cell_type": "code",
   "execution_count": 43,
   "id": "016dab3b-af5d-456f-bde1-7dc596e4d284",
   "metadata": {},
   "outputs": [],
   "source": [
    "df = pd.read_csv('df_with_sentiment.csv')"
   ]
  },
  {
   "cell_type": "markdown",
   "id": "c4e3486d",
   "metadata": {},
   "source": [
    "We may want to consider looking only at tweets that have a non-zero polarity in the future, but this is not done in this analysis."
   ]
  },
  {
   "cell_type": "code",
   "execution_count": null,
   "id": "b774efd1",
   "metadata": {},
   "outputs": [],
   "source": [
    "# df = df[(df_eng.polarity != 0)   # filter out tweets with no polarity, not used in this analysis"
   ]
  },
  {
   "cell_type": "code",
   "execution_count": 44,
   "id": "f60a65a0",
   "metadata": {},
   "outputs": [
    {
     "data": {
      "text/plain": [
       "NewsFeed        574694\n",
       "RightTroll      497945\n",
       "LeftTroll       416253\n",
       "HashtagGamer    228105\n",
       "Commercial      112051\n",
       "Fearmonger       21838\n",
       "Unknown           6165\n",
       "NonEnglish        3555\n",
       "Name: account_category, dtype: int64"
      ]
     },
     "execution_count": 44,
     "metadata": {},
     "output_type": "execute_result"
    }
   ],
   "source": [
    "df.account_category.value_counts()"
   ]
  },
  {
   "cell_type": "markdown",
   "id": "f3013fdd",
   "metadata": {},
   "source": [
    "We can see that there are still some 'NonEnglish' accounts, but their content is in English."
   ]
  },
  {
   "cell_type": "code",
   "execution_count": 45,
   "id": "9c2d3cc2",
   "metadata": {},
   "outputs": [
    {
     "data": {
      "text/html": [
       "<div>\n",
       "<style scoped>\n",
       "    .dataframe tbody tr th:only-of-type {\n",
       "        vertical-align: middle;\n",
       "    }\n",
       "\n",
       "    .dataframe tbody tr th {\n",
       "        vertical-align: top;\n",
       "    }\n",
       "\n",
       "    .dataframe thead th {\n",
       "        text-align: right;\n",
       "    }\n",
       "</style>\n",
       "<table border=\"1\" class=\"dataframe\">\n",
       "  <thead>\n",
       "    <tr style=\"text-align: right;\">\n",
       "      <th></th>\n",
       "      <th>external_author_id</th>\n",
       "      <th>author</th>\n",
       "      <th>content</th>\n",
       "      <th>region</th>\n",
       "      <th>language</th>\n",
       "      <th>publish_date</th>\n",
       "      <th>following</th>\n",
       "      <th>followers</th>\n",
       "      <th>updates</th>\n",
       "      <th>post_type</th>\n",
       "      <th>account_type</th>\n",
       "      <th>retweet</th>\n",
       "      <th>account_category</th>\n",
       "      <th>polarity</th>\n",
       "      <th>subjectivity</th>\n",
       "    </tr>\n",
       "  </thead>\n",
       "  <tbody>\n",
       "    <tr>\n",
       "      <th>15800</th>\n",
       "      <td>2.398931e+09</td>\n",
       "      <td>5EMEN5EMENICH</td>\n",
       "      <td>World leaders, please wake up. #PutinPeacemake...</td>\n",
       "      <td>United States</td>\n",
       "      <td>English</td>\n",
       "      <td>9/28/2015 16:14</td>\n",
       "      <td>552</td>\n",
       "      <td>718</td>\n",
       "      <td>11196</td>\n",
       "      <td>RETWEET</td>\n",
       "      <td>Russian</td>\n",
       "      <td>1</td>\n",
       "      <td>NonEnglish</td>\n",
       "      <td>0.000000</td>\n",
       "      <td>0.000000</td>\n",
       "    </tr>\n",
       "    <tr>\n",
       "      <th>37258</th>\n",
       "      <td>2.186395e+09</td>\n",
       "      <td>AHMADYUSUFF03</td>\n",
       "      <td>Modern and perfect. http://t.co/8xxrOSwpag</td>\n",
       "      <td>United States</td>\n",
       "      <td>English</td>\n",
       "      <td>10/10/2015 7:28</td>\n",
       "      <td>8</td>\n",
       "      <td>0</td>\n",
       "      <td>1749</td>\n",
       "      <td>RETWEET</td>\n",
       "      <td>Arabic</td>\n",
       "      <td>1</td>\n",
       "      <td>NonEnglish</td>\n",
       "      <td>0.600000</td>\n",
       "      <td>0.650000</td>\n",
       "    </tr>\n",
       "    <tr>\n",
       "      <th>53357</th>\n",
       "      <td>2.425594e+09</td>\n",
       "      <td>ALENAZELDINA</td>\n",
       "      <td>Since the topic of children killed by Kiev eli...</td>\n",
       "      <td>United States</td>\n",
       "      <td>English</td>\n",
       "      <td>12/6/2015 20:12</td>\n",
       "      <td>411</td>\n",
       "      <td>216</td>\n",
       "      <td>5127</td>\n",
       "      <td>RETWEET</td>\n",
       "      <td>Russian</td>\n",
       "      <td>1</td>\n",
       "      <td>NonEnglish</td>\n",
       "      <td>0.150000</td>\n",
       "      <td>0.250000</td>\n",
       "    </tr>\n",
       "    <tr>\n",
       "      <th>53358</th>\n",
       "      <td>2.531597e+09</td>\n",
       "      <td>ALEXBORONIN</td>\n",
       "      <td>'@realDonaldTrump @megynkelly From Russia http...</td>\n",
       "      <td>United States</td>\n",
       "      <td>English</td>\n",
       "      <td>11/4/2015 13:30</td>\n",
       "      <td>431</td>\n",
       "      <td>371</td>\n",
       "      <td>675</td>\n",
       "      <td>RETWEET</td>\n",
       "      <td>Russian</td>\n",
       "      <td>1</td>\n",
       "      <td>NonEnglish</td>\n",
       "      <td>0.000000</td>\n",
       "      <td>0.000000</td>\n",
       "    </tr>\n",
       "    <tr>\n",
       "      <th>100580</th>\n",
       "      <td>2.252047e+09</td>\n",
       "      <td>ANASTASSIAZZ</td>\n",
       "      <td>Berlin calls for discussion of #Assad's future...</td>\n",
       "      <td>United States</td>\n",
       "      <td>English</td>\n",
       "      <td>1/2/2017 14:10</td>\n",
       "      <td>772</td>\n",
       "      <td>223</td>\n",
       "      <td>214</td>\n",
       "      <td>RETWEET</td>\n",
       "      <td>Russian</td>\n",
       "      <td>1</td>\n",
       "      <td>NonEnglish</td>\n",
       "      <td>0.000000</td>\n",
       "      <td>0.125000</td>\n",
       "    </tr>\n",
       "    <tr>\n",
       "      <th>...</th>\n",
       "      <td>...</td>\n",
       "      <td>...</td>\n",
       "      <td>...</td>\n",
       "      <td>...</td>\n",
       "      <td>...</td>\n",
       "      <td>...</td>\n",
       "      <td>...</td>\n",
       "      <td>...</td>\n",
       "      <td>...</td>\n",
       "      <td>...</td>\n",
       "      <td>...</td>\n",
       "      <td>...</td>\n",
       "      <td>...</td>\n",
       "      <td>...</td>\n",
       "      <td>...</td>\n",
       "    </tr>\n",
       "    <tr>\n",
       "      <th>1845532</th>\n",
       "      <td>2.260578e+09</td>\n",
       "      <td>YAROSLAVVELIKY</td>\n",
       "      <td>The Hillary Clinton Excuse Express rolls along...</td>\n",
       "      <td>United States</td>\n",
       "      <td>English</td>\n",
       "      <td>5/4/2017 2:06</td>\n",
       "      <td>83</td>\n",
       "      <td>4020</td>\n",
       "      <td>1705</td>\n",
       "      <td>RETWEET</td>\n",
       "      <td>Russian</td>\n",
       "      <td>1</td>\n",
       "      <td>NonEnglish</td>\n",
       "      <td>-0.050000</td>\n",
       "      <td>0.050000</td>\n",
       "    </tr>\n",
       "    <tr>\n",
       "      <th>1845533</th>\n",
       "      <td>2.260578e+09</td>\n",
       "      <td>YAROSLAVVELIKY</td>\n",
       "      <td>🆘‼️🛩🔥USA: Dashcam footage shows the moment a p...</td>\n",
       "      <td>United States</td>\n",
       "      <td>English</td>\n",
       "      <td>5/4/2017 8:07</td>\n",
       "      <td>83</td>\n",
       "      <td>4019</td>\n",
       "      <td>1708</td>\n",
       "      <td>RETWEET</td>\n",
       "      <td>Russian</td>\n",
       "      <td>1</td>\n",
       "      <td>NonEnglish</td>\n",
       "      <td>0.000000</td>\n",
       "      <td>1.000000</td>\n",
       "    </tr>\n",
       "    <tr>\n",
       "      <th>1849286</th>\n",
       "      <td>2.426557e+09</td>\n",
       "      <td>ZNATNIYBUKHARIK</td>\n",
       "      <td>Followers - 337, Unfollowers - 97. I didn't kn...</td>\n",
       "      <td>United States</td>\n",
       "      <td>English</td>\n",
       "      <td>11/27/2015 11:37</td>\n",
       "      <td>1637</td>\n",
       "      <td>739</td>\n",
       "      <td>7016</td>\n",
       "      <td>RETWEET</td>\n",
       "      <td>Russian</td>\n",
       "      <td>1</td>\n",
       "      <td>NonEnglish</td>\n",
       "      <td>0.000000</td>\n",
       "      <td>0.357143</td>\n",
       "    </tr>\n",
       "    <tr>\n",
       "      <th>1849287</th>\n",
       "      <td>2.426557e+09</td>\n",
       "      <td>ZNATNIYBUKHARIK</td>\n",
       "      <td>My week on Twitter: 96 New Followers, 1.43K Me...</td>\n",
       "      <td>United States</td>\n",
       "      <td>English</td>\n",
       "      <td>12/21/2015 13:40</td>\n",
       "      <td>1632</td>\n",
       "      <td>744</td>\n",
       "      <td>7178</td>\n",
       "      <td>RETWEET</td>\n",
       "      <td>Russian</td>\n",
       "      <td>1</td>\n",
       "      <td>NonEnglish</td>\n",
       "      <td>0.136364</td>\n",
       "      <td>0.454545</td>\n",
       "    </tr>\n",
       "    <tr>\n",
       "      <th>1860605</th>\n",
       "      <td>3.093874e+09</td>\n",
       "      <td>_YOUR_LIFESTYLE</td>\n",
       "      <td>Amazing! Found my script: Download ReBuild - W...</td>\n",
       "      <td>United States</td>\n",
       "      <td>English</td>\n",
       "      <td>6/25/2016 11:27</td>\n",
       "      <td>40</td>\n",
       "      <td>40</td>\n",
       "      <td>817</td>\n",
       "      <td>NaN</td>\n",
       "      <td>Russian</td>\n",
       "      <td>0</td>\n",
       "      <td>NonEnglish</td>\n",
       "      <td>0.750000</td>\n",
       "      <td>0.900000</td>\n",
       "    </tr>\n",
       "  </tbody>\n",
       "</table>\n",
       "<p>3555 rows × 15 columns</p>\n",
       "</div>"
      ],
      "text/plain": [
       "         external_author_id           author  \\\n",
       "15800          2.398931e+09    5EMEN5EMENICH   \n",
       "37258          2.186395e+09    AHMADYUSUFF03   \n",
       "53357          2.425594e+09     ALENAZELDINA   \n",
       "53358          2.531597e+09      ALEXBORONIN   \n",
       "100580         2.252047e+09     ANASTASSIAZZ   \n",
       "...                     ...              ...   \n",
       "1845532        2.260578e+09   YAROSLAVVELIKY   \n",
       "1845533        2.260578e+09   YAROSLAVVELIKY   \n",
       "1849286        2.426557e+09  ZNATNIYBUKHARIK   \n",
       "1849287        2.426557e+09  ZNATNIYBUKHARIK   \n",
       "1860605        3.093874e+09  _YOUR_LIFESTYLE   \n",
       "\n",
       "                                                   content         region  \\\n",
       "15800    World leaders, please wake up. #PutinPeacemake...  United States   \n",
       "37258           Modern and perfect. http://t.co/8xxrOSwpag  United States   \n",
       "53357    Since the topic of children killed by Kiev eli...  United States   \n",
       "53358    '@realDonaldTrump @megynkelly From Russia http...  United States   \n",
       "100580   Berlin calls for discussion of #Assad's future...  United States   \n",
       "...                                                    ...            ...   \n",
       "1845532  The Hillary Clinton Excuse Express rolls along...  United States   \n",
       "1845533  🆘‼️🛩🔥USA: Dashcam footage shows the moment a p...  United States   \n",
       "1849286  Followers - 337, Unfollowers - 97. I didn't kn...  United States   \n",
       "1849287  My week on Twitter: 96 New Followers, 1.43K Me...  United States   \n",
       "1860605  Amazing! Found my script: Download ReBuild - W...  United States   \n",
       "\n",
       "        language      publish_date  following  followers  updates post_type  \\\n",
       "15800    English   9/28/2015 16:14        552        718    11196   RETWEET   \n",
       "37258    English   10/10/2015 7:28          8          0     1749   RETWEET   \n",
       "53357    English   12/6/2015 20:12        411        216     5127   RETWEET   \n",
       "53358    English   11/4/2015 13:30        431        371      675   RETWEET   \n",
       "100580   English    1/2/2017 14:10        772        223      214   RETWEET   \n",
       "...          ...               ...        ...        ...      ...       ...   \n",
       "1845532  English     5/4/2017 2:06         83       4020     1705   RETWEET   \n",
       "1845533  English     5/4/2017 8:07         83       4019     1708   RETWEET   \n",
       "1849286  English  11/27/2015 11:37       1637        739     7016   RETWEET   \n",
       "1849287  English  12/21/2015 13:40       1632        744     7178   RETWEET   \n",
       "1860605  English   6/25/2016 11:27         40         40      817       NaN   \n",
       "\n",
       "        account_type  retweet account_category  polarity  subjectivity  \n",
       "15800        Russian        1       NonEnglish  0.000000      0.000000  \n",
       "37258         Arabic        1       NonEnglish  0.600000      0.650000  \n",
       "53357        Russian        1       NonEnglish  0.150000      0.250000  \n",
       "53358        Russian        1       NonEnglish  0.000000      0.000000  \n",
       "100580       Russian        1       NonEnglish  0.000000      0.125000  \n",
       "...              ...      ...              ...       ...           ...  \n",
       "1845532      Russian        1       NonEnglish -0.050000      0.050000  \n",
       "1845533      Russian        1       NonEnglish  0.000000      1.000000  \n",
       "1849286      Russian        1       NonEnglish  0.000000      0.357143  \n",
       "1849287      Russian        1       NonEnglish  0.136364      0.454545  \n",
       "1860605      Russian        0       NonEnglish  0.750000      0.900000  \n",
       "\n",
       "[3555 rows x 15 columns]"
      ]
     },
     "execution_count": 45,
     "metadata": {},
     "output_type": "execute_result"
    }
   ],
   "source": [
    "df[df.account_category == 'NonEnglish']"
   ]
  },
  {
   "cell_type": "markdown",
   "id": "858eaf59",
   "metadata": {},
   "source": [
    "More importantly, we might want to dial down the number of account categories to analyze in order to get a clear understanding of the data.  \n",
    "We will focus on the account categories that were analyzed in the [Linvill and Warren paper](http://pwarren.people.clemson.edu/Linvill_Warren_TrollFactory.pdf)."
   ]
  },
  {
   "cell_type": "code",
   "execution_count": 56,
   "id": "f2a4eafa",
   "metadata": {},
   "outputs": [],
   "source": [
    "# filter out account categories not analysed in the Linvill & Warren paper\n",
    "df_plot = df.loc[(df.account_category != 'NonEnglish')  & \\\n",
    "                 (df.account_category != 'Unknown')     & \\\n",
    "                 (df.account_category != 'Commercial')]   \\\n",
    "            .copy().reset_index(drop=True)"
   ]
  },
  {
   "cell_type": "code",
   "execution_count": 57,
   "id": "2d898188",
   "metadata": {},
   "outputs": [
    {
     "name": "stdout",
     "output_type": "stream",
     "text": [
      "<class 'pandas.core.frame.DataFrame'>\n",
      "RangeIndex: 1738835 entries, 0 to 1738834\n",
      "Data columns (total 15 columns):\n",
      " #   Column              Dtype  \n",
      "---  ------              -----  \n",
      " 0   external_author_id  float64\n",
      " 1   author              object \n",
      " 2   content             object \n",
      " 3   region              object \n",
      " 4   language            object \n",
      " 5   publish_date        object \n",
      " 6   following           int64  \n",
      " 7   followers           int64  \n",
      " 8   updates             int64  \n",
      " 9   post_type           object \n",
      " 10  account_type        object \n",
      " 11  retweet             int64  \n",
      " 12  account_category    object \n",
      " 13  polarity            float64\n",
      " 14  subjectivity        float64\n",
      "dtypes: float64(3), int64(4), object(8)\n",
      "memory usage: 199.0+ MB\n"
     ]
    }
   ],
   "source": [
    "df_plot.info()"
   ]
  },
  {
   "cell_type": "markdown",
   "id": "59d2150f",
   "metadata": {},
   "source": [
    "We are still left with just under 1.75 million tweets. "
   ]
  },
  {
   "cell_type": "markdown",
   "id": "14a356f1",
   "metadata": {},
   "source": [
    "Let's take a quick look at the distributions of followers."
   ]
  },
  {
   "cell_type": "code",
   "execution_count": 84,
   "id": "37b80e78",
   "metadata": {},
   "outputs": [
    {
     "data": {
      "image/png": "[encoded data removed]",
      "text/plain": [
       "<Figure size 432x288 with 1 Axes>"
      ]
     },
     "metadata": {
      "needs_background": "light"
     },
     "output_type": "display_data"
    }
   ],
   "source": [
    "# IMPROVE THIS\n",
    "sns.histplot(data=df_plot.followers, bins=100)\n",
    "plt.xlim(0, 50000)\n",
    "plt.show()"
   ]
  },
  {
   "cell_type": "markdown",
   "id": "bed31cd7",
   "metadata": {},
   "source": [
    "We can see that the vast majority of tweets were made by trolls with a follower count of less than 10,000.  \n",
    "\n",
    "In order to analyze success in this analysis, we will be looking at the number of followers of the troll account.  \n",
    "In this case, we are going to set 10,000 followers as the threshold for success.\n",
    "\n",
    "We will also group the tweets by 'external_author_id' in order to avoid repeat counts of the same account."
   ]
  },
  {
   "cell_type": "code",
   "execution_count": 88,
   "id": "43ab769c",
   "metadata": {},
   "outputs": [],
   "source": [
    "MIN_FOLLOWERS = 10000           # somewhat arbitrary minimum follower count, 10,000 in this case to only analyse successful troll accounts\n",
    "MAX_FOLLOWERS = float('inf')    # maximum number of followers to include in the analysis, may be specified later\n",
    "\n",
    "# group by external_author_id in order to avoid repeat analysis of the same account\n",
    "df_plot = df_plot.loc[(df_plot.followers > MIN_FOLLOWERS) & (df_plot.followers < MAX_FOLLOWERS)] \\\n",
    "                 .groupby('external_author_id').agg({'account_category': 'first',\n",
    "                                                     'following':        np.mean,\n",
    "                                                     'followers':        np.mean,\n",
    "                                                     'updates':          np.mean,\n",
    "                                                     'retweet':          np.mean,\n",
    "                                                     'polarity':         np.mean,\n",
    "                                                     'subjectivity':     np.mean}).reset_index()"
   ]
  },
  {
   "cell_type": "code",
   "execution_count": 93,
   "id": "ee2b794c",
   "metadata": {},
   "outputs": [
    {
     "name": "stdout",
     "output_type": "stream",
     "text": [
      "<class 'pandas.core.frame.DataFrame'>\n",
      "RangeIndex: 58 entries, 0 to 57\n",
      "Data columns (total 8 columns):\n",
      " #   Column              Non-Null Count  Dtype  \n",
      "---  ------              --------------  -----  \n",
      " 0   external_author_id  58 non-null     float64\n",
      " 1   account_category    58 non-null     object \n",
      " 2   following           58 non-null     float64\n",
      " 3   followers           58 non-null     float64\n",
      " 4   updates             58 non-null     float64\n",
      " 5   retweet             58 non-null     float64\n",
      " 6   polarity            58 non-null     float64\n",
      " 7   subjectivity        58 non-null     float64\n",
      "dtypes: float64(7), object(1)\n",
      "memory usage: 3.8+ KB\n"
     ]
    }
   ],
   "source": [
    "df_plot.info()"
   ]
  },
  {
   "cell_type": "markdown",
   "id": "7f13273a",
   "metadata": {},
   "source": [
    "This leaves us with 58 individual successful troll accounts. "
   ]
  },
  {
   "cell_type": "code",
   "execution_count": 92,
   "id": "43eb8bf0",
   "metadata": {},
   "outputs": [
    {
     "data": {
      "text/html": [
       "<div>\n",
       "<style scoped>\n",
       "    .dataframe tbody tr th:only-of-type {\n",
       "        vertical-align: middle;\n",
       "    }\n",
       "\n",
       "    .dataframe tbody tr th {\n",
       "        vertical-align: top;\n",
       "    }\n",
       "\n",
       "    .dataframe thead th {\n",
       "        text-align: right;\n",
       "    }\n",
       "</style>\n",
       "<table border=\"1\" class=\"dataframe\">\n",
       "  <thead>\n",
       "    <tr style=\"text-align: right;\">\n",
       "      <th></th>\n",
       "      <th>external_author_id</th>\n",
       "      <th>account_category</th>\n",
       "      <th>following</th>\n",
       "      <th>followers</th>\n",
       "      <th>updates</th>\n",
       "      <th>retweet</th>\n",
       "      <th>polarity</th>\n",
       "      <th>subjectivity</th>\n",
       "    </tr>\n",
       "  </thead>\n",
       "  <tbody>\n",
       "    <tr>\n",
       "      <th>0</th>\n",
       "      <td>1.687184e+09</td>\n",
       "      <td>LeftTroll</td>\n",
       "      <td>7010.135730</td>\n",
       "      <td>13221.878847</td>\n",
       "      <td>13667.435050</td>\n",
       "      <td>0.697117</td>\n",
       "      <td>-0.012913</td>\n",
       "      <td>0.347428</td>\n",
       "    </tr>\n",
       "    <tr>\n",
       "      <th>1</th>\n",
       "      <td>2.484643e+09</td>\n",
       "      <td>NewsFeed</td>\n",
       "      <td>7066.417235</td>\n",
       "      <td>17636.154758</td>\n",
       "      <td>1556.253142</td>\n",
       "      <td>0.024776</td>\n",
       "      <td>0.023272</td>\n",
       "      <td>0.204788</td>\n",
       "    </tr>\n",
       "    <tr>\n",
       "      <th>2</th>\n",
       "      <td>2.494112e+09</td>\n",
       "      <td>NewsFeed</td>\n",
       "      <td>6579.642109</td>\n",
       "      <td>12975.633762</td>\n",
       "      <td>16710.993953</td>\n",
       "      <td>0.001107</td>\n",
       "      <td>0.041540</td>\n",
       "      <td>0.207917</td>\n",
       "    </tr>\n",
       "  </tbody>\n",
       "</table>\n",
       "</div>"
      ],
      "text/plain": [
       "   external_author_id account_category    following     followers  \\\n",
       "0        1.687184e+09        LeftTroll  7010.135730  13221.878847   \n",
       "1        2.484643e+09         NewsFeed  7066.417235  17636.154758   \n",
       "2        2.494112e+09         NewsFeed  6579.642109  12975.633762   \n",
       "\n",
       "        updates   retweet  polarity  subjectivity  \n",
       "0  13667.435050  0.697117 -0.012913      0.347428  \n",
       "1   1556.253142  0.024776  0.023272      0.204788  \n",
       "2  16710.993953  0.001107  0.041540      0.207917  "
      ]
     },
     "execution_count": 92,
     "metadata": {},
     "output_type": "execute_result"
    }
   ],
   "source": [
    "df_plot.head(3)"
   ]
  },
  {
   "cell_type": "markdown",
   "id": "84176a05",
   "metadata": {},
   "source": [
    "We can take a quick look at which account categories have the most successful accounts."
   ]
  },
  {
   "cell_type": "code",
   "execution_count": 94,
   "id": "7bd244e0",
   "metadata": {},
   "outputs": [
    {
     "data": {
      "text/plain": [
       "<AxesSubplot:>"
      ]
     },
     "execution_count": 94,
     "metadata": {},
     "output_type": "execute_result"
    },
    {
     "data": {
      "image/png": "[encoded data removed]",
      "text/plain": [
       "<Figure size 432x288 with 1 Axes>"
      ]
     },
     "metadata": {
      "needs_background": "light"
     },
     "output_type": "display_data"
    }
   ],
   "source": [
    "# IMPROVE THIS\n",
    "df_plot.account_category.value_counts().plot(kind='bar')"
   ]
  },
  {
   "cell_type": "markdown",
   "id": "a470528b",
   "metadata": {},
   "source": [
    "### What characteristics of troll accounts and their tweets make them successful?\n",
    "\n",
    "We can now analyze what is making these accounts successful.\n",
    "\n",
    "We can create a correlation matrix to see how the number of followers and other characteristics of the account affect one another. "
   ]
  },
  {
   "cell_type": "code",
   "execution_count": 95,
   "id": "ac90a669-179b-457a-9f21-a01df2199055",
   "metadata": {},
   "outputs": [],
   "source": [
    "# columns to not be included in the correlation matrix\n",
    "col_to_drop = ['external_author_id', 'updates']\n",
    "\n",
    "df_corr = df_plot.drop(columns=col_to_drop).copy().corr()\n",
    "mask = np.tril(np.ones_like(df_corr, dtype=bool))\n",
    "\n",
    "# working with the PairGrid to manually change labels is a pain, so changing it in the df\n",
    "# df_plot.rename({'following':    'Following',\n",
    "#                 'followers':    'Followers',\n",
    "#                 'polarity':     'Polarity',\n",
    "#                 'subjectivity': 'Subjectivity',\n",
    "#                 'retweet':      'Retweet'}, axis='columns', inplace=True)"
   ]
  },
  {
   "cell_type": "code",
   "execution_count": 96,
   "id": "07c8bd05-dae3-4437-b692-abb5809cebeb",
   "metadata": {},
   "outputs": [],
   "source": [
    "# Function used with PairGrid object\n",
    "def hide_current_axis(*args, **kwargs):\n",
    "    \"\"\"Hides the current axis\"\"\"\n",
    "    plt.gca().set_visible(False)"
   ]
  },
  {
   "cell_type": "markdown",
   "id": "d8be59d8",
   "metadata": {},
   "source": [
    "**Plot (1?):** Relationships Between Different Aspects of Successful Russian Troll Accounts and Their Tweets"
   ]
  },
  {
   "cell_type": "code",
   "execution_count": 279,
   "id": "178d68bd",
   "metadata": {},
   "outputs": [],
   "source": [
    "# create figure and set default font size\n",
    "fig = plt.figure(figsize=(12,12))\n",
    "plt.rcParams.update({'font.size': 14})\n",
    "\n",
    "# create pairgrid object\n",
    "pg = sns.PairGrid(df_plot.drop(columns=col_to_drop), hue='account_category', diag_sharey=False)\n",
    "\n",
    "# create new axis for heatmap and colorbar\n",
    "(xmin, _), (_, ymax) = pg.axes[0, 0].get_position().get_points()\n",
    "(_, ymin), (xmax, _) = pg.axes[-1, -1].get_position().get_points()\n",
    "# ax1 = pg.fig.add_axes([xmin - 0.061, ymin - 0.003, xmax - xmin, ymax - ymin], facecolor='none')\n",
    "# ax2 = pg.fig.add_axes([0.91, 0.266, 0.04, 0.678], facecolor='none')\n",
    "ax1 = pg.fig.add_axes([xmin - 0.052, ymin + 0.01, xmax - xmin + 0.003, ymax - ymin + 0.003], facecolor='none')\n",
    "ax2 = pg.fig.add_axes([0.91, 0.27, 0.04, 0.678], facecolor='none')\n",
    "\n",
    "# create heatmap labels and colormap\n",
    "ax1_labels = ['', 'Followers', 'Retweet', 'Polarity', 'Subjectivity']\n",
    "ax2_labels = ['Following', 'Followers', 'Retweet', 'Polarity', '']\n",
    "cmap = sns.diverging_palette(0, 210, 100, 60, as_cmap=True)\n",
    "\n",
    "# create and edit heatmap and colorbar\n",
    "hm = sns.heatmap(df_corr, mask=mask, cmap=cmap, vmax=0.75, vmin=-0.25, square=True,\n",
    "                 linewidths=0, annot=True, annot_kws={'size': 22}, ax=ax1,\n",
    "                 cbar=True, cbar_ax=ax2,\n",
    "                 yticklabels=ax2_labels, xticklabels=ax1_labels)\n",
    "\n",
    "hm.tick_params(left=False, right=False, top=False, bottom=False,\n",
    "               labelleft=False, labelright=True, labeltop=True, labelbottom=False,\n",
    "               labelsize=16)\n",
    "hm.set_yticklabels(hm.get_yticklabels(), va='center')\n",
    "\n",
    "cbar = hm.collections[0].colorbar\n",
    "cbar.set_ticks([-0.25, 0, 0.25, 0.5, 0.75])\n",
    "cbar.ax.tick_params(labelsize=16)\n",
    "cbar.outline.set_linewidth(0)\n",
    "cbar.outline.set_edgecolor('white')\n",
    "\n",
    "# configure pairgrid object\n",
    "pg.map_upper(hide_current_axis)\n",
    "pg.map_diag(sns.kdeplot, legend=False, shade=True, alpha=0.5, linewidth=1, thresh=0)\n",
    "pg.map_offdiag(sns.scatterplot, alpha=0.5)\n",
    "\n",
    "# add a legend and legend title\n",
    "pg.add_legend(title='', adjust_subtitles=True, bbox_to_anchor=(0.53, -0.119, .5, .5),\n",
    "              fontsize=14)\n",
    "plt.text(.56, 9.5, 'Account Category    ', fontsize=18, weight='medium')\n",
    "\n",
    "# add linewidths to the heatmap manually\n",
    "x_pos = [0.39, -0.06, -0.512, -0.962]\n",
    "y_pos = [65.4, 52.6, 39.81, 27.05]\n",
    "line_count = [23, 17, 12, 7]\n",
    "for i in range(4):\n",
    "    plt.text(0.55, y_pos[i], '_' * line_count[i], fontsize=60, weight='heavy', c='white', ha='right')\n",
    "    plt.text(x_pos[i], 64.9, '_' * line_count[i], fontsize=60, weight='heavy', c='white', va='top', rotation=90)\n",
    "\n",
    "# configure and edit labels\n",
    "label_pads = [10, 10, 23, 23, 31.5]\n",
    "axis_labels = ['Following', 'Followers', 'Retweet', 'Polarity', 'Subjectivity']\n",
    "\n",
    "for idx, ax in enumerate(pg.axes.flat[0:21:5]):\n",
    "    ax.set_ylabel(axis_labels[idx], labelpad=label_pads[idx], fontsize=14)\n",
    "\n",
    "for idx, ax in enumerate(pg.axes.flat[:5]):\n",
    "    ax.set_xlabel(axis_labels[idx])\n",
    "\n",
    "for ax in pg.axes.flat[1:21:5]:\n",
    "    ax.set_xticks([0, 50000])\n",
    "\n",
    "plt.suptitle('Relationships Between Different Aspects of Successful Russian Troll Accounts and Their Tweets',\n",
    "             fontsize=22, y=1.035, ha='center', va='center')\n",
    "\n",
    "# plt.savefig('tweet_characteristics.png', bbox_inches='tight', facecolor='w', dpi=200)\n",
    "# plt.savefig('tweet_characteristics.png', bbox_inches='tight', facecolor='w', dpi=800)\n",
    "\n",
    "plt.show()"
   ]
  }
 ],
 "metadata": {
  "interpreter": {
   "hash": "fcab71d14ab222f12d2d9217900d57e356f057c5f0793ac176d8ad5b9af941a9"
  },
  "kernelspec": {
   "display_name": "default:Python",
   "language": "python",
   "name": "python3"
  },
  "language_info": {
   "codemirror_mode": {
    "name": "ipython",
    "version": 3
   },
   "file_extension": ".py",
   "mimetype": "text/x-python",
   "name": "python",
   "nbconvert_exporter": "python",
   "pygments_lexer": "ipython3",
   "version": "3.9.6"
  }
 },
 "nbformat": 4,
 "nbformat_minor": 5
}
